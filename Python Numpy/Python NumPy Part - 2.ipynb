{
 "cells": [
  {
   "cell_type": "code",
   "execution_count": 1,
   "id": "a1ef56c7",
   "metadata": {},
   "outputs": [],
   "source": [
    "import numpy as np"
   ]
  },
  {
   "cell_type": "markdown",
   "id": "fb2d8dc3",
   "metadata": {},
   "source": [
    "### Array Manipulation"
   ]
  },
  {
   "cell_type": "code",
   "execution_count": 4,
   "id": "1a27eca9",
   "metadata": {},
   "outputs": [],
   "source": [
    "myarr = np.array([1,2,3])"
   ]
  },
  {
   "cell_type": "code",
   "execution_count": 5,
   "id": "f9bf2621",
   "metadata": {},
   "outputs": [
    {
     "data": {
      "text/plain": [
       "array([1, 2, 3])"
      ]
     },
     "execution_count": 5,
     "metadata": {},
     "output_type": "execute_result"
    }
   ],
   "source": [
    "myarr"
   ]
  },
  {
   "cell_type": "markdown",
   "id": "c892952b",
   "metadata": {},
   "source": [
    "### Append an item "
   ]
  },
  {
   "cell_type": "code",
   "execution_count": 6,
   "id": "136e20b0",
   "metadata": {},
   "outputs": [
    {
     "data": {
      "text/plain": [
       "array([ 1,  2,  3, 10])"
      ]
     },
     "execution_count": 6,
     "metadata": {},
     "output_type": "execute_result"
    }
   ],
   "source": [
    "np.append(arr = myarr, values = 10)"
   ]
  },
  {
   "cell_type": "code",
   "execution_count": 7,
   "id": "b2307deb",
   "metadata": {},
   "outputs": [
    {
     "data": {
      "text/plain": [
       "array([1, 2, 3])"
      ]
     },
     "execution_count": 7,
     "metadata": {},
     "output_type": "execute_result"
    }
   ],
   "source": [
    "myarr"
   ]
  },
  {
   "cell_type": "code",
   "execution_count": 8,
   "id": "95cabe4f",
   "metadata": {},
   "outputs": [],
   "source": [
    "myarr = np.append(arr = myarr, values = 10)"
   ]
  },
  {
   "cell_type": "code",
   "execution_count": 9,
   "id": "31257e59",
   "metadata": {},
   "outputs": [
    {
     "data": {
      "text/plain": [
       "array([ 1,  2,  3, 10])"
      ]
     },
     "execution_count": 9,
     "metadata": {},
     "output_type": "execute_result"
    }
   ],
   "source": [
    "myarr"
   ]
  },
  {
   "cell_type": "code",
   "execution_count": 10,
   "id": "83042725",
   "metadata": {},
   "outputs": [],
   "source": [
    "# How to add multiple elements in the array\n",
    "myarr = np.append(arr = myarr, values = [5,7])"
   ]
  },
  {
   "cell_type": "code",
   "execution_count": 11,
   "id": "93fe6022",
   "metadata": {},
   "outputs": [
    {
     "data": {
      "text/plain": [
       "array([ 1,  2,  3, 10,  5,  7])"
      ]
     },
     "execution_count": 11,
     "metadata": {},
     "output_type": "execute_result"
    }
   ],
   "source": [
    "myarr"
   ]
  },
  {
   "cell_type": "code",
   "execution_count": 13,
   "id": "41053f5a",
   "metadata": {},
   "outputs": [],
   "source": [
    "myarr = np.append(arr = myarr, values = (11,12))"
   ]
  },
  {
   "cell_type": "code",
   "execution_count": 14,
   "id": "ea2fa97d",
   "metadata": {},
   "outputs": [
    {
     "data": {
      "text/plain": [
       "array([ 1,  2,  3, 10,  5,  7, 11, 12])"
      ]
     },
     "execution_count": 14,
     "metadata": {},
     "output_type": "execute_result"
    }
   ],
   "source": [
    "myarr"
   ]
  },
  {
   "cell_type": "code",
   "execution_count": 16,
   "id": "c2102a77",
   "metadata": {},
   "outputs": [],
   "source": [
    "myarr = np.append(arr = myarr, values = np.array([55,77]))"
   ]
  },
  {
   "cell_type": "code",
   "execution_count": 17,
   "id": "9de17862",
   "metadata": {},
   "outputs": [
    {
     "data": {
      "text/plain": [
       "array([ 1,  2,  3, 10,  5,  7, 11, 12, 55, 77])"
      ]
     },
     "execution_count": 17,
     "metadata": {},
     "output_type": "execute_result"
    }
   ],
   "source": [
    "myarr"
   ]
  },
  {
   "cell_type": "markdown",
   "id": "9bba9560",
   "metadata": {},
   "source": [
    "### Removing particular element from the array"
   ]
  },
  {
   "cell_type": "code",
   "execution_count": 18,
   "id": "5a0b8aa1",
   "metadata": {},
   "outputs": [
    {
     "data": {
      "text/plain": [
       "array([ 1,  2,  3, 10,  5,  7, 11, 55, 77])"
      ]
     },
     "execution_count": 18,
     "metadata": {},
     "output_type": "execute_result"
    }
   ],
   "source": [
    "np.delete(arr = myarr, obj=-3)"
   ]
  },
  {
   "cell_type": "markdown",
   "id": "6b96f422",
   "metadata": {},
   "source": [
    "### Can we delete multiple elements"
   ]
  },
  {
   "cell_type": "code",
   "execution_count": 19,
   "id": "ea1292ff",
   "metadata": {},
   "outputs": [
    {
     "data": {
      "text/plain": [
       "array([ 2,  3,  5,  7, 11, 12, 77])"
      ]
     },
     "execution_count": 19,
     "metadata": {},
     "output_type": "execute_result"
    }
   ],
   "source": [
    "np.delete(myarr, [3,-2, 0])"
   ]
  },
  {
   "cell_type": "markdown",
   "id": "a13f2240",
   "metadata": {},
   "source": [
    "### How we can replace an element / item"
   ]
  },
  {
   "cell_type": "code",
   "execution_count": 20,
   "id": "8c637599",
   "metadata": {},
   "outputs": [
    {
     "data": {
      "text/plain": [
       "array([ 1,  2,  3, 10,  5,  7, 11, 12, 55, 77])"
      ]
     },
     "execution_count": 20,
     "metadata": {},
     "output_type": "execute_result"
    }
   ],
   "source": [
    "myarr"
   ]
  },
  {
   "cell_type": "code",
   "execution_count": 21,
   "id": "3f42db01",
   "metadata": {},
   "outputs": [
    {
     "data": {
      "text/plain": [
       "10"
      ]
     },
     "execution_count": 21,
     "metadata": {},
     "output_type": "execute_result"
    }
   ],
   "source": [
    "myarr[3]"
   ]
  },
  {
   "cell_type": "code",
   "execution_count": 22,
   "id": "3fc4e5a4",
   "metadata": {},
   "outputs": [],
   "source": [
    "myarr[3] = 99"
   ]
  },
  {
   "cell_type": "code",
   "execution_count": 23,
   "id": "1e8414b2",
   "metadata": {},
   "outputs": [
    {
     "data": {
      "text/plain": [
       "array([ 1,  2,  3, 99,  5,  7, 11, 12, 55, 77])"
      ]
     },
     "execution_count": 23,
     "metadata": {},
     "output_type": "execute_result"
    }
   ],
   "source": [
    "myarr"
   ]
  },
  {
   "cell_type": "code",
   "execution_count": 24,
   "id": "fd63705e",
   "metadata": {},
   "outputs": [
    {
     "data": {
      "text/plain": [
       "array([ 1,  2,  3, 99,  5,  7, 11, 12, 55, 77])"
      ]
     },
     "execution_count": 24,
     "metadata": {},
     "output_type": "execute_result"
    }
   ],
   "source": [
    "myarr"
   ]
  },
  {
   "cell_type": "code",
   "execution_count": 25,
   "id": "4a04713f",
   "metadata": {},
   "outputs": [
    {
     "data": {
      "text/plain": [
       "array([ 1,  2,  3, 99,  5,  7, 12, 55, 77])"
      ]
     },
     "execution_count": 25,
     "metadata": {},
     "output_type": "execute_result"
    }
   ],
   "source": [
    "np.delete(myarr, np.where(myarr == 11))"
   ]
  },
  {
   "cell_type": "code",
   "execution_count": 26,
   "id": "40868efe",
   "metadata": {},
   "outputs": [
    {
     "data": {
      "text/plain": [
       "array([ 1,  2,  3,  5,  7, 12])"
      ]
     },
     "execution_count": 26,
     "metadata": {},
     "output_type": "execute_result"
    }
   ],
   "source": [
    "np.delete(myarr, np.where(myarr % 11 == 0))"
   ]
  },
  {
   "cell_type": "code",
   "execution_count": 27,
   "id": "7a87261c",
   "metadata": {},
   "outputs": [
    {
     "data": {
      "text/plain": [
       "array([ 1,  2,  3, 99,  5,  7, 11, 12, 55, 77])"
      ]
     },
     "execution_count": 27,
     "metadata": {},
     "output_type": "execute_result"
    }
   ],
   "source": [
    "myarr"
   ]
  },
  {
   "cell_type": "code",
   "execution_count": 28,
   "id": "c3138298",
   "metadata": {},
   "outputs": [
    {
     "data": {
      "text/plain": [
       "array([55, 77])"
      ]
     },
     "execution_count": 28,
     "metadata": {},
     "output_type": "execute_result"
    }
   ],
   "source": [
    "myarr[-2:]"
   ]
  },
  {
   "cell_type": "code",
   "execution_count": 29,
   "id": "0cd99256",
   "metadata": {},
   "outputs": [],
   "source": [
    "myarr[-2:] = [10,20]"
   ]
  },
  {
   "cell_type": "code",
   "execution_count": 30,
   "id": "04882dc4",
   "metadata": {},
   "outputs": [
    {
     "data": {
      "text/plain": [
       "array([ 1,  2,  3, 99,  5,  7, 11, 12, 10, 20])"
      ]
     },
     "execution_count": 30,
     "metadata": {},
     "output_type": "execute_result"
    }
   ],
   "source": [
    "myarr"
   ]
  },
  {
   "cell_type": "code",
   "execution_count": 32,
   "id": "f35fc7c3",
   "metadata": {},
   "outputs": [
    {
     "data": {
      "text/plain": [
       "array([99, 10])"
      ]
     },
     "execution_count": 32,
     "metadata": {},
     "output_type": "execute_result"
    }
   ],
   "source": [
    "myarr[[3,8]]"
   ]
  },
  {
   "cell_type": "code",
   "execution_count": 33,
   "id": "8733e7a0",
   "metadata": {},
   "outputs": [],
   "source": [
    "myarr[[3,8]] = [55,99]"
   ]
  },
  {
   "cell_type": "code",
   "execution_count": 34,
   "id": "d10f90ab",
   "metadata": {},
   "outputs": [
    {
     "data": {
      "text/plain": [
       "array([ 1,  2,  3, 55,  5,  7, 11, 12, 99, 20])"
      ]
     },
     "execution_count": 34,
     "metadata": {},
     "output_type": "execute_result"
    }
   ],
   "source": [
    "myarr"
   ]
  },
  {
   "cell_type": "code",
   "execution_count": 35,
   "id": "3e34f782",
   "metadata": {},
   "outputs": [],
   "source": [
    "myarr[[3,8]] = [100]"
   ]
  },
  {
   "cell_type": "code",
   "execution_count": 36,
   "id": "6ebc86cf",
   "metadata": {},
   "outputs": [
    {
     "data": {
      "text/plain": [
       "array([  1,   2,   3, 100,   5,   7,  11,  12, 100,  20])"
      ]
     },
     "execution_count": 36,
     "metadata": {},
     "output_type": "execute_result"
    }
   ],
   "source": [
    "myarr"
   ]
  },
  {
   "cell_type": "code",
   "execution_count": 37,
   "id": "a89ca26c",
   "metadata": {},
   "outputs": [],
   "source": [
    "myarr[[0,-1]] = [50]"
   ]
  },
  {
   "cell_type": "code",
   "execution_count": 38,
   "id": "c21f8a42",
   "metadata": {},
   "outputs": [
    {
     "data": {
      "text/plain": [
       "array([ 50,   2,   3, 100,   5,   7,  11,  12, 100,  50])"
      ]
     },
     "execution_count": 38,
     "metadata": {},
     "output_type": "execute_result"
    }
   ],
   "source": [
    "myarr"
   ]
  },
  {
   "cell_type": "code",
   "execution_count": 39,
   "id": "cbb7946c",
   "metadata": {},
   "outputs": [],
   "source": [
    "np_arr = np.array([\"apple\",'orange','lemon'])\n",
    "np_arr = np.append(np_arr,['bnana','grapes'])"
   ]
  },
  {
   "cell_type": "code",
   "execution_count": 40,
   "id": "9d1bbb56",
   "metadata": {},
   "outputs": [
    {
     "data": {
      "text/plain": [
       "array(['apple', 'orange', 'lemon', 'bnana', 'grapes'], dtype='<U6')"
      ]
     },
     "execution_count": 40,
     "metadata": {},
     "output_type": "execute_result"
    }
   ],
   "source": [
    "np_arr"
   ]
  },
  {
   "cell_type": "code",
   "execution_count": 41,
   "id": "2c01b2ac",
   "metadata": {},
   "outputs": [],
   "source": [
    "np_arr = np.delete(np_arr, [0,1])"
   ]
  },
  {
   "cell_type": "code",
   "execution_count": 42,
   "id": "5babe38c",
   "metadata": {},
   "outputs": [
    {
     "data": {
      "text/plain": [
       "array(['lemon', 'bnana', 'grapes'], dtype='<U6')"
      ]
     },
     "execution_count": 42,
     "metadata": {},
     "output_type": "execute_result"
    }
   ],
   "source": [
    "np_arr"
   ]
  },
  {
   "cell_type": "markdown",
   "id": "af6c1274",
   "metadata": {},
   "source": [
    "### Adding elements to 2d Arrays"
   ]
  },
  {
   "cell_type": "code",
   "execution_count": 43,
   "id": "f7d4880e",
   "metadata": {},
   "outputs": [],
   "source": [
    "np_arr = np.array([[1,2,3,4],[-4,-3,-2,-1]])"
   ]
  },
  {
   "cell_type": "code",
   "execution_count": 44,
   "id": "42e73a34",
   "metadata": {},
   "outputs": [
    {
     "data": {
      "text/plain": [
       "array([[ 1,  2,  3,  4],\n",
       "       [-4, -3, -2, -1]])"
      ]
     },
     "execution_count": 44,
     "metadata": {},
     "output_type": "execute_result"
    }
   ],
   "source": [
    "np_arr"
   ]
  },
  {
   "cell_type": "code",
   "execution_count": 45,
   "id": "5f760186",
   "metadata": {},
   "outputs": [
    {
     "data": {
      "text/plain": [
       "(2, 4)"
      ]
     },
     "execution_count": 45,
     "metadata": {},
     "output_type": "execute_result"
    }
   ],
   "source": [
    "np_arr.shape"
   ]
  },
  {
   "cell_type": "code",
   "execution_count": 56,
   "id": "3d790ead",
   "metadata": {},
   "outputs": [],
   "source": [
    "np_arr = np.append(np_arr, 0) # by default works on 1-Dimensional array"
   ]
  },
  {
   "cell_type": "code",
   "execution_count": 47,
   "id": "95a27b13",
   "metadata": {},
   "outputs": [
    {
     "data": {
      "text/plain": [
       "array([ 1,  2,  3,  4, -4, -3, -2, -1,  0])"
      ]
     },
     "execution_count": 47,
     "metadata": {},
     "output_type": "execute_result"
    }
   ],
   "source": [
    "np_arr"
   ]
  },
  {
   "cell_type": "code",
   "execution_count": 49,
   "id": "c0ab4ee4",
   "metadata": {},
   "outputs": [
    {
     "data": {
      "text/plain": [
       "(9,)"
      ]
     },
     "execution_count": 49,
     "metadata": {},
     "output_type": "execute_result"
    }
   ],
   "source": [
    "np_arr.shape"
   ]
  },
  {
   "cell_type": "code",
   "execution_count": 50,
   "id": "3cc725fb",
   "metadata": {},
   "outputs": [
    {
     "data": {
      "text/plain": [
       "array([ 50,   2,   3, 100,   5,   7,  11,  12, 100,  50])"
      ]
     },
     "execution_count": 50,
     "metadata": {},
     "output_type": "execute_result"
    }
   ],
   "source": [
    "myarr"
   ]
  },
  {
   "cell_type": "code",
   "execution_count": 51,
   "id": "2386b642",
   "metadata": {},
   "outputs": [
    {
     "data": {
      "text/plain": [
       "50"
      ]
     },
     "execution_count": 51,
     "metadata": {},
     "output_type": "execute_result"
    }
   ],
   "source": [
    "myarr[-1]"
   ]
  },
  {
   "cell_type": "code",
   "execution_count": 52,
   "id": "55cf2d96",
   "metadata": {},
   "outputs": [
    {
     "ename": "IndexError",
     "evalue": "too many indices for array: array is 1-dimensional, but 2 were indexed",
     "output_type": "error",
     "traceback": [
      "\u001b[1;31m---------------------------------------------------------------------------\u001b[0m",
      "\u001b[1;31mIndexError\u001b[0m                                Traceback (most recent call last)",
      "Cell \u001b[1;32mIn[52], line 1\u001b[0m\n\u001b[1;32m----> 1\u001b[0m \u001b[43mmyarr\u001b[49m\u001b[43m[\u001b[49m\u001b[38;5;241;43m-\u001b[39;49m\u001b[38;5;241;43m1\u001b[39;49m\u001b[43m,\u001b[49m\u001b[38;5;241;43m0\u001b[39;49m\u001b[43m]\u001b[49m\n",
      "\u001b[1;31mIndexError\u001b[0m: too many indices for array: array is 1-dimensional, but 2 were indexed"
     ]
    }
   ],
   "source": [
    "myarr[-1,0]"
   ]
  },
  {
   "cell_type": "code",
   "execution_count": 53,
   "id": "0582b6ef",
   "metadata": {},
   "outputs": [
    {
     "data": {
      "text/plain": [
       "array([50, 50])"
      ]
     },
     "execution_count": 53,
     "metadata": {},
     "output_type": "execute_result"
    }
   ],
   "source": [
    "myarr[[-1,0]]"
   ]
  },
  {
   "cell_type": "code",
   "execution_count": 54,
   "id": "8e369c3c",
   "metadata": {},
   "outputs": [
    {
     "data": {
      "text/plain": [
       "array([ 50,   2,   3, 100,   5,   7,  11,  12, 100,  50])"
      ]
     },
     "execution_count": 54,
     "metadata": {},
     "output_type": "execute_result"
    }
   ],
   "source": [
    "myarr"
   ]
  },
  {
   "cell_type": "code",
   "execution_count": 55,
   "id": "f19afb42",
   "metadata": {},
   "outputs": [
    {
     "data": {
      "text/plain": [
       "array([ 50,   5, 100,  50])"
      ]
     },
     "execution_count": 55,
     "metadata": {},
     "output_type": "execute_result"
    }
   ],
   "source": [
    "myarr[[0,4,8,-1]]"
   ]
  },
  {
   "cell_type": "code",
   "execution_count": 57,
   "id": "a4c9c72a",
   "metadata": {},
   "outputs": [],
   "source": [
    "arr = np.array([-2,4,5,7])"
   ]
  },
  {
   "cell_type": "code",
   "execution_count": 59,
   "id": "d14e216d",
   "metadata": {},
   "outputs": [
    {
     "data": {
      "text/plain": [
       "array([ 1,  2,  3,  4, -4, -3, -2, -1,  0,  0, -2,  4,  5,  7])"
      ]
     },
     "execution_count": 59,
     "metadata": {},
     "output_type": "execute_result"
    }
   ],
   "source": [
    "np.append(np_arr, arr,axis = 0)"
   ]
  },
  {
   "cell_type": "markdown",
   "id": "3ce93ec8",
   "metadata": {},
   "source": [
    "### Delete elements from 2d"
   ]
  },
  {
   "cell_type": "code",
   "execution_count": 61,
   "id": "bbcbcba9",
   "metadata": {},
   "outputs": [],
   "source": [
    "arr = np.array([[1,2,3],[4,5,6],[7,8,9]])"
   ]
  },
  {
   "cell_type": "code",
   "execution_count": 66,
   "id": "e7a92876",
   "metadata": {},
   "outputs": [
    {
     "data": {
      "text/plain": [
       "array([[1, 2, 3],\n",
       "       [4, 5, 6],\n",
       "       [7, 8, 9]])"
      ]
     },
     "execution_count": 66,
     "metadata": {},
     "output_type": "execute_result"
    }
   ],
   "source": [
    "arr "
   ]
  },
  {
   "cell_type": "code",
   "execution_count": 67,
   "id": "b3e8d4f2",
   "metadata": {},
   "outputs": [
    {
     "data": {
      "text/plain": [
       "array([2, 3, 4, 5, 6, 7, 8, 9])"
      ]
     },
     "execution_count": 67,
     "metadata": {},
     "output_type": "execute_result"
    }
   ],
   "source": [
    "np.delete(arr,0, axis = None) # here by default axis = None"
   ]
  },
  {
   "cell_type": "code",
   "execution_count": 64,
   "id": "48a5dc27",
   "metadata": {},
   "outputs": [
    {
     "data": {
      "text/plain": [
       "array([[1, 2, 3],\n",
       "       [4, 5, 6],\n",
       "       [7, 8, 9]])"
      ]
     },
     "execution_count": 64,
     "metadata": {},
     "output_type": "execute_result"
    }
   ],
   "source": [
    "arr"
   ]
  },
  {
   "cell_type": "code",
   "execution_count": 65,
   "id": "e2616cca",
   "metadata": {},
   "outputs": [
    {
     "data": {
      "text/plain": [
       "array([[4, 5, 6],\n",
       "       [7, 8, 9]])"
      ]
     },
     "execution_count": 65,
     "metadata": {},
     "output_type": "execute_result"
    }
   ],
   "source": [
    "np.delete(arr, 0, axis = 0) # axis = 0 -> for row"
   ]
  },
  {
   "cell_type": "code",
   "execution_count": 68,
   "id": "cdcfafb4",
   "metadata": {},
   "outputs": [
    {
     "data": {
      "text/plain": [
       "array([[1, 2, 3],\n",
       "       [4, 5, 6],\n",
       "       [7, 8, 9]])"
      ]
     },
     "execution_count": 68,
     "metadata": {},
     "output_type": "execute_result"
    }
   ],
   "source": [
    "arr"
   ]
  },
  {
   "cell_type": "code",
   "execution_count": 69,
   "id": "8aed814a",
   "metadata": {},
   "outputs": [
    {
     "data": {
      "text/plain": [
       "array([[2, 3],\n",
       "       [5, 6],\n",
       "       [8, 9]])"
      ]
     },
     "execution_count": 69,
     "metadata": {},
     "output_type": "execute_result"
    }
   ],
   "source": [
    "np.delete(arr, 0, axis = 1) # axis = 1 -> for col"
   ]
  },
  {
   "cell_type": "markdown",
   "id": "5f4e7c64",
   "metadata": {},
   "source": [
    "## How can I detete 1st row and last row"
   ]
  },
  {
   "cell_type": "code",
   "execution_count": 70,
   "id": "80ee5185",
   "metadata": {},
   "outputs": [
    {
     "data": {
      "text/plain": [
       "array([[1, 2, 3],\n",
       "       [4, 5, 6],\n",
       "       [7, 8, 9]])"
      ]
     },
     "execution_count": 70,
     "metadata": {},
     "output_type": "execute_result"
    }
   ],
   "source": [
    "arr"
   ]
  },
  {
   "cell_type": "code",
   "execution_count": 71,
   "id": "0eb7533b",
   "metadata": {},
   "outputs": [
    {
     "data": {
      "text/plain": [
       "array([[4, 5, 6]])"
      ]
     },
     "execution_count": 71,
     "metadata": {},
     "output_type": "execute_result"
    }
   ],
   "source": [
    "np.delete(arr, [0,2], axis=0)\n"
   ]
  },
  {
   "cell_type": "markdown",
   "id": "7fa7a4a4",
   "metadata": {},
   "source": [
    "### Replacing elements in 2d array"
   ]
  },
  {
   "cell_type": "code",
   "execution_count": 73,
   "id": "3edadf6d",
   "metadata": {},
   "outputs": [],
   "source": [
    "arr = np.array([[\"Abhinav\",\"Amrit\",\"Grace\",\"Yatin\"],\n",
    "               ['E101','E102','E142','E832'], [45,67,89,30]])"
   ]
  },
  {
   "cell_type": "code",
   "execution_count": 74,
   "id": "f8e431c1",
   "metadata": {},
   "outputs": [
    {
     "data": {
      "text/plain": [
       "array([['Abhinav', 'Amrit', 'Grace', 'Yatin'],\n",
       "       ['E101', 'E102', 'E142', 'E832'],\n",
       "       ['45', '67', '89', '30']], dtype='<U11')"
      ]
     },
     "execution_count": 74,
     "metadata": {},
     "output_type": "execute_result"
    }
   ],
   "source": [
    "arr"
   ]
  },
  {
   "cell_type": "code",
   "execution_count": 75,
   "id": "0da5b2e8",
   "metadata": {},
   "outputs": [
    {
     "data": {
      "text/plain": [
       "array(['Abhinav', 'Amrit', 'Grace', 'Yatin'], dtype='<U11')"
      ]
     },
     "execution_count": 75,
     "metadata": {},
     "output_type": "execute_result"
    }
   ],
   "source": [
    "arr[0]"
   ]
  },
  {
   "cell_type": "code",
   "execution_count": 77,
   "id": "facf8517",
   "metadata": {},
   "outputs": [],
   "source": [
    "arr[0] = [\"Abhishek\",\"Ram\",\"Vivek\",\"Firdos\"]"
   ]
  },
  {
   "cell_type": "code",
   "execution_count": 78,
   "id": "2b0526fd",
   "metadata": {},
   "outputs": [
    {
     "data": {
      "text/plain": [
       "array([['Abhishek', 'Ram', 'Vivek', 'Firdos'],\n",
       "       ['E101', 'E102', 'E142', 'E832'],\n",
       "       ['45', '67', '89', '30']], dtype='<U11')"
      ]
     },
     "execution_count": 78,
     "metadata": {},
     "output_type": "execute_result"
    }
   ],
   "source": [
    "arr"
   ]
  },
  {
   "cell_type": "code",
   "execution_count": 80,
   "id": "23c52a21",
   "metadata": {},
   "outputs": [],
   "source": [
    "arr = np.array([[[\"Abhinav\",\"Amrit\",\"Grace\",\"Yatin\"],\n",
    "               ['E101','E102','E142','E832'], [45,67,89,30]]])"
   ]
  },
  {
   "cell_type": "code",
   "execution_count": 81,
   "id": "978853c1",
   "metadata": {},
   "outputs": [
    {
     "data": {
      "text/plain": [
       "array([[['Abhinav', 'Amrit', 'Grace', 'Yatin'],\n",
       "        ['E101', 'E102', 'E142', 'E832'],\n",
       "        ['45', '67', '89', '30']]], dtype='<U11')"
      ]
     },
     "execution_count": 81,
     "metadata": {},
     "output_type": "execute_result"
    }
   ],
   "source": [
    "arr"
   ]
  },
  {
   "cell_type": "code",
   "execution_count": 82,
   "id": "1b1ac27a",
   "metadata": {},
   "outputs": [
    {
     "data": {
      "text/plain": [
       "array([['Abhinav', 'Amrit', 'Grace', 'Yatin'],\n",
       "       ['E101', 'E102', 'E142', 'E832'],\n",
       "       ['45', '67', '89', '30']], dtype='<U11')"
      ]
     },
     "execution_count": 82,
     "metadata": {},
     "output_type": "execute_result"
    }
   ],
   "source": [
    "arr[0]"
   ]
  },
  {
   "cell_type": "code",
   "execution_count": 83,
   "id": "e4cac8c9",
   "metadata": {},
   "outputs": [
    {
     "data": {
      "text/plain": [
       "array(['Abhinav', 'Amrit', 'Grace', 'Yatin'], dtype='<U11')"
      ]
     },
     "execution_count": 83,
     "metadata": {},
     "output_type": "execute_result"
    }
   ],
   "source": [
    "arr[0][0]"
   ]
  },
  {
   "cell_type": "code",
   "execution_count": 84,
   "id": "1b4a98fc",
   "metadata": {},
   "outputs": [
    {
     "data": {
      "text/plain": [
       "array(['45', '67', '89', '30'], dtype='<U11')"
      ]
     },
     "execution_count": 84,
     "metadata": {},
     "output_type": "execute_result"
    }
   ],
   "source": [
    "arr[0][-1]"
   ]
  },
  {
   "cell_type": "code",
   "execution_count": 85,
   "id": "b0ce0ffe",
   "metadata": {},
   "outputs": [
    {
     "data": {
      "text/plain": [
       "array(['E101', 'E102', 'E142', 'E832'], dtype='<U11')"
      ]
     },
     "execution_count": 85,
     "metadata": {},
     "output_type": "execute_result"
    }
   ],
   "source": [
    "arr[0][-2]"
   ]
  },
  {
   "cell_type": "code",
   "execution_count": 86,
   "id": "9e5c3c1b",
   "metadata": {},
   "outputs": [
    {
     "data": {
      "text/plain": [
       "array([[['Abhinav', 'Amrit', 'Grace', 'Yatin'],\n",
       "        ['E101', 'E102', 'E142', 'E832'],\n",
       "        ['45', '67', '89', '30']]], dtype='<U11')"
      ]
     },
     "execution_count": 86,
     "metadata": {},
     "output_type": "execute_result"
    }
   ],
   "source": [
    "arr"
   ]
  },
  {
   "cell_type": "code",
   "execution_count": 87,
   "id": "ba43c47b",
   "metadata": {},
   "outputs": [
    {
     "data": {
      "text/plain": [
       "'Yatin'"
      ]
     },
     "execution_count": 87,
     "metadata": {},
     "output_type": "execute_result"
    }
   ],
   "source": [
    "arr[0][0][-1]"
   ]
  },
  {
   "cell_type": "code",
   "execution_count": 89,
   "id": "2747f8a6",
   "metadata": {},
   "outputs": [
    {
     "data": {
      "text/plain": [
       "'E832'"
      ]
     },
     "execution_count": 89,
     "metadata": {},
     "output_type": "execute_result"
    }
   ],
   "source": [
    "arr[0][1][3]"
   ]
  },
  {
   "cell_type": "code",
   "execution_count": 90,
   "id": "8ca52067",
   "metadata": {},
   "outputs": [],
   "source": [
    "arr[0][0][-1] = \"Corey\"\n",
    "arr[0][1][3] = \"Emp145\""
   ]
  },
  {
   "cell_type": "code",
   "execution_count": 91,
   "id": "7dcacced",
   "metadata": {},
   "outputs": [
    {
     "data": {
      "text/plain": [
       "array([[['Abhinav', 'Amrit', 'Grace', 'Corey'],\n",
       "        ['E101', 'E102', 'E142', 'Emp145'],\n",
       "        ['45', '67', '89', '30']]], dtype='<U11')"
      ]
     },
     "execution_count": 91,
     "metadata": {},
     "output_type": "execute_result"
    }
   ],
   "source": [
    "arr"
   ]
  },
  {
   "cell_type": "code",
   "execution_count": 92,
   "id": "a0994ac6",
   "metadata": {},
   "outputs": [
    {
     "data": {
      "text/plain": [
       "array([[['Abhinav', 'Amrit', 'Grace', 'Corey'],\n",
       "        ['E101', 'E102', 'E142', 'Emp145'],\n",
       "        ['45', '67', '89', '30']]], dtype='<U11')"
      ]
     },
     "execution_count": 92,
     "metadata": {},
     "output_type": "execute_result"
    }
   ],
   "source": [
    "arr"
   ]
  },
  {
   "cell_type": "markdown",
   "id": "81bf319b",
   "metadata": {},
   "source": [
    "### how to print a particular column "
   ]
  },
  {
   "cell_type": "code",
   "execution_count": 112,
   "id": "a56e7611",
   "metadata": {},
   "outputs": [
    {
     "data": {
      "text/plain": [
       "array([[['Abhinav', 'Amrit', 'Grace', 'Corey'],\n",
       "        ['E101', 'E102', 'E142', 'Emp145'],\n",
       "        ['45', '67', '89', '30']]], dtype='<U11')"
      ]
     },
     "execution_count": 112,
     "metadata": {},
     "output_type": "execute_result"
    }
   ],
   "source": [
    "arr"
   ]
  },
  {
   "cell_type": "code",
   "execution_count": 114,
   "id": "4efffc0a",
   "metadata": {},
   "outputs": [
    {
     "data": {
      "text/plain": [
       "3"
      ]
     },
     "execution_count": 114,
     "metadata": {},
     "output_type": "execute_result"
    }
   ],
   "source": [
    "arr.ndim"
   ]
  },
  {
   "cell_type": "code",
   "execution_count": 115,
   "id": "49205b68",
   "metadata": {},
   "outputs": [
    {
     "data": {
      "text/plain": [
       "array([['45', '67', '89', '30']], dtype='<U11')"
      ]
     },
     "execution_count": 115,
     "metadata": {},
     "output_type": "execute_result"
    }
   ],
   "source": [
    "arr[:,-1]"
   ]
  },
  {
   "cell_type": "code",
   "execution_count": 117,
   "id": "b089a802",
   "metadata": {},
   "outputs": [
    {
     "data": {
      "text/plain": [
       "array(['Corey', 'Emp145', '30'], dtype='<U11')"
      ]
     },
     "execution_count": 117,
     "metadata": {},
     "output_type": "execute_result"
    }
   ],
   "source": [
    "arr[0][:,-1]"
   ]
  },
  {
   "cell_type": "code",
   "execution_count": 118,
   "id": "66730d73",
   "metadata": {},
   "outputs": [
    {
     "data": {
      "text/plain": [
       "array(['Abhinav', 'E101', '45'], dtype='<U11')"
      ]
     },
     "execution_count": 118,
     "metadata": {},
     "output_type": "execute_result"
    }
   ],
   "source": [
    "arr[0][:,0]"
   ]
  },
  {
   "cell_type": "code",
   "execution_count": 119,
   "id": "a863fa2f",
   "metadata": {},
   "outputs": [
    {
     "data": {
      "text/plain": [
       "array(['30', 'Emp145', 'Corey'], dtype='<U11')"
      ]
     },
     "execution_count": 119,
     "metadata": {},
     "output_type": "execute_result"
    }
   ],
   "source": [
    "arr[0][:,-1][::-1]"
   ]
  },
  {
   "cell_type": "code",
   "execution_count": 121,
   "id": "1bd05f09",
   "metadata": {},
   "outputs": [],
   "source": [
    "arr[0][:,-1] = arr[0][:,-1][::-1]"
   ]
  },
  {
   "cell_type": "code",
   "execution_count": 122,
   "id": "50c93d0e",
   "metadata": {},
   "outputs": [
    {
     "data": {
      "text/plain": [
       "array([[['Abhinav', 'Amrit', 'Grace', '30'],\n",
       "        ['E101', 'E102', 'E142', 'Emp145'],\n",
       "        ['45', '67', '89', 'Corey']]], dtype='<U11')"
      ]
     },
     "execution_count": 122,
     "metadata": {},
     "output_type": "execute_result"
    }
   ],
   "source": [
    "arr"
   ]
  },
  {
   "cell_type": "code",
   "execution_count": 123,
   "id": "6a0e700d",
   "metadata": {},
   "outputs": [],
   "source": [
    "lst = [[['Abhinav', 'Amrit', 'Grace', 'Yatin'],\n",
    "        ['E101', 'E102', 'E142', 'E832'],\n",
    "        ['45', '67', '89', '30']]]"
   ]
  },
  {
   "cell_type": "code",
   "execution_count": 124,
   "id": "e50aef5d",
   "metadata": {},
   "outputs": [
    {
     "data": {
      "text/plain": [
       "list"
      ]
     },
     "execution_count": 124,
     "metadata": {},
     "output_type": "execute_result"
    }
   ],
   "source": [
    "type(lst)"
   ]
  },
  {
   "cell_type": "code",
   "execution_count": 125,
   "id": "1d4a22bd",
   "metadata": {},
   "outputs": [
    {
     "data": {
      "text/plain": [
       "1"
      ]
     },
     "execution_count": 125,
     "metadata": {},
     "output_type": "execute_result"
    }
   ],
   "source": [
    "len(lst)"
   ]
  },
  {
   "cell_type": "code",
   "execution_count": 126,
   "id": "0be50769",
   "metadata": {},
   "outputs": [
    {
     "data": {
      "text/plain": [
       "[['Abhinav', 'Amrit', 'Grace', 'Yatin'],\n",
       " ['E101', 'E102', 'E142', 'E832'],\n",
       " ['45', '67', '89', '30']]"
      ]
     },
     "execution_count": 126,
     "metadata": {},
     "output_type": "execute_result"
    }
   ],
   "source": [
    "lst[0]"
   ]
  },
  {
   "cell_type": "code",
   "execution_count": 127,
   "id": "334569fd",
   "metadata": {},
   "outputs": [
    {
     "data": {
      "text/plain": [
       "[['Abhinav', 'Amrit', 'Grace', 'Yatin'],\n",
       " ['E101', 'E102', 'E142', 'E832'],\n",
       " ['45', '67', '89', '30']]"
      ]
     },
     "execution_count": 127,
     "metadata": {},
     "output_type": "execute_result"
    }
   ],
   "source": [
    "lst[0]"
   ]
  },
  {
   "cell_type": "code",
   "execution_count": 128,
   "id": "589f9e26",
   "metadata": {},
   "outputs": [
    {
     "data": {
      "text/plain": [
       "3"
      ]
     },
     "execution_count": 128,
     "metadata": {},
     "output_type": "execute_result"
    }
   ],
   "source": [
    "len(lst[0])"
   ]
  },
  {
   "cell_type": "code",
   "execution_count": 129,
   "id": "e3ac2d86",
   "metadata": {},
   "outputs": [
    {
     "data": {
      "text/plain": [
       "['Abhinav', 'Amrit', 'Grace', 'Yatin']"
      ]
     },
     "execution_count": 129,
     "metadata": {},
     "output_type": "execute_result"
    }
   ],
   "source": [
    "lst[0][0]"
   ]
  },
  {
   "cell_type": "code",
   "execution_count": 130,
   "id": "6deb6849",
   "metadata": {},
   "outputs": [],
   "source": [
    "lst[0][0] = lst[0][0][::-1]"
   ]
  },
  {
   "cell_type": "code",
   "execution_count": 131,
   "id": "847b3b89",
   "metadata": {},
   "outputs": [
    {
     "data": {
      "text/plain": [
       "[[['Yatin', 'Grace', 'Amrit', 'Abhinav'],\n",
       "  ['E101', 'E102', 'E142', 'E832'],\n",
       "  ['45', '67', '89', '30']]]"
      ]
     },
     "execution_count": 131,
     "metadata": {},
     "output_type": "execute_result"
    }
   ],
   "source": [
    "lst"
   ]
  },
  {
   "cell_type": "code",
   "execution_count": 134,
   "id": "87035f00",
   "metadata": {},
   "outputs": [],
   "source": [
    "lst[0][0].sort()"
   ]
  },
  {
   "cell_type": "code",
   "execution_count": 135,
   "id": "919f8e48",
   "metadata": {},
   "outputs": [
    {
     "data": {
      "text/plain": [
       "[[['Abhinav', 'Amrit', 'Grace', 'Yatin'],\n",
       "  ['E101', 'E102', 'E142', 'E832'],\n",
       "  ['45', '67', '89', '30']]]"
      ]
     },
     "execution_count": 135,
     "metadata": {},
     "output_type": "execute_result"
    }
   ],
   "source": [
    "lst"
   ]
  },
  {
   "cell_type": "code",
   "execution_count": 136,
   "id": "89b68825",
   "metadata": {},
   "outputs": [],
   "source": [
    "array = np.array(lst)"
   ]
  },
  {
   "cell_type": "code",
   "execution_count": 137,
   "id": "0dccaced",
   "metadata": {},
   "outputs": [
    {
     "data": {
      "text/plain": [
       "array([[['Abhinav', 'Amrit', 'Grace', 'Yatin'],\n",
       "        ['E101', 'E102', 'E142', 'E832'],\n",
       "        ['45', '67', '89', '30']]], dtype='<U7')"
      ]
     },
     "execution_count": 137,
     "metadata": {},
     "output_type": "execute_result"
    }
   ],
   "source": [
    "array"
   ]
  },
  {
   "cell_type": "code",
   "execution_count": 140,
   "id": "6df11813",
   "metadata": {},
   "outputs": [],
   "source": [
    "array[0][0] = array[0][0][::-1]"
   ]
  },
  {
   "cell_type": "code",
   "execution_count": 141,
   "id": "597f6864",
   "metadata": {},
   "outputs": [
    {
     "data": {
      "text/plain": [
       "array([[['Yatin', 'Grace', 'Amrit', 'Abhinav'],\n",
       "        ['E101', 'E102', 'E142', 'E832'],\n",
       "        ['45', '67', '89', '30']]], dtype='<U7')"
      ]
     },
     "execution_count": 141,
     "metadata": {},
     "output_type": "execute_result"
    }
   ],
   "source": [
    "array"
   ]
  },
  {
   "cell_type": "markdown",
   "id": "07b5d69f",
   "metadata": {},
   "source": [
    "### How to concatenate an array?"
   ]
  },
  {
   "cell_type": "code",
   "execution_count": 145,
   "id": "17341fb8",
   "metadata": {},
   "outputs": [],
   "source": [
    "arr_1 = np.array([[1,2],[2,4],[-3,-5]])"
   ]
  },
  {
   "cell_type": "code",
   "execution_count": 146,
   "id": "2ecb6615",
   "metadata": {},
   "outputs": [
    {
     "data": {
      "text/plain": [
       "array([[ 1,  2],\n",
       "       [ 2,  4],\n",
       "       [-3, -5]])"
      ]
     },
     "execution_count": 146,
     "metadata": {},
     "output_type": "execute_result"
    }
   ],
   "source": [
    "arr_1"
   ]
  },
  {
   "cell_type": "code",
   "execution_count": 147,
   "id": "4de5c125",
   "metadata": {},
   "outputs": [],
   "source": [
    "arr_2 = np.array([[1,2],[3,4],[-3,-7]])"
   ]
  },
  {
   "cell_type": "code",
   "execution_count": 148,
   "id": "f000759c",
   "metadata": {},
   "outputs": [
    {
     "data": {
      "text/plain": [
       "array([[ 1,  2],\n",
       "       [ 3,  4],\n",
       "       [-3, -7]])"
      ]
     },
     "execution_count": 148,
     "metadata": {},
     "output_type": "execute_result"
    }
   ],
   "source": [
    "arr_2"
   ]
  },
  {
   "cell_type": "code",
   "execution_count": 154,
   "id": "1cfabb77",
   "metadata": {},
   "outputs": [
    {
     "data": {
      "text/plain": [
       "array([[ 1,  2],\n",
       "       [ 2,  4],\n",
       "       [-3, -5],\n",
       "       [ 1,  2],\n",
       "       [ 3,  4],\n",
       "       [-3, -7]])"
      ]
     },
     "execution_count": 154,
     "metadata": {},
     "output_type": "execute_result"
    }
   ],
   "source": [
    "# concatenate\n",
    "np.concatenate((arr_1,arr_2), axis = 0)  # by row (default)"
   ]
  },
  {
   "cell_type": "code",
   "execution_count": 150,
   "id": "25422391",
   "metadata": {},
   "outputs": [
    {
     "data": {
      "text/plain": [
       "array([[ 1,  2,  1,  2],\n",
       "       [ 2,  4,  3,  4],\n",
       "       [-3, -5, -3, -7]])"
      ]
     },
     "execution_count": 150,
     "metadata": {},
     "output_type": "execute_result"
    }
   ],
   "source": [
    "# concatenate\n",
    "np.concatenate((arr_1,arr_2), axis = 1)  # by col"
   ]
  },
  {
   "cell_type": "code",
   "execution_count": 152,
   "id": "074eb8ec",
   "metadata": {},
   "outputs": [
    {
     "data": {
      "text/plain": [
       "array([ 1,  2,  2,  4, -3, -5,  1,  2,  3,  4, -3, -7])"
      ]
     },
     "execution_count": 152,
     "metadata": {},
     "output_type": "execute_result"
    }
   ],
   "source": [
    "np.concatenate((arr_1,arr_2), axis = None)"
   ]
  },
  {
   "cell_type": "code",
   "execution_count": 153,
   "id": "0d78ffdf",
   "metadata": {},
   "outputs": [],
   "source": [
    "np.concatenate?"
   ]
  },
  {
   "cell_type": "code",
   "execution_count": 155,
   "id": "6a4344b8",
   "metadata": {},
   "outputs": [],
   "source": [
    "arr = np.concatenate((arr_1,arr_2), axis = None)"
   ]
  },
  {
   "cell_type": "code",
   "execution_count": 156,
   "id": "109cef3c",
   "metadata": {},
   "outputs": [
    {
     "data": {
      "text/plain": [
       "array([ 1,  2,  2,  4, -3, -5,  1,  2,  3,  4, -3, -7])"
      ]
     },
     "execution_count": 156,
     "metadata": {},
     "output_type": "execute_result"
    }
   ],
   "source": [
    "arr"
   ]
  },
  {
   "cell_type": "markdown",
   "id": "011c5f81",
   "metadata": {},
   "source": [
    "### How we can sort an element"
   ]
  },
  {
   "cell_type": "code",
   "execution_count": 157,
   "id": "8a2a21d6",
   "metadata": {},
   "outputs": [
    {
     "data": {
      "text/plain": [
       "array([11,  5,  4, 10,  0,  6,  1,  2,  7,  8,  3,  9], dtype=int64)"
      ]
     },
     "execution_count": 157,
     "metadata": {},
     "output_type": "execute_result"
    }
   ],
   "source": [
    "np.argsort(arr) #argsort function returns an ouput in the form item's index"
   ]
  },
  {
   "cell_type": "code",
   "execution_count": 158,
   "id": "b6c7d845",
   "metadata": {},
   "outputs": [
    {
     "data": {
      "text/plain": [
       "array([-7, -5, -3, -3,  1,  1,  2,  2,  2,  3,  4,  4])"
      ]
     },
     "execution_count": 158,
     "metadata": {},
     "output_type": "execute_result"
    }
   ],
   "source": [
    "arr[np.argsort(arr)] # asc"
   ]
  },
  {
   "cell_type": "code",
   "execution_count": 163,
   "id": "f1eaf076",
   "metadata": {},
   "outputs": [
    {
     "data": {
      "text/plain": [
       "array([ 4,  4,  3,  2,  2,  2,  1,  1, -3, -3, -5, -7])"
      ]
     },
     "execution_count": 163,
     "metadata": {},
     "output_type": "execute_result"
    }
   ],
   "source": [
    "arr[np.argsort(arr)[::-1]]"
   ]
  },
  {
   "cell_type": "code",
   "execution_count": 164,
   "id": "b4f5dea2",
   "metadata": {},
   "outputs": [
    {
     "data": {
      "text/plain": [
       "array([ 9,  3,  8,  7,  2,  1,  6,  0, 10,  4,  5, 11], dtype=int64)"
      ]
     },
     "execution_count": 164,
     "metadata": {},
     "output_type": "execute_result"
    }
   ],
   "source": [
    "np.argsort(arr)[::-1]"
   ]
  },
  {
   "cell_type": "markdown",
   "id": "a734d6c3",
   "metadata": {},
   "source": [
    "### Arithmetic Operations"
   ]
  },
  {
   "cell_type": "code",
   "execution_count": 165,
   "id": "008f0bd7",
   "metadata": {},
   "outputs": [],
   "source": [
    "arr1 = np.array([10,20,30,40,55])\n",
    "arr2 = np.array([5,70,20,35,75])"
   ]
  },
  {
   "cell_type": "code",
   "execution_count": 166,
   "id": "eed5ee3c",
   "metadata": {},
   "outputs": [
    {
     "data": {
      "text/plain": [
       "array([ 15,  90,  50,  75, 130])"
      ]
     },
     "execution_count": 166,
     "metadata": {},
     "output_type": "execute_result"
    }
   ],
   "source": [
    "arr1 + arr2"
   ]
  },
  {
   "cell_type": "code",
   "execution_count": 167,
   "id": "cb625710",
   "metadata": {},
   "outputs": [],
   "source": [
    "lst1 = [1,2,3,4]\n",
    "lst2 = [4,5,6,7]"
   ]
  },
  {
   "cell_type": "code",
   "execution_count": 168,
   "id": "315f45fd",
   "metadata": {},
   "outputs": [
    {
     "data": {
      "text/plain": [
       "[1, 2, 3, 4, 4, 5, 6, 7]"
      ]
     },
     "execution_count": 168,
     "metadata": {},
     "output_type": "execute_result"
    }
   ],
   "source": [
    "lst1 + lst2"
   ]
  },
  {
   "cell_type": "code",
   "execution_count": 169,
   "id": "a8002362",
   "metadata": {},
   "outputs": [
    {
     "data": {
      "text/plain": [
       "array([ 5,  7,  9, 11])"
      ]
     },
     "execution_count": 169,
     "metadata": {},
     "output_type": "execute_result"
    }
   ],
   "source": [
    "np.array(lst1) + np.array(lst2)"
   ]
  },
  {
   "cell_type": "code",
   "execution_count": 176,
   "id": "2c6a8ab3",
   "metadata": {},
   "outputs": [
    {
     "name": "stdout",
     "output_type": "stream",
     "text": [
      "5\n",
      "7\n",
      "9\n",
      "11\n"
     ]
    }
   ],
   "source": [
    "for i in range(len(lst1)):\n",
    "    print(lst1[i]+lst2[i])"
   ]
  },
  {
   "cell_type": "code",
   "execution_count": 177,
   "id": "042bcee6",
   "metadata": {},
   "outputs": [
    {
     "data": {
      "text/plain": [
       "[5, 7, 9, 11]"
      ]
     },
     "execution_count": 177,
     "metadata": {},
     "output_type": "execute_result"
    }
   ],
   "source": [
    "[lst1[i] + lst2[i] for i in range(len(lst1))]"
   ]
  },
  {
   "cell_type": "code",
   "execution_count": 178,
   "id": "339903c3",
   "metadata": {},
   "outputs": [
    {
     "data": {
      "text/plain": [
       "[1, 2, 3, 4]"
      ]
     },
     "execution_count": 178,
     "metadata": {},
     "output_type": "execute_result"
    }
   ],
   "source": [
    "lst1"
   ]
  },
  {
   "cell_type": "code",
   "execution_count": 179,
   "id": "28661cab",
   "metadata": {},
   "outputs": [
    {
     "data": {
      "text/plain": [
       "[4, 5, 6, 7]"
      ]
     },
     "execution_count": 179,
     "metadata": {},
     "output_type": "execute_result"
    }
   ],
   "source": [
    "lst2"
   ]
  },
  {
   "cell_type": "code",
   "execution_count": 180,
   "id": "81b47309",
   "metadata": {},
   "outputs": [
    {
     "data": {
      "text/plain": [
       "array([10, 20, 30, 40, 55])"
      ]
     },
     "execution_count": 180,
     "metadata": {},
     "output_type": "execute_result"
    }
   ],
   "source": [
    "arr1"
   ]
  },
  {
   "cell_type": "code",
   "execution_count": 181,
   "id": "b855203c",
   "metadata": {},
   "outputs": [
    {
     "data": {
      "text/plain": [
       "array([ 5, 70, 20, 35, 75])"
      ]
     },
     "execution_count": 181,
     "metadata": {},
     "output_type": "execute_result"
    }
   ],
   "source": [
    "arr2"
   ]
  },
  {
   "cell_type": "code",
   "execution_count": 182,
   "id": "51f9e5ea",
   "metadata": {},
   "outputs": [
    {
     "data": {
      "text/plain": [
       "array([  5, -50,  10,   5, -20])"
      ]
     },
     "execution_count": 182,
     "metadata": {},
     "output_type": "execute_result"
    }
   ],
   "source": [
    "arr1 - arr2"
   ]
  },
  {
   "cell_type": "code",
   "execution_count": 183,
   "id": "17624608",
   "metadata": {},
   "outputs": [
    {
     "data": {
      "text/plain": [
       "array([ 50, 100, 150, 200, 275])"
      ]
     },
     "execution_count": 183,
     "metadata": {},
     "output_type": "execute_result"
    }
   ],
   "source": [
    "arr1 * 5"
   ]
  },
  {
   "cell_type": "code",
   "execution_count": 184,
   "id": "9354f836",
   "metadata": {},
   "outputs": [],
   "source": [
    "arr1 = np.array([[5,6],[7,8]])\n",
    "arr2 = np.array([[2,8],[-4,-3]])"
   ]
  },
  {
   "cell_type": "code",
   "execution_count": 185,
   "id": "511e3e30",
   "metadata": {},
   "outputs": [
    {
     "data": {
      "text/plain": [
       "array([[5, 6],\n",
       "       [7, 8]])"
      ]
     },
     "execution_count": 185,
     "metadata": {},
     "output_type": "execute_result"
    }
   ],
   "source": [
    "arr1"
   ]
  },
  {
   "cell_type": "code",
   "execution_count": 186,
   "id": "135adf72",
   "metadata": {},
   "outputs": [
    {
     "data": {
      "text/plain": [
       "array([[ 2,  8],\n",
       "       [-4, -3]])"
      ]
     },
     "execution_count": 186,
     "metadata": {},
     "output_type": "execute_result"
    }
   ],
   "source": [
    "arr2"
   ]
  },
  {
   "cell_type": "code",
   "execution_count": 187,
   "id": "2fe1152c",
   "metadata": {},
   "outputs": [
    {
     "data": {
      "text/plain": [
       "array([[ 7, 14],\n",
       "       [ 3,  5]])"
      ]
     },
     "execution_count": 187,
     "metadata": {},
     "output_type": "execute_result"
    }
   ],
   "source": [
    "arr1 + arr2"
   ]
  },
  {
   "cell_type": "code",
   "execution_count": 189,
   "id": "57f270ca",
   "metadata": {},
   "outputs": [
    {
     "data": {
      "text/plain": [
       "array([[ 3, -2],\n",
       "       [11, 11]])"
      ]
     },
     "execution_count": 189,
     "metadata": {},
     "output_type": "execute_result"
    }
   ],
   "source": [
    "arr1 - arr2"
   ]
  },
  {
   "cell_type": "code",
   "execution_count": 190,
   "id": "2841ba91",
   "metadata": {},
   "outputs": [
    {
     "data": {
      "text/plain": [
       "array([[5, 6],\n",
       "       [7, 8]])"
      ]
     },
     "execution_count": 190,
     "metadata": {},
     "output_type": "execute_result"
    }
   ],
   "source": [
    "arr1"
   ]
  },
  {
   "cell_type": "code",
   "execution_count": 192,
   "id": "21e42f64",
   "metadata": {},
   "outputs": [
    {
     "data": {
      "text/plain": [
       "array([[ 7,  8],\n",
       "       [ 9, 10]])"
      ]
     },
     "execution_count": 192,
     "metadata": {},
     "output_type": "execute_result"
    }
   ],
   "source": [
    "arr1 + 2"
   ]
  },
  {
   "cell_type": "code",
   "execution_count": 193,
   "id": "0d5e75d5",
   "metadata": {},
   "outputs": [
    {
     "data": {
      "text/plain": [
       "array([[ 10,  48],\n",
       "       [-28, -24]])"
      ]
     },
     "execution_count": 193,
     "metadata": {},
     "output_type": "execute_result"
    }
   ],
   "source": [
    "arr1 * arr2"
   ]
  },
  {
   "cell_type": "code",
   "execution_count": 194,
   "id": "98e55560",
   "metadata": {},
   "outputs": [
    {
     "data": {
      "text/plain": [
       "array([[ 4, 16],\n",
       "       [-8, -6]])"
      ]
     },
     "execution_count": 194,
     "metadata": {},
     "output_type": "execute_result"
    }
   ],
   "source": [
    "arr2 * 2"
   ]
  },
  {
   "cell_type": "code",
   "execution_count": 195,
   "id": "e39b0630",
   "metadata": {},
   "outputs": [],
   "source": [
    "np_arr = np.array([[4,5,6],[5,8,9],[4,8,1]])"
   ]
  },
  {
   "cell_type": "code",
   "execution_count": 196,
   "id": "ca4e13f2",
   "metadata": {},
   "outputs": [
    {
     "data": {
      "text/plain": [
       "array([[4, 5, 6],\n",
       "       [5, 8, 9],\n",
       "       [4, 8, 1]])"
      ]
     },
     "execution_count": 196,
     "metadata": {},
     "output_type": "execute_result"
    }
   ],
   "source": [
    "np_arr"
   ]
  },
  {
   "cell_type": "code",
   "execution_count": 198,
   "id": "151cc6bd",
   "metadata": {},
   "outputs": [
    {
     "data": {
      "text/plain": [
       "50"
      ]
     },
     "execution_count": 198,
     "metadata": {},
     "output_type": "execute_result"
    }
   ],
   "source": [
    "np_arr.sum()"
   ]
  },
  {
   "cell_type": "code",
   "execution_count": 199,
   "id": "f931fa4f",
   "metadata": {},
   "outputs": [
    {
     "data": {
      "text/plain": [
       "5.555555555555555"
      ]
     },
     "execution_count": 199,
     "metadata": {},
     "output_type": "execute_result"
    }
   ],
   "source": [
    "np_arr.mean()"
   ]
  },
  {
   "cell_type": "code",
   "execution_count": 202,
   "id": "3568e9c0",
   "metadata": {},
   "outputs": [
    {
     "data": {
      "text/plain": [
       "9"
      ]
     },
     "execution_count": 202,
     "metadata": {},
     "output_type": "execute_result"
    }
   ],
   "source": [
    "np_arr.max()"
   ]
  },
  {
   "cell_type": "code",
   "execution_count": 203,
   "id": "c879fb16",
   "metadata": {},
   "outputs": [
    {
     "data": {
      "text/plain": [
       "1"
      ]
     },
     "execution_count": 203,
     "metadata": {},
     "output_type": "execute_result"
    }
   ],
   "source": [
    "np_arr.min()"
   ]
  },
  {
   "cell_type": "code",
   "execution_count": 204,
   "id": "c77d8e63",
   "metadata": {},
   "outputs": [
    {
     "data": {
      "text/plain": [
       "2.3622546250521443"
      ]
     },
     "execution_count": 204,
     "metadata": {},
     "output_type": "execute_result"
    }
   ],
   "source": [
    "np_arr.std()"
   ]
  },
  {
   "cell_type": "code",
   "execution_count": 205,
   "id": "4f705686",
   "metadata": {},
   "outputs": [
    {
     "data": {
      "text/plain": [
       "array([[4, 5, 6],\n",
       "       [5, 8, 9],\n",
       "       [4, 8, 1]])"
      ]
     },
     "execution_count": 205,
     "metadata": {},
     "output_type": "execute_result"
    }
   ],
   "source": [
    "np_arr"
   ]
  },
  {
   "cell_type": "code",
   "execution_count": 207,
   "id": "370ed79a",
   "metadata": {},
   "outputs": [
    {
     "data": {
      "text/plain": [
       "1382400"
      ]
     },
     "execution_count": 207,
     "metadata": {},
     "output_type": "execute_result"
    }
   ],
   "source": [
    "np_arr.prod()"
   ]
  },
  {
   "cell_type": "code",
   "execution_count": 209,
   "id": "6bbce5e2",
   "metadata": {},
   "outputs": [],
   "source": [
    "newarr = np.array([[1,2],[3,4]])"
   ]
  },
  {
   "cell_type": "code",
   "execution_count": 210,
   "id": "36c93959",
   "metadata": {},
   "outputs": [
    {
     "data": {
      "text/plain": [
       "24"
      ]
     },
     "execution_count": 210,
     "metadata": {},
     "output_type": "execute_result"
    }
   ],
   "source": [
    "newarr.prod()"
   ]
  },
  {
   "cell_type": "code",
   "execution_count": 211,
   "id": "364e6964",
   "metadata": {},
   "outputs": [
    {
     "data": {
      "text/plain": [
       "array([[4, 5, 6],\n",
       "       [5, 8, 9],\n",
       "       [4, 8, 1]])"
      ]
     },
     "execution_count": 211,
     "metadata": {},
     "output_type": "execute_result"
    }
   ],
   "source": [
    "np_arr"
   ]
  },
  {
   "cell_type": "code",
   "execution_count": 212,
   "id": "70db10e6",
   "metadata": {},
   "outputs": [
    {
     "data": {
      "text/plain": [
       "array([ 80, 320,  54])"
      ]
     },
     "execution_count": 212,
     "metadata": {},
     "output_type": "execute_result"
    }
   ],
   "source": [
    "np_arr.prod(axis = 0)"
   ]
  },
  {
   "cell_type": "code",
   "execution_count": 213,
   "id": "f37c0b5d",
   "metadata": {},
   "outputs": [
    {
     "data": {
      "text/plain": [
       "array([120, 360,  32])"
      ]
     },
     "execution_count": 213,
     "metadata": {},
     "output_type": "execute_result"
    }
   ],
   "source": [
    "np_arr.prod(axis = 1)"
   ]
  },
  {
   "cell_type": "code",
   "execution_count": 214,
   "id": "fe584c7d",
   "metadata": {},
   "outputs": [
    {
     "data": {
      "text/plain": [
       "5.555555555555555"
      ]
     },
     "execution_count": 214,
     "metadata": {},
     "output_type": "execute_result"
    }
   ],
   "source": [
    "np_arr.mean()"
   ]
  },
  {
   "cell_type": "code",
   "execution_count": 218,
   "id": "c9aeb73e",
   "metadata": {},
   "outputs": [
    {
     "data": {
      "text/plain": [
       "array([[4, 5, 6],\n",
       "       [5, 8, 9],\n",
       "       [4, 8, 1]])"
      ]
     },
     "execution_count": 218,
     "metadata": {},
     "output_type": "execute_result"
    }
   ],
   "source": [
    "np_arr"
   ]
  },
  {
   "cell_type": "code",
   "execution_count": 215,
   "id": "c3bdddb5",
   "metadata": {},
   "outputs": [
    {
     "data": {
      "text/plain": [
       "array([4.33333333, 7.        , 5.33333333])"
      ]
     },
     "execution_count": 215,
     "metadata": {},
     "output_type": "execute_result"
    }
   ],
   "source": [
    "np_arr.mean(axis = 0) # col"
   ]
  },
  {
   "cell_type": "code",
   "execution_count": 216,
   "id": "e448291a",
   "metadata": {},
   "outputs": [
    {
     "data": {
      "text/plain": [
       "array([5.        , 7.33333333, 4.33333333])"
      ]
     },
     "execution_count": 216,
     "metadata": {},
     "output_type": "execute_result"
    }
   ],
   "source": [
    "np_arr.mean(axis = 1) # row"
   ]
  },
  {
   "cell_type": "code",
   "execution_count": 217,
   "id": "5aba9bd4",
   "metadata": {},
   "outputs": [
    {
     "data": {
      "text/plain": [
       "5.0"
      ]
     },
     "execution_count": 217,
     "metadata": {},
     "output_type": "execute_result"
    }
   ],
   "source": [
    "np.sqrt(25)"
   ]
  },
  {
   "cell_type": "markdown",
   "id": "8832ec99",
   "metadata": {},
   "source": [
    "### Random Number Generation"
   ]
  },
  {
   "cell_type": "code",
   "execution_count": 219,
   "id": "08f47854",
   "metadata": {},
   "outputs": [
    {
     "data": {
      "text/plain": [
       "array([16, 67, 38, 25, 35, 48, 83, 58, 98, 18])"
      ]
     },
     "execution_count": 219,
     "metadata": {},
     "output_type": "execute_result"
    }
   ],
   "source": [
    "np.random.randint(5,100,10)"
   ]
  },
  {
   "cell_type": "code",
   "execution_count": 223,
   "id": "63a04e21",
   "metadata": {},
   "outputs": [
    {
     "data": {
      "text/plain": [
       "array([83, 66, 21, 78, 13, 67, 32, 35, 85, 12])"
      ]
     },
     "execution_count": 223,
     "metadata": {},
     "output_type": "execute_result"
    }
   ],
   "source": [
    "np.random.seed(5)\n",
    "np.random.randint(5,100,10)"
   ]
  },
  {
   "cell_type": "code",
   "execution_count": 224,
   "id": "15f3971e",
   "metadata": {},
   "outputs": [
    {
     "data": {
      "text/plain": [
       "array([15, 78, 89, 84, 85, 67, 30,  6, 80, 82])"
      ]
     },
     "execution_count": 224,
     "metadata": {},
     "output_type": "execute_result"
    }
   ],
   "source": [
    "np.random.seed(6)\n",
    "np.random.randint(5,100,10)"
   ]
  },
  {
   "cell_type": "code",
   "execution_count": 225,
   "id": "04bb05b0",
   "metadata": {},
   "outputs": [
    {
     "data": {
      "text/plain": [
       "array([42, 17, 77, 14, 80, 10, 84, 69, 21,  6])"
      ]
     },
     "execution_count": 225,
     "metadata": {},
     "output_type": "execute_result"
    }
   ],
   "source": [
    "np.random.seed(1)\n",
    "np.random.randint(5,100,10)"
   ]
  },
  {
   "cell_type": "code",
   "execution_count": 226,
   "id": "4bf7aa5e",
   "metadata": {},
   "outputs": [
    {
     "data": {
      "text/plain": [
       "array([13, 29, 72, 92, 84, 53, 15, 99, 57, 58])"
      ]
     },
     "execution_count": 226,
     "metadata": {},
     "output_type": "execute_result"
    }
   ],
   "source": [
    "np.random.seed(100)\n",
    "np.random.randint(5,100,10)"
   ]
  },
  {
   "cell_type": "code",
   "execution_count": 227,
   "id": "d807ccac",
   "metadata": {},
   "outputs": [
    {
     "data": {
      "text/plain": [
       "array([15, 78, 89, 84, 85, 67, 30,  6, 80, 82])"
      ]
     },
     "execution_count": 227,
     "metadata": {},
     "output_type": "execute_result"
    }
   ],
   "source": [
    "np.random.seed(6)\n",
    "np.random.randint(5,100,10)"
   ]
  },
  {
   "cell_type": "code",
   "execution_count": 232,
   "id": "1d131a02",
   "metadata": {},
   "outputs": [
    {
     "data": {
      "text/plain": [
       "array([9988673719, 9720688573, 9500181774, 9718348847, 9952374105,\n",
       "       9757625950, 9099080665, 9793311741, 9911652321, 9563093780,\n",
       "       9877031818, 9559023299, 9135562124, 9143734944, 8922909389,\n",
       "       9555213947, 9871357086, 9095926268, 9736954445, 9972412222,\n",
       "       9083316001, 8898401749, 8902539855, 9516354456, 9720612972,\n",
       "       9939398772, 9926671962, 8969492071, 9476798670, 9620277560,\n",
       "       9414542365, 8950334645, 9306060757, 9842662690, 9406639602,\n",
       "       9510471120, 9778329342, 9939852185, 9941394086, 9376409058,\n",
       "       9813696996, 9306163114, 9153725759, 8922796586, 9454830527,\n",
       "       9498223768, 9510209718, 9663062263, 9224555456, 8996847163],\n",
       "      dtype=int64)"
      ]
     },
     "execution_count": 232,
     "metadata": {},
     "output_type": "execute_result"
    }
   ],
   "source": [
    "np.random.randint(low = 8888888888, high = 9999999999, size = 50,\n",
    "                  dtype='int64')"
   ]
  },
  {
   "cell_type": "code",
   "execution_count": 235,
   "id": "e28ffd0d",
   "metadata": {},
   "outputs": [
    {
     "data": {
      "text/plain": [
       "array([9443689496, 9868498371, 9208333989, 9986141017, 9361069590,\n",
       "       8980956798, 9542585982, 9937849138, 9467800980, 9295722194,\n",
       "       9513664274, 9269476707, 9146402701, 9915574946, 8960235384,\n",
       "       9086332979, 9638674494, 9624903303, 8919744470, 8992412635,\n",
       "       9376065652, 9195433899, 9605254522, 9611893252, 8967270936,\n",
       "       9113338235, 9131132070, 9661242936, 9012243093, 9717482646,\n",
       "       9115411139, 9808410070, 9888274559, 9752972907, 8964014800,\n",
       "       9637975493, 9675751679, 9532772636, 9773916856, 9313082098,\n",
       "       9842540792, 9882895909, 9672106955, 9706442069, 9559441379,\n",
       "       9858478936, 9425135719, 9830993556, 9744028025, 8977838988],\n",
       "      dtype=int64)"
      ]
     },
     "execution_count": 235,
     "metadata": {},
     "output_type": "execute_result"
    }
   ],
   "source": [
    "np.random.seed(50)\n",
    "np.random.randint(low = 8888888888, high = 9999999999, size = 50,\n",
    "                  dtype='int64')"
   ]
  },
  {
   "cell_type": "code",
   "execution_count": 236,
   "id": "7f4b5a88",
   "metadata": {},
   "outputs": [],
   "source": [
    "np.random.seed?"
   ]
  },
  {
   "cell_type": "markdown",
   "id": "d4c8ac10",
   "metadata": {},
   "source": [
    "### Linspace\n",
    "\n",
    "This function will include your start and end values."
   ]
  },
  {
   "cell_type": "code",
   "execution_count": 237,
   "id": "87a542f2",
   "metadata": {},
   "outputs": [
    {
     "data": {
      "text/plain": [
       "array([0.        , 0.55555556, 1.11111111, 1.66666667, 2.22222222,\n",
       "       2.77777778, 3.33333333, 3.88888889, 4.44444444, 5.        ])"
      ]
     },
     "execution_count": 237,
     "metadata": {},
     "output_type": "execute_result"
    }
   ],
   "source": [
    "np.linspace(start = 0, stop = 5, num = 10)"
   ]
  },
  {
   "cell_type": "code",
   "execution_count": 238,
   "id": "72cc209b",
   "metadata": {},
   "outputs": [
    {
     "data": {
      "text/plain": [
       "array([0. , 2.5, 5. ])"
      ]
     },
     "execution_count": 238,
     "metadata": {},
     "output_type": "execute_result"
    }
   ],
   "source": [
    "np.linspace(start = 0, stop = 5, num = 3)"
   ]
  },
  {
   "cell_type": "code",
   "execution_count": 239,
   "id": "af330cb1",
   "metadata": {},
   "outputs": [
    {
     "data": {
      "text/plain": [
       "array([0., 5.])"
      ]
     },
     "execution_count": 239,
     "metadata": {},
     "output_type": "execute_result"
    }
   ],
   "source": [
    "np.linspace(start = 0, stop = 5, num = 2)"
   ]
  },
  {
   "cell_type": "code",
   "execution_count": 240,
   "id": "c32f65ee",
   "metadata": {},
   "outputs": [
    {
     "data": {
      "text/plain": [
       "array([0.])"
      ]
     },
     "execution_count": 240,
     "metadata": {},
     "output_type": "execute_result"
    }
   ],
   "source": [
    "np.linspace(start = 0, stop = 5, num = 1)"
   ]
  },
  {
   "cell_type": "code",
   "execution_count": 241,
   "id": "e7b2a25f",
   "metadata": {},
   "outputs": [
    {
     "data": {
      "text/plain": [
       "array([10.        , 16.66666667, 23.33333333, 30.        , 36.66666667,\n",
       "       43.33333333, 50.        , 56.66666667, 63.33333333, 70.        ])"
      ]
     },
     "execution_count": 241,
     "metadata": {},
     "output_type": "execute_result"
    }
   ],
   "source": [
    "np.linspace(start = 10, stop = 70, num = 10) "
   ]
  },
  {
   "cell_type": "code",
   "execution_count": 243,
   "id": "5804999c",
   "metadata": {},
   "outputs": [
    {
     "data": {
      "text/plain": [
       "array([10, 16, 23, 30, 36, 43, 50, 56, 63, 70])"
      ]
     },
     "execution_count": 243,
     "metadata": {},
     "output_type": "execute_result"
    }
   ],
   "source": [
    "np.linspace(start = 10, stop = 70, num = 10, dtype = 'int')"
   ]
  },
  {
   "cell_type": "code",
   "execution_count": 244,
   "id": "cf7a5c0e",
   "metadata": {},
   "outputs": [
    {
     "data": {
      "text/plain": [
       "array([[ 1,  2],\n",
       "       [ 2,  4],\n",
       "       [-3, -5]])"
      ]
     },
     "execution_count": 244,
     "metadata": {},
     "output_type": "execute_result"
    }
   ],
   "source": [
    "arr_1"
   ]
  },
  {
   "cell_type": "markdown",
   "id": "890d3186",
   "metadata": {},
   "source": [
    "### argmax or argmin"
   ]
  },
  {
   "cell_type": "code",
   "execution_count": 245,
   "id": "96955fd1",
   "metadata": {},
   "outputs": [
    {
     "data": {
      "text/plain": [
       "3"
      ]
     },
     "execution_count": 245,
     "metadata": {},
     "output_type": "execute_result"
    }
   ],
   "source": [
    "np.argmax(arr_1)"
   ]
  },
  {
   "cell_type": "code",
   "execution_count": 246,
   "id": "050d3630",
   "metadata": {},
   "outputs": [
    {
     "data": {
      "text/plain": [
       "5"
      ]
     },
     "execution_count": 246,
     "metadata": {},
     "output_type": "execute_result"
    }
   ],
   "source": [
    "np.argmin(arr_1)"
   ]
  },
  {
   "cell_type": "code",
   "execution_count": 258,
   "id": "13ca1af9",
   "metadata": {},
   "outputs": [],
   "source": [
    "arr = np.random.randint(5,50,25).reshape(5,5)"
   ]
  },
  {
   "cell_type": "code",
   "execution_count": 259,
   "id": "b1fa3d94",
   "metadata": {},
   "outputs": [
    {
     "data": {
      "text/plain": [
       "array([[35, 38, 19, 31, 27],\n",
       "       [42, 11, 35, 46, 41],\n",
       "       [36, 14,  5, 21, 31],\n",
       "       [ 9, 48,  6, 42, 18],\n",
       "       [40, 19,  7, 45, 27]])"
      ]
     },
     "execution_count": 259,
     "metadata": {},
     "output_type": "execute_result"
    }
   ],
   "source": [
    "arr"
   ]
  },
  {
   "cell_type": "code",
   "execution_count": 260,
   "id": "45a8f36d",
   "metadata": {},
   "outputs": [
    {
     "data": {
      "text/plain": [
       "16"
      ]
     },
     "execution_count": 260,
     "metadata": {},
     "output_type": "execute_result"
    }
   ],
   "source": [
    "np.argmax(arr)"
   ]
  },
  {
   "cell_type": "code",
   "execution_count": 261,
   "id": "77ea2a6d",
   "metadata": {},
   "outputs": [
    {
     "data": {
      "text/plain": [
       "48"
      ]
     },
     "execution_count": 261,
     "metadata": {},
     "output_type": "execute_result"
    }
   ],
   "source": [
    "arr.max()"
   ]
  },
  {
   "cell_type": "code",
   "execution_count": 262,
   "id": "474bb284",
   "metadata": {},
   "outputs": [
    {
     "data": {
      "text/plain": [
       "5"
      ]
     },
     "execution_count": 262,
     "metadata": {},
     "output_type": "execute_result"
    }
   ],
   "source": [
    "arr.min()"
   ]
  },
  {
   "cell_type": "code",
   "execution_count": 263,
   "id": "d430c7a1",
   "metadata": {},
   "outputs": [
    {
     "data": {
      "text/plain": [
       "12"
      ]
     },
     "execution_count": 263,
     "metadata": {},
     "output_type": "execute_result"
    }
   ],
   "source": [
    "np.argmin(arr)"
   ]
  },
  {
   "cell_type": "code",
   "execution_count": 264,
   "id": "a8257541",
   "metadata": {},
   "outputs": [
    {
     "data": {
      "text/plain": [
       "array([[35, 38, 19, 31, 27],\n",
       "       [42, 11, 35, 46, 41],\n",
       "       [36, 14,  5, 21, 31],\n",
       "       [ 9, 48,  6, 42, 18],\n",
       "       [40, 19,  7, 45, 27]])"
      ]
     },
     "execution_count": 264,
     "metadata": {},
     "output_type": "execute_result"
    }
   ],
   "source": [
    "arr"
   ]
  },
  {
   "cell_type": "code",
   "execution_count": 265,
   "id": "906da4d2",
   "metadata": {},
   "outputs": [
    {
     "data": {
      "text/plain": [
       "array([35, 38, 19, 31, 27])"
      ]
     },
     "execution_count": 265,
     "metadata": {},
     "output_type": "execute_result"
    }
   ],
   "source": [
    "arr[0]"
   ]
  },
  {
   "cell_type": "code",
   "execution_count": 266,
   "id": "e06f81b1",
   "metadata": {},
   "outputs": [
    {
     "data": {
      "text/plain": [
       "38"
      ]
     },
     "execution_count": 266,
     "metadata": {},
     "output_type": "execute_result"
    }
   ],
   "source": [
    "arr[0].max()"
   ]
  },
  {
   "cell_type": "code",
   "execution_count": 267,
   "id": "df525537",
   "metadata": {},
   "outputs": [
    {
     "data": {
      "text/plain": [
       "2"
      ]
     },
     "execution_count": 267,
     "metadata": {},
     "output_type": "execute_result"
    }
   ],
   "source": [
    "np.argmin(arr[0])"
   ]
  },
  {
   "cell_type": "code",
   "execution_count": 268,
   "id": "acc8ff05",
   "metadata": {},
   "outputs": [
    {
     "data": {
      "text/plain": [
       "1"
      ]
     },
     "execution_count": 268,
     "metadata": {},
     "output_type": "execute_result"
    }
   ],
   "source": [
    "np.argmax(arr[0])"
   ]
  },
  {
   "cell_type": "code",
   "execution_count": 269,
   "id": "63471a46",
   "metadata": {},
   "outputs": [
    {
     "data": {
      "text/plain": [
       "array([[35, 38, 19, 31, 27],\n",
       "       [42, 11, 35, 46, 41],\n",
       "       [36, 14,  5, 21, 31],\n",
       "       [ 9, 48,  6, 42, 18],\n",
       "       [40, 19,  7, 45, 27]])"
      ]
     },
     "execution_count": 269,
     "metadata": {},
     "output_type": "execute_result"
    }
   ],
   "source": [
    "arr"
   ]
  },
  {
   "cell_type": "code",
   "execution_count": 270,
   "id": "39d79e82",
   "metadata": {},
   "outputs": [
    {
     "data": {
      "text/plain": [
       "array([42, 48, 35, 46, 41])"
      ]
     },
     "execution_count": 270,
     "metadata": {},
     "output_type": "execute_result"
    }
   ],
   "source": [
    "arr.max(axis = 0) # Each column wise Maximum value"
   ]
  },
  {
   "cell_type": "code",
   "execution_count": 271,
   "id": "ced3a167",
   "metadata": {},
   "outputs": [
    {
     "data": {
      "text/plain": [
       "array([ 9, 11,  5, 21, 18])"
      ]
     },
     "execution_count": 271,
     "metadata": {},
     "output_type": "execute_result"
    }
   ],
   "source": [
    "arr.min(axis = 0) # Each col wise minimum value"
   ]
  },
  {
   "cell_type": "code",
   "execution_count": 272,
   "id": "0265e39e",
   "metadata": {},
   "outputs": [
    {
     "data": {
      "text/plain": [
       "array([38, 46, 36, 48, 45])"
      ]
     },
     "execution_count": 272,
     "metadata": {},
     "output_type": "execute_result"
    }
   ],
   "source": [
    "arr.max(axis = 1) # Each row wise Maximum value"
   ]
  },
  {
   "cell_type": "code",
   "execution_count": 273,
   "id": "4999aad5",
   "metadata": {},
   "outputs": [
    {
     "data": {
      "text/plain": [
       "array([19, 11,  5,  6,  7])"
      ]
     },
     "execution_count": 273,
     "metadata": {},
     "output_type": "execute_result"
    }
   ],
   "source": [
    "arr.min(axis = 1) "
   ]
  },
  {
   "cell_type": "code",
   "execution_count": 274,
   "id": "d730a36b",
   "metadata": {},
   "outputs": [
    {
     "data": {
      "text/plain": [
       "3.141592653589793"
      ]
     },
     "execution_count": 274,
     "metadata": {},
     "output_type": "execute_result"
    }
   ],
   "source": [
    "np.pi"
   ]
  },
  {
   "cell_type": "code",
   "execution_count": 275,
   "id": "763183cc",
   "metadata": {},
   "outputs": [
    {
     "data": {
      "text/plain": [
       "2.718281828459045"
      ]
     },
     "execution_count": 275,
     "metadata": {},
     "output_type": "execute_result"
    }
   ],
   "source": [
    "np.e"
   ]
  },
  {
   "cell_type": "code",
   "execution_count": 276,
   "id": "c5e10149",
   "metadata": {},
   "outputs": [
    {
     "data": {
      "text/plain": [
       "nan"
      ]
     },
     "execution_count": 276,
     "metadata": {},
     "output_type": "execute_result"
    }
   ],
   "source": [
    "np.nan"
   ]
  },
  {
   "cell_type": "code",
   "execution_count": 277,
   "id": "b6c03456",
   "metadata": {},
   "outputs": [
    {
     "data": {
      "text/plain": [
       "nan"
      ]
     },
     "execution_count": 277,
     "metadata": {},
     "output_type": "execute_result"
    }
   ],
   "source": [
    "np.nan + 5"
   ]
  },
  {
   "cell_type": "code",
   "execution_count": 278,
   "id": "8645a37a",
   "metadata": {},
   "outputs": [
    {
     "data": {
      "text/plain": [
       "nan"
      ]
     },
     "execution_count": 278,
     "metadata": {},
     "output_type": "execute_result"
    }
   ],
   "source": [
    "np.nan * 2"
   ]
  },
  {
   "cell_type": "code",
   "execution_count": 279,
   "id": "1377907a",
   "metadata": {},
   "outputs": [
    {
     "data": {
      "text/plain": [
       "nan"
      ]
     },
     "execution_count": 279,
     "metadata": {},
     "output_type": "execute_result"
    }
   ],
   "source": [
    "np.nan + np.nan"
   ]
  },
  {
   "cell_type": "code",
   "execution_count": 280,
   "id": "6d00d833",
   "metadata": {},
   "outputs": [
    {
     "data": {
      "text/plain": [
       "array([[35, 38, 19, 31, 27],\n",
       "       [42, 11, 35, 46, 41],\n",
       "       [36, 14,  5, 21, 31],\n",
       "       [ 9, 48,  6, 42, 18],\n",
       "       [40, 19,  7, 45, 27]])"
      ]
     },
     "execution_count": 280,
     "metadata": {},
     "output_type": "execute_result"
    }
   ],
   "source": [
    "arr"
   ]
  },
  {
   "cell_type": "code",
   "execution_count": 281,
   "id": "7de2daad",
   "metadata": {},
   "outputs": [
    {
     "data": {
      "text/plain": [
       "array([[nan, nan, nan, nan, nan],\n",
       "       [nan, nan, nan, nan, nan],\n",
       "       [nan, nan, nan, nan, nan],\n",
       "       [nan, nan, nan, nan, nan],\n",
       "       [nan, nan, nan, nan, nan]])"
      ]
     },
     "execution_count": 281,
     "metadata": {},
     "output_type": "execute_result"
    }
   ],
   "source": [
    "arr + np.nan"
   ]
  },
  {
   "cell_type": "markdown",
   "id": "5c3af6cf",
   "metadata": {},
   "source": [
    "### Some Other Functions"
   ]
  },
  {
   "cell_type": "code",
   "execution_count": 282,
   "id": "c829e5f5",
   "metadata": {},
   "outputs": [
    {
     "data": {
      "text/plain": [
       "array([ 0,  1,  2,  3,  4,  5,  6,  7,  8,  9, 10, 11, 12, 13, 14, 15, 16,\n",
       "       17, 18, 19, 20, 21, 22, 23, 24, 25, 26, 27, 28, 29, 30, 31, 32, 33,\n",
       "       34, 35, 36, 37, 38, 39, 40, 41, 42, 43, 44, 45, 46, 47, 48, 49])"
      ]
     },
     "execution_count": 282,
     "metadata": {},
     "output_type": "execute_result"
    }
   ],
   "source": [
    "np.arange(50)"
   ]
  },
  {
   "cell_type": "code",
   "execution_count": 283,
   "id": "66f5640e",
   "metadata": {},
   "outputs": [
    {
     "data": {
      "text/plain": [
       "array([ 0,  1,  2,  3,  4,  5,  6,  7,  8,  9, 10, 11, 12, 13, 14, 15, 16,\n",
       "       17, 18, 19, 20, 21, 22, 23, 24, 25, 26, 27, 28, 29, 30, 31, 32, 33,\n",
       "       34, 35, 36, 37, 38, 39, 40, 41, 42, 43, 44, 45, 46, 47, 48, 49, 50,\n",
       "       51, 52, 53, 54, 55, 56, 57, 58, 59, 60, 61, 62, 63, 64, 65, 66, 67,\n",
       "       68, 69, 70, 71, 72, 73, 74, 75, 76, 77, 78, 79, 80, 81, 82, 83, 84,\n",
       "       85, 86, 87, 88, 89, 90, 91, 92, 93, 94, 95, 96, 97, 98, 99])"
      ]
     },
     "execution_count": 283,
     "metadata": {},
     "output_type": "execute_result"
    }
   ],
   "source": [
    "np.arange(100)"
   ]
  },
  {
   "cell_type": "code",
   "execution_count": 287,
   "id": "b5ee3203",
   "metadata": {},
   "outputs": [
    {
     "data": {
      "text/plain": [
       "array([   0,    1,    2, ..., 4997, 4998, 4999])"
      ]
     },
     "execution_count": 287,
     "metadata": {},
     "output_type": "execute_result"
    }
   ],
   "source": [
    "np.arange(5000)"
   ]
  },
  {
   "cell_type": "code",
   "execution_count": 288,
   "id": "246d8259",
   "metadata": {},
   "outputs": [],
   "source": [
    "import sys\n",
    "np.set_printoptions(threshold=sys.maxsize)"
   ]
  },
  {
   "cell_type": "code",
   "execution_count": 290,
   "id": "67fa1b3f",
   "metadata": {},
   "outputs": [],
   "source": [
    "# np.arange(5000)"
   ]
  },
  {
   "cell_type": "code",
   "execution_count": 291,
   "id": "1388e957",
   "metadata": {},
   "outputs": [],
   "source": [
    "np.set_printoptions(threshold=3)"
   ]
  },
  {
   "cell_type": "code",
   "execution_count": 292,
   "id": "1628eebe",
   "metadata": {},
   "outputs": [
    {
     "data": {
      "text/plain": [
       "array([   0,    1,    2, ..., 4997, 4998, 4999])"
      ]
     },
     "execution_count": 292,
     "metadata": {},
     "output_type": "execute_result"
    }
   ],
   "source": [
    "np.arange(5000)"
   ]
  },
  {
   "cell_type": "code",
   "execution_count": 293,
   "id": "fe22db51",
   "metadata": {},
   "outputs": [
    {
     "data": {
      "text/plain": [
       "array([[35, 38, 19, 31, 27],\n",
       "       [42, 11, 35, 46, 41],\n",
       "       [36, 14,  5, 21, 31],\n",
       "       [ 9, 48,  6, 42, 18],\n",
       "       [40, 19,  7, 45, 27]])"
      ]
     },
     "execution_count": 293,
     "metadata": {},
     "output_type": "execute_result"
    }
   ],
   "source": [
    "arr"
   ]
  },
  {
   "cell_type": "code",
   "execution_count": 294,
   "id": "9f993309",
   "metadata": {},
   "outputs": [
    {
     "data": {
      "text/plain": [
       "array([162, 130,  72, 185, 144])"
      ]
     },
     "execution_count": 294,
     "metadata": {},
     "output_type": "execute_result"
    }
   ],
   "source": [
    "np.sum(arr, axis = 0)"
   ]
  },
  {
   "cell_type": "code",
   "execution_count": 295,
   "id": "0156faba",
   "metadata": {},
   "outputs": [
    {
     "data": {
      "text/plain": [
       "array([150, 175, 107, 123, 138])"
      ]
     },
     "execution_count": 295,
     "metadata": {},
     "output_type": "execute_result"
    }
   ],
   "source": [
    "np.sum(arr, axis = 1)"
   ]
  },
  {
   "cell_type": "code",
   "execution_count": 296,
   "id": "3bc8f38d",
   "metadata": {},
   "outputs": [
    {
     "data": {
      "text/plain": [
       "693"
      ]
     },
     "execution_count": 296,
     "metadata": {},
     "output_type": "execute_result"
    }
   ],
   "source": [
    "np.sum(arr, axis = None)"
   ]
  },
  {
   "cell_type": "code",
   "execution_count": 297,
   "id": "1bd89536",
   "metadata": {},
   "outputs": [],
   "source": [
    "arr1 = np.array([4,5,8,9])\n",
    "arr2 = np.array([2,3,3,5])"
   ]
  },
  {
   "cell_type": "code",
   "execution_count": 298,
   "id": "9923395c",
   "metadata": {},
   "outputs": [
    {
     "data": {
      "text/plain": [
       "array([0, 2, 2, 4])"
      ]
     },
     "execution_count": 298,
     "metadata": {},
     "output_type": "execute_result"
    }
   ],
   "source": [
    "np.remainder(arr1, arr2)"
   ]
  },
  {
   "cell_type": "code",
   "execution_count": 299,
   "id": "e5472ea7",
   "metadata": {},
   "outputs": [
    {
     "data": {
      "text/plain": [
       "array([2, 1, 2, 1])"
      ]
     },
     "execution_count": 299,
     "metadata": {},
     "output_type": "execute_result"
    }
   ],
   "source": [
    "np.floor_divide(arr1, arr2)"
   ]
  },
  {
   "cell_type": "code",
   "execution_count": 300,
   "id": "bd2e0d2d",
   "metadata": {},
   "outputs": [
    {
     "data": {
      "text/plain": [
       "(array([2, 1, 2, 1]), array([0, 2, 2, 4]))"
      ]
     },
     "execution_count": 300,
     "metadata": {},
     "output_type": "execute_result"
    }
   ],
   "source": [
    "np.divmod(arr1, arr2)"
   ]
  },
  {
   "cell_type": "code",
   "execution_count": 301,
   "id": "21b0e18d",
   "metadata": {},
   "outputs": [],
   "source": [
    "a = np.array([1.24,4.16,4.965])"
   ]
  },
  {
   "cell_type": "code",
   "execution_count": 302,
   "id": "cad77fac",
   "metadata": {},
   "outputs": [
    {
     "data": {
      "text/plain": [
       "array([1., 4., 5.])"
      ]
     },
     "execution_count": 302,
     "metadata": {},
     "output_type": "execute_result"
    }
   ],
   "source": [
    "np.round(a)"
   ]
  },
  {
   "cell_type": "code",
   "execution_count": 303,
   "id": "1b7a128b",
   "metadata": {},
   "outputs": [
    {
     "data": {
      "text/plain": [
       "array([1., 4., 5.])"
      ]
     },
     "execution_count": 303,
     "metadata": {},
     "output_type": "execute_result"
    }
   ],
   "source": [
    "np.round_(a)"
   ]
  },
  {
   "cell_type": "code",
   "execution_count": 304,
   "id": "20e289da",
   "metadata": {},
   "outputs": [
    {
     "data": {
      "text/plain": [
       "array([1., 4., 4.])"
      ]
     },
     "execution_count": 304,
     "metadata": {},
     "output_type": "execute_result"
    }
   ],
   "source": [
    "np.floor(a)"
   ]
  },
  {
   "cell_type": "code",
   "execution_count": 305,
   "id": "d0963379",
   "metadata": {},
   "outputs": [
    {
     "data": {
      "text/plain": [
       "array([0, 1, 2, ..., 7, 8, 9])"
      ]
     },
     "execution_count": 305,
     "metadata": {},
     "output_type": "execute_result"
    }
   ],
   "source": [
    "np.arange(10)"
   ]
  },
  {
   "cell_type": "code",
   "execution_count": 307,
   "id": "57cc9700",
   "metadata": {},
   "outputs": [],
   "source": [
    "arr = np.arange(10, dtype='float')"
   ]
  },
  {
   "cell_type": "code",
   "execution_count": 308,
   "id": "e44f72b4",
   "metadata": {},
   "outputs": [
    {
     "data": {
      "text/plain": [
       "array([0., 1., 2., ..., 7., 8., 9.])"
      ]
     },
     "execution_count": 308,
     "metadata": {},
     "output_type": "execute_result"
    }
   ],
   "source": [
    "arr"
   ]
  },
  {
   "cell_type": "code",
   "execution_count": 309,
   "id": "322d0604",
   "metadata": {},
   "outputs": [
    {
     "data": {
      "text/plain": [
       "array([0, 1, 2, ..., 7, 8, 9])"
      ]
     },
     "execution_count": 309,
     "metadata": {},
     "output_type": "execute_result"
    }
   ],
   "source": [
    "np.array(arr, dtype='int')"
   ]
  },
  {
   "cell_type": "code",
   "execution_count": 310,
   "id": "cd47c371",
   "metadata": {},
   "outputs": [
    {
     "data": {
      "text/plain": [
       "array(['0.0', '1.0', '2.0', ..., '7.0', '8.0', '9.0'], dtype='<U32')"
      ]
     },
     "execution_count": 310,
     "metadata": {},
     "output_type": "execute_result"
    }
   ],
   "source": [
    "np.array(arr, dtype='str')"
   ]
  },
  {
   "cell_type": "code",
   "execution_count": 312,
   "id": "ae444976",
   "metadata": {},
   "outputs": [
    {
     "data": {
      "text/plain": [
       "array(['0', '1', '2', ..., '7', '8', '9'], dtype='<U11')"
      ]
     },
     "execution_count": 312,
     "metadata": {},
     "output_type": "execute_result"
    }
   ],
   "source": [
    "np.array(np.array(arr, dtype='int'), dtype='str')"
   ]
  },
  {
   "cell_type": "code",
   "execution_count": 313,
   "id": "4bce0e8a",
   "metadata": {},
   "outputs": [
    {
     "data": {
      "text/plain": [
       "array([4, 5, 8, 9])"
      ]
     },
     "execution_count": 313,
     "metadata": {},
     "output_type": "execute_result"
    }
   ],
   "source": [
    "arr1"
   ]
  },
  {
   "cell_type": "code",
   "execution_count": 314,
   "id": "9c23aed1",
   "metadata": {},
   "outputs": [
    {
     "data": {
      "text/plain": [
       "array([2, 3, 3, 5])"
      ]
     },
     "execution_count": 314,
     "metadata": {},
     "output_type": "execute_result"
    }
   ],
   "source": [
    "arr2"
   ]
  },
  {
   "cell_type": "code",
   "execution_count": 315,
   "id": "beb9ce11",
   "metadata": {},
   "outputs": [
    {
     "data": {
      "text/plain": [
       "array([4, 5, 8, 9])"
      ]
     },
     "execution_count": 315,
     "metadata": {},
     "output_type": "execute_result"
    }
   ],
   "source": [
    "np.maximum(arr1, arr2)"
   ]
  },
  {
   "cell_type": "code",
   "execution_count": 316,
   "id": "e185132e",
   "metadata": {},
   "outputs": [
    {
     "data": {
      "text/plain": [
       "array([2, 3, 3, 5])"
      ]
     },
     "execution_count": 316,
     "metadata": {},
     "output_type": "execute_result"
    }
   ],
   "source": [
    "np.minimum(arr1, arr2)"
   ]
  },
  {
   "cell_type": "code",
   "execution_count": 318,
   "id": "bd350b75",
   "metadata": {},
   "outputs": [
    {
     "data": {
      "text/plain": [
       "array([4, 8, 9])"
      ]
     },
     "execution_count": 318,
     "metadata": {},
     "output_type": "execute_result"
    }
   ],
   "source": [
    "np.setdiff1d(arr1,arr2) # 4, 8, 9 are not presented in arr 2"
   ]
  },
  {
   "cell_type": "code",
   "execution_count": 319,
   "id": "ae92dd41",
   "metadata": {},
   "outputs": [],
   "source": [
    "set1 = {1,4,5,7,8,9}\n",
    "set2 = {4,7,0,3,1}"
   ]
  },
  {
   "cell_type": "code",
   "execution_count": 320,
   "id": "f8a1b6b5",
   "metadata": {},
   "outputs": [
    {
     "data": {
      "text/plain": [
       "{5, 8, 9}"
      ]
     },
     "execution_count": 320,
     "metadata": {},
     "output_type": "execute_result"
    }
   ],
   "source": [
    "set1 - set2"
   ]
  },
  {
   "cell_type": "code",
   "execution_count": 321,
   "id": "3cb30030",
   "metadata": {},
   "outputs": [
    {
     "data": {
      "text/plain": [
       "{0, 3}"
      ]
     },
     "execution_count": 321,
     "metadata": {},
     "output_type": "execute_result"
    }
   ],
   "source": [
    "set2 - set1"
   ]
  },
  {
   "cell_type": "code",
   "execution_count": 322,
   "id": "7d50bb04",
   "metadata": {},
   "outputs": [
    {
     "data": {
      "text/plain": [
       "array([2, 3])"
      ]
     },
     "execution_count": 322,
     "metadata": {},
     "output_type": "execute_result"
    }
   ],
   "source": [
    "np.setdiff1d(arr2,arr1)"
   ]
  },
  {
   "cell_type": "code",
   "execution_count": 323,
   "id": "3d2f2956",
   "metadata": {},
   "outputs": [
    {
     "data": {
      "text/plain": [
       "array([4, 5, 8, 9])"
      ]
     },
     "execution_count": 323,
     "metadata": {},
     "output_type": "execute_result"
    }
   ],
   "source": [
    "arr1"
   ]
  },
  {
   "cell_type": "markdown",
   "id": "a2f9e0f3",
   "metadata": {},
   "source": [
    "### NumPy Dot method"
   ]
  },
  {
   "cell_type": "code",
   "execution_count": 324,
   "id": "47a2c80b",
   "metadata": {},
   "outputs": [
    {
     "data": {
      "text/plain": [
       "32"
      ]
     },
     "execution_count": 324,
     "metadata": {},
     "output_type": "execute_result"
    }
   ],
   "source": [
    "np.dot(4,8)"
   ]
  },
  {
   "cell_type": "code",
   "execution_count": 325,
   "id": "c6165797",
   "metadata": {},
   "outputs": [
    {
     "data": {
      "text/plain": [
       "23"
      ]
     },
     "execution_count": 325,
     "metadata": {},
     "output_type": "execute_result"
    }
   ],
   "source": [
    "np.dot([2,3],[4,5]) \n",
    "# 2*4 = 8\n",
    "# 3*5 = 15\n",
    "# +___________\n",
    "#         23"
   ]
  },
  {
   "cell_type": "code",
   "execution_count": 326,
   "id": "1e98e943",
   "metadata": {},
   "outputs": [
    {
     "data": {
      "text/plain": [
       "array([ 8, 10])"
      ]
     },
     "execution_count": 326,
     "metadata": {},
     "output_type": "execute_result"
    }
   ],
   "source": [
    "np.dot(2,[4,5])"
   ]
  },
  {
   "cell_type": "markdown",
   "id": "1056cd8c",
   "metadata": {},
   "source": [
    "### NumPy:\n",
    "\n",
    "NumPy (Numerical Python) is a fundamental package in the Python scientific computing ecosystem. It provides powerful tools for working with arrays, mathematical functions, linear algebra, random number generation, and more. The importance of NumPy lies in several key areas:\n",
    "\n",
    "* Efficient array operations\n",
    "* Numerical computing\n",
    "* Memory efficiency\n",
    "* Integration with other libraries\n",
    "* Vectorized operations\n",
    "* High-performance computing\n",
    "\n",
    "Overall, NumPy plays a crucial role in scientific computing, data analysis, and numerical programming in Python. It provides a solid foundation for efficient numerical operations, allowing developers to write concise, readable, and performant code."
   ]
  },
  {
   "cell_type": "markdown",
   "id": "e22ceed3",
   "metadata": {},
   "source": [
    "### NumPy Complete Series:\n",
    "\n",
    "https://www.youtube.com/playlist?list=PLWuFHho1zKhUGq1be3zUT3Ek5myJrKiIP"
   ]
  },
  {
   "cell_type": "code",
   "execution_count": null,
   "id": "9a2164ab",
   "metadata": {},
   "outputs": [],
   "source": []
  }
 ],
 "metadata": {
  "kernelspec": {
   "display_name": "Python 3 (ipykernel)",
   "language": "python",
   "name": "python3"
  },
  "language_info": {
   "codemirror_mode": {
    "name": "ipython",
    "version": 3
   },
   "file_extension": ".py",
   "mimetype": "text/x-python",
   "name": "python",
   "nbconvert_exporter": "python",
   "pygments_lexer": "ipython3",
   "version": "3.11.2"
  }
 },
 "nbformat": 4,
 "nbformat_minor": 5
}
