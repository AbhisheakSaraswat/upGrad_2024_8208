{
 "cells": [
  {
   "cell_type": "markdown",
   "id": "7c8d45f6",
   "metadata": {},
   "source": [
    "### Univariate Analysis :\n",
    "\n",
    "UA is statistical technique which is mainly focus on analyzing and summarizing the data that contain only single feature or variable.\n",
    "\n",
    "If you are doing EDA : Exploratory data Analysis then you need of UA\n",
    "\n",
    "Basically it the very first step in data exploration to understand the variable properties like central tendency and variability of the data.\n",
    "\n",
    "<b> Central Tendency : </b>\n",
    "\n",
    "* Mean : Avg of the values\n",
    "* Median : Middle of the value\n",
    "* Mode : Most frequently value\n",
    "\n",
    "<b> Dispersion </b>\n",
    "* Range : d/b/w maximum and minimum values\n",
    "* Variance : A measure of how much the values vary from the mean\n",
    "* Standard Deviation : Square root of variance, and it will give you an idea of how much data points deviate from the mean.\n",
    "\n",
    "<b> Distribution </b>\n",
    "* Normal Distribution\n",
    "* Skewed Distribution\n",
    "* Kurtosis\n",
    "\n",
    "<b> Visualization </b>\n",
    "* Histogram\n",
    "* Box Plot\n",
    "* Bar Chart\n",
    "\n",
    "<b> Using Outlier </b>\n",
    "\n",
    "\n",
    "## Example of Univariate Analysis:\n",
    "\n",
    "* Evaluate the Mean\n",
    "* Most common value\n",
    "* how our data spread out\n",
    "* find out the distribution using histogram\n",
    "* https://www.youtube.com/watch?v=cJ551vcFGm4&list=PLWuFHho1zKhUJpe9WfSyvrrQrzqDErbmv&index=27&t=1s"
   ]
  },
  {
   "cell_type": "code",
   "execution_count": 19,
   "id": "01f97da5",
   "metadata": {},
   "outputs": [],
   "source": [
    "import numpy as np\n",
    "import pandas as pd\n",
    "import matplotlib.pyplot as plt\n",
    "import seaborn as sns\n",
    "import plotly.express as px\n",
    "import warnings\n",
    "import sketch\n",
    "import os\n",
    "warnings.filterwarnings(\"ignore\")"
   ]
  },
  {
   "cell_type": "code",
   "execution_count": 5,
   "id": "4137c48b",
   "metadata": {},
   "outputs": [],
   "source": [
    "df = pd.read_csv(\"titanic_dataset.csv\")"
   ]
  },
  {
   "cell_type": "code",
   "execution_count": 6,
   "id": "b19494f6",
   "metadata": {},
   "outputs": [
    {
     "data": {
      "text/plain": [
       "(891, 12)"
      ]
     },
     "execution_count": 6,
     "metadata": {},
     "output_type": "execute_result"
    }
   ],
   "source": [
    "df.shape"
   ]
  },
  {
   "cell_type": "code",
   "execution_count": 8,
   "id": "91a47e9c",
   "metadata": {},
   "outputs": [
    {
     "data": {
      "text/html": [
       "<div>\n",
       "<style scoped>\n",
       "    .dataframe tbody tr th:only-of-type {\n",
       "        vertical-align: middle;\n",
       "    }\n",
       "\n",
       "    .dataframe tbody tr th {\n",
       "        vertical-align: top;\n",
       "    }\n",
       "\n",
       "    .dataframe thead th {\n",
       "        text-align: right;\n",
       "    }\n",
       "</style>\n",
       "<table border=\"1\" class=\"dataframe\">\n",
       "  <thead>\n",
       "    <tr style=\"text-align: right;\">\n",
       "      <th></th>\n",
       "      <th>PassengerId</th>\n",
       "      <th>Survived</th>\n",
       "      <th>Pclass</th>\n",
       "      <th>Name</th>\n",
       "      <th>Sex</th>\n",
       "      <th>Age</th>\n",
       "      <th>SibSp</th>\n",
       "      <th>Parch</th>\n",
       "      <th>Ticket</th>\n",
       "      <th>Fare</th>\n",
       "      <th>Cabin</th>\n",
       "      <th>Embarked</th>\n",
       "    </tr>\n",
       "  </thead>\n",
       "  <tbody>\n",
       "    <tr>\n",
       "      <th>0</th>\n",
       "      <td>1</td>\n",
       "      <td>0</td>\n",
       "      <td>3</td>\n",
       "      <td>Braund, Mr. Owen Harris</td>\n",
       "      <td>male</td>\n",
       "      <td>22.0</td>\n",
       "      <td>1</td>\n",
       "      <td>0</td>\n",
       "      <td>A/5 21171</td>\n",
       "      <td>7.2500</td>\n",
       "      <td>NaN</td>\n",
       "      <td>S</td>\n",
       "    </tr>\n",
       "    <tr>\n",
       "      <th>1</th>\n",
       "      <td>2</td>\n",
       "      <td>1</td>\n",
       "      <td>1</td>\n",
       "      <td>Cumings, Mrs. John Bradley (Florence Briggs Th...</td>\n",
       "      <td>female</td>\n",
       "      <td>38.0</td>\n",
       "      <td>1</td>\n",
       "      <td>0</td>\n",
       "      <td>PC 17599</td>\n",
       "      <td>71.2833</td>\n",
       "      <td>C85</td>\n",
       "      <td>C</td>\n",
       "    </tr>\n",
       "  </tbody>\n",
       "</table>\n",
       "</div>"
      ],
      "text/plain": [
       "   PassengerId  Survived  Pclass  \\\n",
       "0            1         0       3   \n",
       "1            2         1       1   \n",
       "\n",
       "                                                Name     Sex   Age  SibSp  \\\n",
       "0                            Braund, Mr. Owen Harris    male  22.0      1   \n",
       "1  Cumings, Mrs. John Bradley (Florence Briggs Th...  female  38.0      1   \n",
       "\n",
       "   Parch     Ticket     Fare Cabin Embarked  \n",
       "0      0  A/5 21171   7.2500   NaN        S  \n",
       "1      0   PC 17599  71.2833   C85        C  "
      ]
     },
     "execution_count": 8,
     "metadata": {},
     "output_type": "execute_result"
    }
   ],
   "source": [
    "df.head(2)"
   ]
  },
  {
   "cell_type": "markdown",
   "id": "8f9be265",
   "metadata": {},
   "source": [
    "### Key Variables for Analysis\n",
    "\n",
    "* Dependent Variable\n",
    "    * Survived (Whether a passenger survived or not)\n",
    "* Independent Variable\n",
    "    * Pclass\n",
    "    * sex\n",
    "    * age\n",
    "    * sibsp\n",
    "    * parch\n",
    "    * fare\n",
    "    * emarked"
   ]
  },
  {
   "cell_type": "code",
   "execution_count": 9,
   "id": "f326ab35",
   "metadata": {},
   "outputs": [
    {
     "data": {
      "text/html": [
       "\n",
       "<ul>\n",
       "<li><b>index:</b> The index of the dataframe, which is an integer value assigned to each row.</li>\n",
       "<li><b>PassengerId:</b> The unique identifier for each passenger on the Titanic.</li>\n",
       "<li><b>Survived:</b> Whether or not the passenger survived the sinking of the Titanic (0 = No, 1 = Yes).</li>\n",
       "<li><b>Pclass:</b> The passenger's ticket class (1st, 2nd, or 3rd).</li>\n",
       "<li><b>Name:</b> The passenger's name.</li>\n",
       "<li><b>Sex:</b> The passenger's gender.</li>\n",
       "<li><b>Age:</b> The passenger's age in years.</li>\n",
       "<li><b>SibSp:</b> The number of siblings/spouses the passenger had aboard the Titanic.</li>\n",
       "<li><b>Parch:</b> The number of parents/children the passenger had aboard the Titanic.</li>\n",
       "<li><b>Ticket:</b> The passenger's ticket number.</li>\n",
       "<li><b>Fare:</b> The fare the passenger paid for their ticket.</li>\n",
       "<li><b>Cabin:</b> The cabin number of the passenger (if known).</li>\n",
       "<li><b>Embarked:</b> The port where the passenger embarked (C = Cherbourg, Q = Queenstown, S = Southampton).</li>\n",
       "</ul>"
      ],
      "text/plain": [
       "<IPython.core.display.HTML object>"
      ]
     },
     "metadata": {},
     "output_type": "display_data"
    }
   ],
   "source": [
    "df.sketch.ask(\"can you give me friendly names with description of each column? (Output as an HTML List)\")"
   ]
  },
  {
   "cell_type": "code",
   "execution_count": 10,
   "id": "979bcd3b",
   "metadata": {},
   "outputs": [
    {
     "data": {
      "text/html": [
       "\n",
       "The Sketch Python package is a library that provides tools for creating, manipulating, and visualizing data sketches. Data sketches are compact data structures that summarize large datasets in a memory-efficient way, making them useful for analyzing and processing big data. The Sketch package includes various types of sketches, such as count-min sketch, quantile sketch, and frequency sketch, which can be used for tasks such as estimating frequencies, finding heavy hitters, and calculating quantiles. It also offers methods for combining and querying sketches, as well as functions for plotting and visualizing the results. Overall, the Sketch Python package is a useful tool for working with large datasets and performing data analysis tasks efficiently."
      ],
      "text/plain": [
       "<IPython.core.display.HTML object>"
      ]
     },
     "metadata": {},
     "output_type": "display_data"
    }
   ],
   "source": [
    "df.sketch.ask(\"What is use of Sketch Python package?\")"
   ]
  },
  {
   "cell_type": "code",
   "execution_count": 11,
   "id": "ba4c63b6",
   "metadata": {},
   "outputs": [],
   "source": [
    "sales = pd.read_excel(\"Superstore.xls\")"
   ]
  },
  {
   "cell_type": "code",
   "execution_count": 12,
   "id": "96565c46",
   "metadata": {},
   "outputs": [
    {
     "data": {
      "text/html": [
       "<div>\n",
       "<style scoped>\n",
       "    .dataframe tbody tr th:only-of-type {\n",
       "        vertical-align: middle;\n",
       "    }\n",
       "\n",
       "    .dataframe tbody tr th {\n",
       "        vertical-align: top;\n",
       "    }\n",
       "\n",
       "    .dataframe thead th {\n",
       "        text-align: right;\n",
       "    }\n",
       "</style>\n",
       "<table border=\"1\" class=\"dataframe\">\n",
       "  <thead>\n",
       "    <tr style=\"text-align: right;\">\n",
       "      <th></th>\n",
       "      <th>Row ID</th>\n",
       "      <th>Order ID</th>\n",
       "      <th>Order Date</th>\n",
       "      <th>Ship Date</th>\n",
       "      <th>Ship Mode</th>\n",
       "      <th>Customer ID</th>\n",
       "      <th>Customer Name</th>\n",
       "      <th>Segment</th>\n",
       "      <th>Country</th>\n",
       "      <th>City</th>\n",
       "      <th>...</th>\n",
       "      <th>Postal Code</th>\n",
       "      <th>Region</th>\n",
       "      <th>Product ID</th>\n",
       "      <th>Category</th>\n",
       "      <th>Sub-Category</th>\n",
       "      <th>Product Name</th>\n",
       "      <th>Sales</th>\n",
       "      <th>Quantity</th>\n",
       "      <th>Discount</th>\n",
       "      <th>Profit</th>\n",
       "    </tr>\n",
       "  </thead>\n",
       "  <tbody>\n",
       "    <tr>\n",
       "      <th>0</th>\n",
       "      <td>1</td>\n",
       "      <td>CA-2016-152156</td>\n",
       "      <td>2016-11-08</td>\n",
       "      <td>2016-11-11</td>\n",
       "      <td>Second Class</td>\n",
       "      <td>CG-12520</td>\n",
       "      <td>Claire Gute</td>\n",
       "      <td>Consumer</td>\n",
       "      <td>United States</td>\n",
       "      <td>Henderson</td>\n",
       "      <td>...</td>\n",
       "      <td>42420</td>\n",
       "      <td>South</td>\n",
       "      <td>FUR-BO-10001798</td>\n",
       "      <td>Furniture</td>\n",
       "      <td>Bookcases</td>\n",
       "      <td>Bush Somerset Collection Bookcase</td>\n",
       "      <td>261.96</td>\n",
       "      <td>2</td>\n",
       "      <td>0.0</td>\n",
       "      <td>41.9136</td>\n",
       "    </tr>\n",
       "    <tr>\n",
       "      <th>1</th>\n",
       "      <td>2</td>\n",
       "      <td>CA-2016-152156</td>\n",
       "      <td>2016-11-08</td>\n",
       "      <td>2016-11-11</td>\n",
       "      <td>Second Class</td>\n",
       "      <td>CG-12520</td>\n",
       "      <td>Claire Gute</td>\n",
       "      <td>Consumer</td>\n",
       "      <td>United States</td>\n",
       "      <td>Henderson</td>\n",
       "      <td>...</td>\n",
       "      <td>42420</td>\n",
       "      <td>South</td>\n",
       "      <td>FUR-CH-10000454</td>\n",
       "      <td>Furniture</td>\n",
       "      <td>Chairs</td>\n",
       "      <td>Hon Deluxe Fabric Upholstered Stacking Chairs,...</td>\n",
       "      <td>731.94</td>\n",
       "      <td>3</td>\n",
       "      <td>0.0</td>\n",
       "      <td>219.5820</td>\n",
       "    </tr>\n",
       "  </tbody>\n",
       "</table>\n",
       "<p>2 rows × 21 columns</p>\n",
       "</div>"
      ],
      "text/plain": [
       "   Row ID        Order ID Order Date  Ship Date     Ship Mode Customer ID  \\\n",
       "0       1  CA-2016-152156 2016-11-08 2016-11-11  Second Class    CG-12520   \n",
       "1       2  CA-2016-152156 2016-11-08 2016-11-11  Second Class    CG-12520   \n",
       "\n",
       "  Customer Name   Segment        Country       City  ... Postal Code  Region  \\\n",
       "0   Claire Gute  Consumer  United States  Henderson  ...       42420   South   \n",
       "1   Claire Gute  Consumer  United States  Henderson  ...       42420   South   \n",
       "\n",
       "        Product ID   Category Sub-Category  \\\n",
       "0  FUR-BO-10001798  Furniture    Bookcases   \n",
       "1  FUR-CH-10000454  Furniture       Chairs   \n",
       "\n",
       "                                        Product Name   Sales  Quantity  \\\n",
       "0                  Bush Somerset Collection Bookcase  261.96         2   \n",
       "1  Hon Deluxe Fabric Upholstered Stacking Chairs,...  731.94         3   \n",
       "\n",
       "   Discount    Profit  \n",
       "0       0.0   41.9136  \n",
       "1       0.0  219.5820  \n",
       "\n",
       "[2 rows x 21 columns]"
      ]
     },
     "execution_count": 12,
     "metadata": {},
     "output_type": "execute_result"
    }
   ],
   "source": [
    "sales.head(2)"
   ]
  },
  {
   "cell_type": "code",
   "execution_count": 20,
   "id": "c191359d",
   "metadata": {},
   "outputs": [],
   "source": [
    "os.environ['SKETCH_MAX_COLUMNS'] = '30'"
   ]
  },
  {
   "cell_type": "code",
   "execution_count": 21,
   "id": "2b7cf15b",
   "metadata": {},
   "outputs": [
    {
     "data": {
      "text/html": [
       "\n",
       "<ul>\n",
       "<li><b>index:</b> The index of the dataframe, which is a unique identifier for each row.</li>\n",
       "<li><b>Row ID:</b> The ID of the row, which is also a unique identifier for each row.</li>\n",
       "<li><b>Order ID:</b> The unique identifier for each order.</li>\n",
       "<li><b>Order Date:</b> The date the order was placed.</li>\n",
       "<li><b>Ship Date:</b> The date the order was shipped.</li>\n",
       "<li><b>Ship Mode:</b> The shipping method used for the order.</li>\n",
       "<li><b>Customer ID:</b> The unique identifier for each customer.</li>\n",
       "<li><b>Customer Name:</b> The name of the customer who placed the order.</li>\n",
       "<li><b>Segment:</b> The segment of customers (consumer, corporate, or home office).</li>\n",
       "<li><b>Country:</b> The country where the order was placed (all orders are from the United States).</li>\n",
       "<li><b>City:</b> The city where the order was placed.</li>\n",
       "<li><b>State:</b> The state where the order was placed.</li>\n",
       "<li><b>Postal Code:</b> The postal code of the location where the order was placed.</li>\n",
       "<li><b>Region:</b> The region of the country where the order was placed (East, West, North, or South).</li>\n",
       "<li><b>Product ID:</b> The unique identifier for each product.</li>\n",
       "<li><b>Category:</b> The category of the product (furniture, office supplies, or technology).</li>\n",
       "<li><b>Sub-Category:</b> The sub-category of the product (e.g. chairs, tables, storage).</li>\n",
       "<li><b>Product Name:</b> The name of the product.</li>\n",
       "<li><b>Sales:</b> The total sales for each order.</li>\n",
       "<li><b>Quantity:</b> The quantity of each product ordered.</li>\n",
       "<li><b>Discount:</b> The discount applied to the order.</li>\n",
       "<li><b>Profit:</b> The profit made from the order.</li>\n",
       "</ul>"
      ],
      "text/plain": [
       "<IPython.core.display.HTML object>"
      ]
     },
     "metadata": {},
     "output_type": "display_data"
    }
   ],
   "source": [
    "sales.sketch.ask(\"can you give me friendly names with description of each column? (Output as an HTML List)\")"
   ]
  },
  {
   "cell_type": "code",
   "execution_count": 22,
   "id": "8ac3d697",
   "metadata": {},
   "outputs": [
    {
     "data": {
      "text/html": [
       "<div style=\"display:flex;flex-direction:row;justify-content:space-between;\">\n",
       "                <pre style=\"width: 100%; white-space: pre-wrap;\" id=\"79409681-ddf3-4d31-859d-e76f9959aa9c\"># Group the dataframe by region and sum the sales column\n",
       "region_sales = sales.groupby('Region')['Sales'].sum()\n",
       "\n",
       "# Plot a bar chart to visualize the sales by region\n",
       "region_sales.plot(kind='bar')\n",
       "\n",
       "# Add labels and title to the plot\n",
       "plt.xlabel('Region')\n",
       "plt.ylabel('Sales')\n",
       "plt.title('Region wise Sales')\n",
       "\n",
       "# Show the plot\n",
       "plt.show()\n",
       "</pre>\n",
       "                <button style=\"height: fit-content;\" onclick=\"navigator.clipboard.writeText(JSON.parse(atob(`IiMgR3JvdXAgdGhlIGRhdGFmcmFtZSBieSByZWdpb24gYW5kIHN1bSB0aGUgc2FsZXMgY29sdW1uXG5yZWdpb25fc2FsZXMgPSBzYWxlcy5ncm91cGJ5KCdSZWdpb24nKVsnU2FsZXMnXS5zdW0oKVxuXG4jIFBsb3QgYSBiYXIgY2hhcnQgdG8gdmlzdWFsaXplIHRoZSBzYWxlcyBieSByZWdpb25cbnJlZ2lvbl9zYWxlcy5wbG90KGtpbmQ9J2JhcicpXG5cbiMgQWRkIGxhYmVscyBhbmQgdGl0bGUgdG8gdGhlIHBsb3RcbnBsdC54bGFiZWwoJ1JlZ2lvbicpXG5wbHQueWxhYmVsKCdTYWxlcycpXG5wbHQudGl0bGUoJ1JlZ2lvbiB3aXNlIFNhbGVzJylcblxuIyBTaG93IHRoZSBwbG90XG5wbHQuc2hvdygpXG4i`)))\">Copy</button>\n",
       "                </div>"
      ],
      "text/plain": [
       "<IPython.core.display.HTML object>"
      ]
     },
     "metadata": {},
     "output_type": "display_data"
    }
   ],
   "source": [
    "sales.sketch.howto(\"Region wise Sales\")"
   ]
  },
  {
   "cell_type": "code",
   "execution_count": 23,
   "id": "cd0c8370",
   "metadata": {},
   "outputs": [
    {
     "data": {
      "image/png": "[encoded data removed]",
      "text/plain": [
       "<Figure size 640x480 with 1 Axes>"
      ]
     },
     "metadata": {},
     "output_type": "display_data"
    }
   ],
   "source": [
    "# Group the dataframe by region and sum the sales column\n",
    "region_sales = sales.groupby('Region')['Sales'].sum()\n",
    "\n",
    "# Plot a bar chart to visualize the sales by region\n",
    "region_sales.plot(kind='bar')\n",
    "\n",
    "# Add labels and title to the plot\n",
    "plt.xlabel('Region')\n",
    "plt.ylabel('Sales')\n",
    "plt.title('Region wise Sales')\n",
    "\n",
    "# Show the plot\n",
    "plt.show()\n"
   ]
  },
  {
   "cell_type": "code",
   "execution_count": 24,
   "id": "3da2b379",
   "metadata": {},
   "outputs": [
    {
     "data": {
      "text/plain": [
       "Region\n",
       "Central    501239.8908\n",
       "East       678781.2400\n",
       "South      391721.9050\n",
       "West       725457.8245\n",
       "Name: Sales, dtype: float64"
      ]
     },
     "execution_count": 24,
     "metadata": {},
     "output_type": "execute_result"
    }
   ],
   "source": [
    "region_sales"
   ]
  },
  {
   "cell_type": "markdown",
   "id": "2bcf814e",
   "metadata": {},
   "source": [
    "### Pandas with Sketch (To Understand the data):\n",
    "\n",
    "https://youtu.be/cJ551vcFGm4?si=LWPSllDnuCPR6qU0"
   ]
  },
  {
   "cell_type": "code",
   "execution_count": 25,
   "id": "58846e56",
   "metadata": {},
   "outputs": [
    {
     "data": {
      "text/html": [
       "<div>\n",
       "<style scoped>\n",
       "    .dataframe tbody tr th:only-of-type {\n",
       "        vertical-align: middle;\n",
       "    }\n",
       "\n",
       "    .dataframe tbody tr th {\n",
       "        vertical-align: top;\n",
       "    }\n",
       "\n",
       "    .dataframe thead th {\n",
       "        text-align: right;\n",
       "    }\n",
       "</style>\n",
       "<table border=\"1\" class=\"dataframe\">\n",
       "  <thead>\n",
       "    <tr style=\"text-align: right;\">\n",
       "      <th></th>\n",
       "      <th>PassengerId</th>\n",
       "      <th>Survived</th>\n",
       "      <th>Pclass</th>\n",
       "      <th>Name</th>\n",
       "      <th>Sex</th>\n",
       "      <th>Age</th>\n",
       "      <th>SibSp</th>\n",
       "      <th>Parch</th>\n",
       "      <th>Ticket</th>\n",
       "      <th>Fare</th>\n",
       "      <th>Cabin</th>\n",
       "      <th>Embarked</th>\n",
       "    </tr>\n",
       "  </thead>\n",
       "  <tbody>\n",
       "    <tr>\n",
       "      <th>0</th>\n",
       "      <td>1</td>\n",
       "      <td>0</td>\n",
       "      <td>3</td>\n",
       "      <td>Braund, Mr. Owen Harris</td>\n",
       "      <td>male</td>\n",
       "      <td>22.0</td>\n",
       "      <td>1</td>\n",
       "      <td>0</td>\n",
       "      <td>A/5 21171</td>\n",
       "      <td>7.2500</td>\n",
       "      <td>NaN</td>\n",
       "      <td>S</td>\n",
       "    </tr>\n",
       "    <tr>\n",
       "      <th>1</th>\n",
       "      <td>2</td>\n",
       "      <td>1</td>\n",
       "      <td>1</td>\n",
       "      <td>Cumings, Mrs. John Bradley (Florence Briggs Th...</td>\n",
       "      <td>female</td>\n",
       "      <td>38.0</td>\n",
       "      <td>1</td>\n",
       "      <td>0</td>\n",
       "      <td>PC 17599</td>\n",
       "      <td>71.2833</td>\n",
       "      <td>C85</td>\n",
       "      <td>C</td>\n",
       "    </tr>\n",
       "  </tbody>\n",
       "</table>\n",
       "</div>"
      ],
      "text/plain": [
       "   PassengerId  Survived  Pclass  \\\n",
       "0            1         0       3   \n",
       "1            2         1       1   \n",
       "\n",
       "                                                Name     Sex   Age  SibSp  \\\n",
       "0                            Braund, Mr. Owen Harris    male  22.0      1   \n",
       "1  Cumings, Mrs. John Bradley (Florence Briggs Th...  female  38.0      1   \n",
       "\n",
       "   Parch     Ticket     Fare Cabin Embarked  \n",
       "0      0  A/5 21171   7.2500   NaN        S  \n",
       "1      0   PC 17599  71.2833   C85        C  "
      ]
     },
     "execution_count": 25,
     "metadata": {},
     "output_type": "execute_result"
    }
   ],
   "source": [
    "df.head(2)"
   ]
  },
  {
   "cell_type": "code",
   "execution_count": 30,
   "id": "1ba106b6",
   "metadata": {},
   "outputs": [
    {
     "data": {
      "text/plain": [
       "PassengerId      0\n",
       "Survived         0\n",
       "Pclass           0\n",
       "Name             0\n",
       "Sex              0\n",
       "Age            177\n",
       "SibSp            0\n",
       "Parch            0\n",
       "Ticket           0\n",
       "Fare             0\n",
       "Cabin          687\n",
       "Embarked         2\n",
       "dtype: int64"
      ]
     },
     "execution_count": 30,
     "metadata": {},
     "output_type": "execute_result"
    }
   ],
   "source": [
    "df.isnull().sum()"
   ]
  },
  {
   "cell_type": "code",
   "execution_count": 32,
   "id": "a0fc3828",
   "metadata": {},
   "outputs": [
    {
     "data": {
      "text/plain": [
       "PassengerId     0.000000\n",
       "Survived        0.000000\n",
       "Pclass          0.000000\n",
       "Name            0.000000\n",
       "Sex             0.000000\n",
       "Age            19.865320\n",
       "SibSp           0.000000\n",
       "Parch           0.000000\n",
       "Ticket          0.000000\n",
       "Fare            0.000000\n",
       "Cabin          77.104377\n",
       "Embarked        0.224467\n",
       "dtype: float64"
      ]
     },
     "execution_count": 32,
     "metadata": {},
     "output_type": "execute_result"
    }
   ],
   "source": [
    "df.isnull().mean() * 100"
   ]
  },
  {
   "cell_type": "code",
   "execution_count": 33,
   "id": "16f96589",
   "metadata": {},
   "outputs": [
    {
     "data": {
      "text/html": [
       "<div>\n",
       "<style scoped>\n",
       "    .dataframe tbody tr th:only-of-type {\n",
       "        vertical-align: middle;\n",
       "    }\n",
       "\n",
       "    .dataframe tbody tr th {\n",
       "        vertical-align: top;\n",
       "    }\n",
       "\n",
       "    .dataframe thead th {\n",
       "        text-align: right;\n",
       "    }\n",
       "</style>\n",
       "<table border=\"1\" class=\"dataframe\">\n",
       "  <thead>\n",
       "    <tr style=\"text-align: right;\">\n",
       "      <th></th>\n",
       "      <th>PassengerId</th>\n",
       "      <th>Survived</th>\n",
       "      <th>Pclass</th>\n",
       "      <th>Name</th>\n",
       "      <th>Sex</th>\n",
       "      <th>Age</th>\n",
       "      <th>SibSp</th>\n",
       "      <th>Parch</th>\n",
       "      <th>Ticket</th>\n",
       "      <th>Fare</th>\n",
       "      <th>Cabin</th>\n",
       "      <th>Embarked</th>\n",
       "    </tr>\n",
       "  </thead>\n",
       "  <tbody>\n",
       "    <tr>\n",
       "      <th>0</th>\n",
       "      <td>1</td>\n",
       "      <td>0</td>\n",
       "      <td>3</td>\n",
       "      <td>Braund, Mr. Owen Harris</td>\n",
       "      <td>male</td>\n",
       "      <td>22.0</td>\n",
       "      <td>1</td>\n",
       "      <td>0</td>\n",
       "      <td>A/5 21171</td>\n",
       "      <td>7.2500</td>\n",
       "      <td>NaN</td>\n",
       "      <td>S</td>\n",
       "    </tr>\n",
       "    <tr>\n",
       "      <th>1</th>\n",
       "      <td>2</td>\n",
       "      <td>1</td>\n",
       "      <td>1</td>\n",
       "      <td>Cumings, Mrs. John Bradley (Florence Briggs Th...</td>\n",
       "      <td>female</td>\n",
       "      <td>38.0</td>\n",
       "      <td>1</td>\n",
       "      <td>0</td>\n",
       "      <td>PC 17599</td>\n",
       "      <td>71.2833</td>\n",
       "      <td>C85</td>\n",
       "      <td>C</td>\n",
       "    </tr>\n",
       "  </tbody>\n",
       "</table>\n",
       "</div>"
      ],
      "text/plain": [
       "   PassengerId  Survived  Pclass  \\\n",
       "0            1         0       3   \n",
       "1            2         1       1   \n",
       "\n",
       "                                                Name     Sex   Age  SibSp  \\\n",
       "0                            Braund, Mr. Owen Harris    male  22.0      1   \n",
       "1  Cumings, Mrs. John Bradley (Florence Briggs Th...  female  38.0      1   \n",
       "\n",
       "   Parch     Ticket     Fare Cabin Embarked  \n",
       "0      0  A/5 21171   7.2500   NaN        S  \n",
       "1      0   PC 17599  71.2833   C85        C  "
      ]
     },
     "execution_count": 33,
     "metadata": {},
     "output_type": "execute_result"
    }
   ],
   "source": [
    "df.head(2)"
   ]
  },
  {
   "cell_type": "code",
   "execution_count": 34,
   "id": "5aecceab",
   "metadata": {},
   "outputs": [],
   "source": [
    "df.drop(\"Cabin\", axis = 1, inplace = True)"
   ]
  },
  {
   "cell_type": "code",
   "execution_count": 35,
   "id": "47655d03",
   "metadata": {},
   "outputs": [
    {
     "data": {
      "text/html": [
       "<div>\n",
       "<style scoped>\n",
       "    .dataframe tbody tr th:only-of-type {\n",
       "        vertical-align: middle;\n",
       "    }\n",
       "\n",
       "    .dataframe tbody tr th {\n",
       "        vertical-align: top;\n",
       "    }\n",
       "\n",
       "    .dataframe thead th {\n",
       "        text-align: right;\n",
       "    }\n",
       "</style>\n",
       "<table border=\"1\" class=\"dataframe\">\n",
       "  <thead>\n",
       "    <tr style=\"text-align: right;\">\n",
       "      <th></th>\n",
       "      <th>PassengerId</th>\n",
       "      <th>Survived</th>\n",
       "      <th>Pclass</th>\n",
       "      <th>Name</th>\n",
       "      <th>Sex</th>\n",
       "      <th>Age</th>\n",
       "      <th>SibSp</th>\n",
       "      <th>Parch</th>\n",
       "      <th>Ticket</th>\n",
       "      <th>Fare</th>\n",
       "      <th>Embarked</th>\n",
       "    </tr>\n",
       "  </thead>\n",
       "  <tbody>\n",
       "    <tr>\n",
       "      <th>0</th>\n",
       "      <td>1</td>\n",
       "      <td>0</td>\n",
       "      <td>3</td>\n",
       "      <td>Braund, Mr. Owen Harris</td>\n",
       "      <td>male</td>\n",
       "      <td>22.0</td>\n",
       "      <td>1</td>\n",
       "      <td>0</td>\n",
       "      <td>A/5 21171</td>\n",
       "      <td>7.25</td>\n",
       "      <td>S</td>\n",
       "    </tr>\n",
       "  </tbody>\n",
       "</table>\n",
       "</div>"
      ],
      "text/plain": [
       "   PassengerId  Survived  Pclass                     Name   Sex   Age  SibSp  \\\n",
       "0            1         0       3  Braund, Mr. Owen Harris  male  22.0      1   \n",
       "\n",
       "   Parch     Ticket  Fare Embarked  \n",
       "0      0  A/5 21171  7.25        S  "
      ]
     },
     "execution_count": 35,
     "metadata": {},
     "output_type": "execute_result"
    }
   ],
   "source": [
    "df.head(1)"
   ]
  },
  {
   "cell_type": "code",
   "execution_count": 36,
   "id": "64cbad30",
   "metadata": {},
   "outputs": [
    {
     "data": {
      "text/plain": [
       "PassengerId      0\n",
       "Survived         0\n",
       "Pclass           0\n",
       "Name             0\n",
       "Sex              0\n",
       "Age            177\n",
       "SibSp            0\n",
       "Parch            0\n",
       "Ticket           0\n",
       "Fare             0\n",
       "Embarked         2\n",
       "dtype: int64"
      ]
     },
     "execution_count": 36,
     "metadata": {},
     "output_type": "execute_result"
    }
   ],
   "source": [
    "df.isna().sum()"
   ]
  },
  {
   "cell_type": "code",
   "execution_count": 37,
   "id": "d10afccf",
   "metadata": {},
   "outputs": [
    {
     "data": {
      "text/plain": [
       "177"
      ]
     },
     "execution_count": 37,
     "metadata": {},
     "output_type": "execute_result"
    }
   ],
   "source": [
    "df['Age'].isnull().sum()"
   ]
  },
  {
   "cell_type": "code",
   "execution_count": 38,
   "id": "ee0802f6",
   "metadata": {},
   "outputs": [
    {
     "data": {
      "text/plain": [
       "28.0"
      ]
     },
     "execution_count": 38,
     "metadata": {},
     "output_type": "execute_result"
    }
   ],
   "source": [
    "df['Age'].median()"
   ]
  },
  {
   "cell_type": "code",
   "execution_count": 39,
   "id": "46157560",
   "metadata": {},
   "outputs": [],
   "source": [
    "df['Age'] = df[\"Age\"].fillna(df['Age'].median())"
   ]
  },
  {
   "cell_type": "code",
   "execution_count": 40,
   "id": "85c56735",
   "metadata": {},
   "outputs": [
    {
     "data": {
      "text/plain": [
       "0"
      ]
     },
     "execution_count": 40,
     "metadata": {},
     "output_type": "execute_result"
    }
   ],
   "source": [
    "df['Age'].isnull().sum()"
   ]
  },
  {
   "cell_type": "code",
   "execution_count": 41,
   "id": "ce35bc2d",
   "metadata": {},
   "outputs": [
    {
     "data": {
      "text/plain": [
       "PassengerId    0\n",
       "Survived       0\n",
       "Pclass         0\n",
       "Name           0\n",
       "Sex            0\n",
       "Age            0\n",
       "SibSp          0\n",
       "Parch          0\n",
       "Ticket         0\n",
       "Fare           0\n",
       "Embarked       2\n",
       "dtype: int64"
      ]
     },
     "execution_count": 41,
     "metadata": {},
     "output_type": "execute_result"
    }
   ],
   "source": [
    "df.isnull().sum()"
   ]
  },
  {
   "cell_type": "code",
   "execution_count": 42,
   "id": "0c26887c",
   "metadata": {},
   "outputs": [],
   "source": [
    "# delete a row, where any row contains missing value\n",
    "df = df.dropna()"
   ]
  },
  {
   "cell_type": "code",
   "execution_count": 44,
   "id": "1e6d7043",
   "metadata": {},
   "outputs": [
    {
     "data": {
      "text/plain": [
       "PassengerId    0\n",
       "Survived       0\n",
       "Pclass         0\n",
       "Name           0\n",
       "Sex            0\n",
       "Age            0\n",
       "SibSp          0\n",
       "Parch          0\n",
       "Ticket         0\n",
       "Fare           0\n",
       "Embarked       0\n",
       "dtype: int64"
      ]
     },
     "execution_count": 44,
     "metadata": {},
     "output_type": "execute_result"
    }
   ],
   "source": [
    "df.isnull().sum()"
   ]
  },
  {
   "cell_type": "code",
   "execution_count": 46,
   "id": "94363ae0",
   "metadata": {},
   "outputs": [
    {
     "data": {
      "text/html": [
       "<div>\n",
       "<style scoped>\n",
       "    .dataframe tbody tr th:only-of-type {\n",
       "        vertical-align: middle;\n",
       "    }\n",
       "\n",
       "    .dataframe tbody tr th {\n",
       "        vertical-align: top;\n",
       "    }\n",
       "\n",
       "    .dataframe thead th {\n",
       "        text-align: right;\n",
       "    }\n",
       "</style>\n",
       "<table border=\"1\" class=\"dataframe\">\n",
       "  <thead>\n",
       "    <tr style=\"text-align: right;\">\n",
       "      <th></th>\n",
       "      <th>PassengerId</th>\n",
       "      <th>Survived</th>\n",
       "      <th>Pclass</th>\n",
       "      <th>Name</th>\n",
       "      <th>Sex</th>\n",
       "      <th>Age</th>\n",
       "      <th>SibSp</th>\n",
       "      <th>Parch</th>\n",
       "      <th>Ticket</th>\n",
       "      <th>Fare</th>\n",
       "      <th>Embarked</th>\n",
       "    </tr>\n",
       "  </thead>\n",
       "  <tbody>\n",
       "    <tr>\n",
       "      <th>0</th>\n",
       "      <td>1</td>\n",
       "      <td>0</td>\n",
       "      <td>3</td>\n",
       "      <td>Braund, Mr. Owen Harris</td>\n",
       "      <td>male</td>\n",
       "      <td>22.0</td>\n",
       "      <td>1</td>\n",
       "      <td>0</td>\n",
       "      <td>A/5 21171</td>\n",
       "      <td>7.25</td>\n",
       "      <td>S</td>\n",
       "    </tr>\n",
       "  </tbody>\n",
       "</table>\n",
       "</div>"
      ],
      "text/plain": [
       "   PassengerId  Survived  Pclass                     Name   Sex   Age  SibSp  \\\n",
       "0            1         0       3  Braund, Mr. Owen Harris  male  22.0      1   \n",
       "\n",
       "   Parch     Ticket  Fare Embarked  \n",
       "0      0  A/5 21171  7.25        S  "
      ]
     },
     "execution_count": 46,
     "metadata": {},
     "output_type": "execute_result"
    }
   ],
   "source": [
    "df.head(1)"
   ]
  },
  {
   "cell_type": "code",
   "execution_count": 47,
   "id": "24200f86",
   "metadata": {},
   "outputs": [],
   "source": [
    "# number of unique value in each column, feature or variable"
   ]
  },
  {
   "cell_type": "code",
   "execution_count": 48,
   "id": "53ac42dc",
   "metadata": {},
   "outputs": [
    {
     "data": {
      "text/plain": [
       "PassengerId    889\n",
       "Survived         2\n",
       "Pclass           3\n",
       "Name           889\n",
       "Sex              2\n",
       "Age             88\n",
       "SibSp            7\n",
       "Parch            7\n",
       "Ticket         680\n",
       "Fare           247\n",
       "Embarked         3\n",
       "dtype: int64"
      ]
     },
     "execution_count": 48,
     "metadata": {},
     "output_type": "execute_result"
    }
   ],
   "source": [
    "df.nunique()"
   ]
  },
  {
   "cell_type": "code",
   "execution_count": 49,
   "id": "86ba7f1f",
   "metadata": {},
   "outputs": [
    {
     "data": {
      "text/plain": [
       "(889, 11)"
      ]
     },
     "execution_count": 49,
     "metadata": {},
     "output_type": "execute_result"
    }
   ],
   "source": [
    "df.shape"
   ]
  },
  {
   "cell_type": "code",
   "execution_count": 50,
   "id": "95f14899",
   "metadata": {},
   "outputs": [],
   "source": [
    "df.to_csv('cleaned_titanic_dataset.csv', index = False)"
   ]
  },
  {
   "cell_type": "markdown",
   "id": "9d30cbf2",
   "metadata": {},
   "source": [
    "* List of Continuous (numerical) or Measure columns in the data\n",
    "* List of catgorical columns (Discrete or Dimensions) in the data set"
   ]
  },
  {
   "cell_type": "code",
   "execution_count": 52,
   "id": "87df52cc",
   "metadata": {},
   "outputs": [
    {
     "data": {
      "text/html": [
       "<div>\n",
       "<style scoped>\n",
       "    .dataframe tbody tr th:only-of-type {\n",
       "        vertical-align: middle;\n",
       "    }\n",
       "\n",
       "    .dataframe tbody tr th {\n",
       "        vertical-align: top;\n",
       "    }\n",
       "\n",
       "    .dataframe thead th {\n",
       "        text-align: right;\n",
       "    }\n",
       "</style>\n",
       "<table border=\"1\" class=\"dataframe\">\n",
       "  <thead>\n",
       "    <tr style=\"text-align: right;\">\n",
       "      <th></th>\n",
       "      <th>PassengerId</th>\n",
       "      <th>Survived</th>\n",
       "      <th>Pclass</th>\n",
       "      <th>Name</th>\n",
       "      <th>Sex</th>\n",
       "      <th>Age</th>\n",
       "      <th>SibSp</th>\n",
       "      <th>Parch</th>\n",
       "      <th>Ticket</th>\n",
       "      <th>Fare</th>\n",
       "      <th>Embarked</th>\n",
       "    </tr>\n",
       "  </thead>\n",
       "  <tbody>\n",
       "    <tr>\n",
       "      <th>0</th>\n",
       "      <td>1</td>\n",
       "      <td>0</td>\n",
       "      <td>3</td>\n",
       "      <td>Braund, Mr. Owen Harris</td>\n",
       "      <td>male</td>\n",
       "      <td>22.0</td>\n",
       "      <td>1</td>\n",
       "      <td>0</td>\n",
       "      <td>A/5 21171</td>\n",
       "      <td>7.25</td>\n",
       "      <td>S</td>\n",
       "    </tr>\n",
       "  </tbody>\n",
       "</table>\n",
       "</div>"
      ],
      "text/plain": [
       "   PassengerId  Survived  Pclass                     Name   Sex   Age  SibSp  \\\n",
       "0            1         0       3  Braund, Mr. Owen Harris  male  22.0      1   \n",
       "\n",
       "   Parch     Ticket  Fare Embarked  \n",
       "0      0  A/5 21171  7.25        S  "
      ]
     },
     "execution_count": 52,
     "metadata": {},
     "output_type": "execute_result"
    }
   ],
   "source": [
    "df.head(1)"
   ]
  },
  {
   "cell_type": "code",
   "execution_count": 59,
   "id": "8d746c2d",
   "metadata": {},
   "outputs": [],
   "source": [
    "# df.select_dtypes(include = 'object')"
   ]
  },
  {
   "cell_type": "code",
   "execution_count": 60,
   "id": "d633c3dc",
   "metadata": {},
   "outputs": [],
   "source": [
    "cont_cols = ['Fare',\"Age\"] # numerical colus in the data\n",
    "cat_cols = ['Survived','Pclass','Sex','SibSp','Parch',\"Embarked\"]\n",
    "\n",
    "\n",
    "# list of identifiers and these column uniquely identify passengers but do not contribute to the analysis\n",
    "id_cols = ['PassengerID',\"Name\",\"Ticket\"]"
   ]
  },
  {
   "cell_type": "markdown",
   "id": "7fb2c60e",
   "metadata": {},
   "source": [
    "### UniVariate Analysis:"
   ]
  },
  {
   "cell_type": "code",
   "execution_count": 62,
   "id": "f4915b56",
   "metadata": {},
   "outputs": [
    {
     "data": {
      "text/plain": [
       "Embarked\n",
       "S    644\n",
       "C    168\n",
       "Q     77\n",
       "Name: count, dtype: int64"
      ]
     },
     "execution_count": 62,
     "metadata": {},
     "output_type": "execute_result"
    }
   ],
   "source": [
    "df[\"Embarked\"].value_counts()\n",
    "# (C = Cherbourg, Q = Queenstown, S = Southampton)."
   ]
  },
  {
   "cell_type": "code",
   "execution_count": 66,
   "id": "3c13484e",
   "metadata": {},
   "outputs": [
    {
     "data": {
      "text/plain": [
       "<Axes: xlabel='Embarked'>"
      ]
     },
     "execution_count": 66,
     "metadata": {},
     "output_type": "execute_result"
    },
    {
     "data": {
      "image/png": "[encoded data removed]",
      "text/plain": [
       "<Figure size 400x200 with 1 Axes>"
      ]
     },
     "metadata": {},
     "output_type": "display_data"
    }
   ],
   "source": [
    "plt.figure(figsize=(4,2))\n",
    "df['Embarked'].value_counts().plot(kind='bar')"
   ]
  },
  {
   "cell_type": "code",
   "execution_count": 68,
   "id": "fa692a04",
   "metadata": {},
   "outputs": [
    {
     "data": {
      "text/plain": [
       "<Axes: xlabel='Pclass'>"
      ]
     },
     "execution_count": 68,
     "metadata": {},
     "output_type": "execute_result"
    },
    {
     "data": {
      "image/png": "[encoded data removed]",
      "text/plain": [
       "<Figure size 400x200 with 1 Axes>"
      ]
     },
     "metadata": {},
     "output_type": "display_data"
    }
   ],
   "source": [
    "plt.figure(figsize=(4,2))\n",
    "df['Pclass'].value_counts().plot(kind='bar')"
   ]
  },
  {
   "cell_type": "code",
   "execution_count": 70,
   "id": "1d863bcc",
   "metadata": {},
   "outputs": [
    {
     "data": {
      "text/plain": [
       "<Axes: ylabel='count'>"
      ]
     },
     "execution_count": 70,
     "metadata": {},
     "output_type": "execute_result"
    },
    {
     "data": {
      "image/png": "[encoded data removed]",
      "text/plain": [
       "<Figure size 400x300 with 1 Axes>"
      ]
     },
     "metadata": {},
     "output_type": "display_data"
    }
   ],
   "source": [
    "plt.figure(figsize=(4,3))\n",
    "df['Embarked'].value_counts().plot(kind='pie', autopct = \"%1.1f%%\")"
   ]
  },
  {
   "cell_type": "code",
   "execution_count": 71,
   "id": "af2c022c",
   "metadata": {},
   "outputs": [
    {
     "data": {
      "text/plain": [
       "<Axes: xlabel='Embarked', ylabel='count'>"
      ]
     },
     "execution_count": 71,
     "metadata": {},
     "output_type": "execute_result"
    },
    {
     "data": {
      "image/png": "[encoded data removed]",
      "text/plain": [
       "<Figure size 640x480 with 1 Axes>"
      ]
     },
     "metadata": {},
     "output_type": "display_data"
    }
   ],
   "source": [
    "sns.countplot(x = df['Embarked'])"
   ]
  },
  {
   "cell_type": "markdown",
   "id": "83921b0e",
   "metadata": {},
   "source": [
    "### KDE:\n",
    "\n",
    "Kernal Density Plot:"
   ]
  },
  {
   "cell_type": "code",
   "execution_count": 77,
   "id": "2ccf65c8",
   "metadata": {},
   "outputs": [
    {
     "data": {
      "text/plain": [
       "<Axes: ylabel='Density'>"
      ]
     },
     "execution_count": 77,
     "metadata": {},
     "output_type": "execute_result"
    },
    {
     "data": {
      "image/png": "[encoded data removed]",
      "text/plain": [
       "<Figure size 800x300 with 1 Axes>"
      ]
     },
     "metadata": {},
     "output_type": "display_data"
    }
   ],
   "source": [
    "plt.figure(figsize=(8,3))\n",
    "df['Age'].plot(kind = 'kde')"
   ]
  },
  {
   "cell_type": "code",
   "execution_count": 82,
   "id": "e4f4f84d",
   "metadata": {},
   "outputs": [
    {
     "data": {
      "text/plain": [
       "count    889.000000\n",
       "mean       0.524184\n",
       "std        1.103705\n",
       "min        0.000000\n",
       "25%        0.000000\n",
       "50%        0.000000\n",
       "75%        1.000000\n",
       "max        8.000000\n",
       "Name: SibSp, dtype: float64"
      ]
     },
     "execution_count": 82,
     "metadata": {},
     "output_type": "execute_result"
    }
   ],
   "source": [
    "df['SibSp'].describe()"
   ]
  },
  {
   "cell_type": "code",
   "execution_count": 83,
   "id": "566cb5d3",
   "metadata": {},
   "outputs": [
    {
     "data": {
      "text/plain": [
       "count    889.000000\n",
       "mean      29.315152\n",
       "std       12.984932\n",
       "min        0.420000\n",
       "25%       22.000000\n",
       "50%       28.000000\n",
       "75%       35.000000\n",
       "max       80.000000\n",
       "Name: Age, dtype: float64"
      ]
     },
     "execution_count": 83,
     "metadata": {},
     "output_type": "execute_result"
    }
   ],
   "source": [
    "df[\"Age\"].describe()"
   ]
  },
  {
   "cell_type": "code",
   "execution_count": 84,
   "id": "137b949f",
   "metadata": {},
   "outputs": [
    {
     "data": {
      "text/plain": [
       "['Fare', 'Age']"
      ]
     },
     "execution_count": 84,
     "metadata": {},
     "output_type": "execute_result"
    }
   ],
   "source": [
    "cont_cols"
   ]
  },
  {
   "cell_type": "code",
   "execution_count": 86,
   "id": "ce83ff78",
   "metadata": {},
   "outputs": [
    {
     "name": "stdout",
     "output_type": "stream",
     "text": [
      "Name of the columns is : Fare.\n"
     ]
    },
    {
     "data": {
      "image/png": "[encoded data removed]",
      "text/plain": [
       "<Figure size 800x300 with 1 Axes>"
      ]
     },
     "metadata": {},
     "output_type": "display_data"
    },
    {
     "name": "stdout",
     "output_type": "stream",
     "text": [
      "Name of the columns is : Age.\n"
     ]
    },
    {
     "data": {
      "image/png": "[encoded data removed]",
      "text/plain": [
       "<Figure size 800x300 with 1 Axes>"
      ]
     },
     "metadata": {},
     "output_type": "display_data"
    }
   ],
   "source": [
    "for col in cont_cols:\n",
    "    print(f\"Name of the columns is : {col}.\")\n",
    "    plt.figure(figsize=(8,3))\n",
    "    sns.histplot(df[col])\n",
    "    plt.show()"
   ]
  },
  {
   "cell_type": "code",
   "execution_count": 87,
   "id": "5f7f1481",
   "metadata": {},
   "outputs": [
    {
     "data": {
      "text/plain": [
       "<Axes: >"
      ]
     },
     "execution_count": 87,
     "metadata": {},
     "output_type": "execute_result"
    },
    {
     "data": {
      "image/png": "[encoded data removed]",
      "text/plain": [
       "<Figure size 640x480 with 1 Axes>"
      ]
     },
     "metadata": {},
     "output_type": "display_data"
    }
   ],
   "source": [
    "sns.boxplot(df['Fare'])"
   ]
  },
  {
   "cell_type": "code",
   "execution_count": 88,
   "id": "c90d243e",
   "metadata": {},
   "outputs": [
    {
     "data": {
      "text/plain": [
       "count    889.000000\n",
       "mean      32.096681\n",
       "std       49.697504\n",
       "min        0.000000\n",
       "25%        7.895800\n",
       "50%       14.454200\n",
       "75%       31.000000\n",
       "max      512.329200\n",
       "Name: Fare, dtype: float64"
      ]
     },
     "execution_count": 88,
     "metadata": {},
     "output_type": "execute_result"
    }
   ],
   "source": [
    "df['Fare'].describe()"
   ]
  },
  {
   "cell_type": "code",
   "execution_count": 89,
   "id": "07e97d93",
   "metadata": {},
   "outputs": [
    {
     "data": {
      "text/plain": [
       "<Axes: ylabel='Age'>"
      ]
     },
     "execution_count": 89,
     "metadata": {},
     "output_type": "execute_result"
    },
    {
     "data": {
      "image/png": "[encoded data removed]",
      "text/plain": [
       "<Figure size 640x480 with 1 Axes>"
      ]
     },
     "metadata": {},
     "output_type": "display_data"
    }
   ],
   "source": [
    "sns.scatterplot(df['Age'])"
   ]
  },
  {
   "cell_type": "code",
   "execution_count": 90,
   "id": "5fa93d50",
   "metadata": {},
   "outputs": [
    {
     "data": {
      "text/plain": [
       "['.ipynb_checkpoints',\n",
       " 'cleaned_titanic_dataset.csv',\n",
       " 'Python Univariate.ipynb',\n",
       " 'Superstore.xls',\n",
       " 'titanic_dataset.csv',\n",
       " 'univariate_analysis_quiz.csv']"
      ]
     },
     "execution_count": 90,
     "metadata": {},
     "output_type": "execute_result"
    }
   ],
   "source": [
    "os.listdir()"
   ]
  },
  {
   "cell_type": "code",
   "execution_count": 91,
   "id": "b96df938",
   "metadata": {},
   "outputs": [],
   "source": [
    "quiz = pd.read_csv(\"univariate_analysis_quiz.csv\")"
   ]
  },
  {
   "cell_type": "code",
   "execution_count": 92,
   "id": "bbcb16b3",
   "metadata": {},
   "outputs": [
    {
     "data": {
      "text/html": [
       "<div>\n",
       "<style scoped>\n",
       "    .dataframe tbody tr th:only-of-type {\n",
       "        vertical-align: middle;\n",
       "    }\n",
       "\n",
       "    .dataframe tbody tr th {\n",
       "        vertical-align: top;\n",
       "    }\n",
       "\n",
       "    .dataframe thead th {\n",
       "        text-align: right;\n",
       "    }\n",
       "</style>\n",
       "<table border=\"1\" class=\"dataframe\">\n",
       "  <thead>\n",
       "    <tr style=\"text-align: right;\">\n",
       "      <th></th>\n",
       "      <th>OrderID</th>\n",
       "      <th>CustomerID</th>\n",
       "      <th>ProductID</th>\n",
       "      <th>Price</th>\n",
       "      <th>Ratings</th>\n",
       "      <th>Number_of_Reviews</th>\n",
       "      <th>CategoryID</th>\n",
       "      <th>Age</th>\n",
       "      <th>Gender</th>\n",
       "      <th>Location</th>\n",
       "      <th>Order_Date</th>\n",
       "    </tr>\n",
       "  </thead>\n",
       "  <tbody>\n",
       "    <tr>\n",
       "      <th>0</th>\n",
       "      <td>1</td>\n",
       "      <td>54</td>\n",
       "      <td>73</td>\n",
       "      <td>487.25</td>\n",
       "      <td>1.65</td>\n",
       "      <td>308</td>\n",
       "      <td>7</td>\n",
       "      <td>31</td>\n",
       "      <td>Other</td>\n",
       "      <td>Mumbai</td>\n",
       "      <td>2023-10-15</td>\n",
       "    </tr>\n",
       "    <tr>\n",
       "      <th>1</th>\n",
       "      <td>2</td>\n",
       "      <td>116</td>\n",
       "      <td>85</td>\n",
       "      <td>51.67</td>\n",
       "      <td>2.52</td>\n",
       "      <td>352</td>\n",
       "      <td>19</td>\n",
       "      <td>47</td>\n",
       "      <td>Other</td>\n",
       "      <td>Surat</td>\n",
       "      <td>2023-08-22</td>\n",
       "    </tr>\n",
       "  </tbody>\n",
       "</table>\n",
       "</div>"
      ],
      "text/plain": [
       "   OrderID  CustomerID  ProductID   Price  Ratings  Number_of_Reviews  \\\n",
       "0        1          54         73  487.25     1.65                308   \n",
       "1        2         116         85   51.67     2.52                352   \n",
       "\n",
       "   CategoryID  Age Gender Location  Order_Date  \n",
       "0           7   31  Other   Mumbai  2023-10-15  \n",
       "1          19   47  Other    Surat  2023-08-22  "
      ]
     },
     "execution_count": 92,
     "metadata": {},
     "output_type": "execute_result"
    }
   ],
   "source": [
    "quiz.head(2)"
   ]
  },
  {
   "cell_type": "code",
   "execution_count": 93,
   "id": "f198ed65",
   "metadata": {},
   "outputs": [
    {
     "data": {
      "text/html": [
       "\n",
       "<ul>\n",
       "<li><b>index:</b> The index of the dataframe, which is a unique identifier for each row.</li>\n",
       "<li><b>OrderID:</b> The ID number of the order.</li>\n",
       "<li><b>CustomerID:</b> The ID number of the customer who placed the order.</li>\n",
       "<li><b>ProductID:</b> The ID number of the product that was ordered.</li>\n",
       "<li><b>Price:</b> The price of the product in dollars.</li>\n",
       "<li><b>Ratings:</b> The rating given by the customer for the product, on a scale of 1-5.</li>\n",
       "<li><b>Number_of_Reviews:</b> The number of reviews that have been left for the product.</li>\n",
       "<li><b>CategoryID:</b> The category that the product belongs to, represented by a number.</li>\n",
       "<li><b>Age:</b> The age of the customer who placed the order.</li>\n",
       "<li><b>Gender:</b> The gender of the customer who placed the order.</li>\n",
       "<li><b>Location:</b> The location of the customer who placed the order.</li>\n",
       "<li><b>Order_Date:</b> The date that the order was placed.</li>\n",
       "</ul>"
      ],
      "text/plain": [
       "<IPython.core.display.HTML object>"
      ]
     },
     "metadata": {},
     "output_type": "display_data"
    }
   ],
   "source": [
    "quiz.sketch.ask(\"can you give me friendly names with description of each column? (Output as an HTML List)\")"
   ]
  },
  {
   "cell_type": "code",
   "execution_count": 96,
   "id": "d031f4f4",
   "metadata": {},
   "outputs": [
    {
     "data": {
      "image/png": "[encoded data removed]",
      "text/plain": [
       "<Figure size 1000x400 with 1 Axes>"
      ]
     },
     "metadata": {},
     "output_type": "display_data"
    }
   ],
   "source": [
    "plt.figure(figsize=(10,4))\n",
    "plt.hist(quiz['Price'], bins = 20, color = 'skyblue', edgecolor = 'blue')\n",
    "plt.title(\"Distribution of Product prices\")\n",
    "plt.xlabel('Price')\n",
    "plt.ylabel(\"Frequency\")\n",
    "plt.grid(axis = 'y', alpha = 0.75)\n",
    "plt.show()"
   ]
  },
  {
   "cell_type": "code",
   "execution_count": 97,
   "id": "e97f1eeb",
   "metadata": {},
   "outputs": [
    {
     "data": {
      "image/png": "[encoded data removed]",
      "text/plain": [
       "<Figure size 1000x400 with 1 Axes>"
      ]
     },
     "metadata": {},
     "output_type": "display_data"
    }
   ],
   "source": [
    "plt.figure(figsize=(10,4))\n",
    "plt.hist(quiz['Age'], bins = 20, color = 'skyblue', edgecolor = 'blue')\n",
    "plt.title(\"Distribution of Product Ages\")\n",
    "plt.xlabel('Age')\n",
    "plt.ylabel(\"Frequency\")\n",
    "plt.grid(axis = 'y', alpha = 0.75)\n",
    "plt.show()"
   ]
  },
  {
   "cell_type": "code",
   "execution_count": 98,
   "id": "b23ec271",
   "metadata": {},
   "outputs": [
    {
     "data": {
      "text/html": [
       "<div>\n",
       "<style scoped>\n",
       "    .dataframe tbody tr th:only-of-type {\n",
       "        vertical-align: middle;\n",
       "    }\n",
       "\n",
       "    .dataframe tbody tr th {\n",
       "        vertical-align: top;\n",
       "    }\n",
       "\n",
       "    .dataframe thead th {\n",
       "        text-align: right;\n",
       "    }\n",
       "</style>\n",
       "<table border=\"1\" class=\"dataframe\">\n",
       "  <thead>\n",
       "    <tr style=\"text-align: right;\">\n",
       "      <th></th>\n",
       "      <th>OrderID</th>\n",
       "      <th>CustomerID</th>\n",
       "      <th>ProductID</th>\n",
       "      <th>Price</th>\n",
       "      <th>Ratings</th>\n",
       "      <th>Number_of_Reviews</th>\n",
       "      <th>CategoryID</th>\n",
       "      <th>Age</th>\n",
       "      <th>Gender</th>\n",
       "      <th>Location</th>\n",
       "      <th>Order_Date</th>\n",
       "    </tr>\n",
       "  </thead>\n",
       "  <tbody>\n",
       "    <tr>\n",
       "      <th>0</th>\n",
       "      <td>1</td>\n",
       "      <td>54</td>\n",
       "      <td>73</td>\n",
       "      <td>487.25</td>\n",
       "      <td>1.65</td>\n",
       "      <td>308</td>\n",
       "      <td>7</td>\n",
       "      <td>31</td>\n",
       "      <td>Other</td>\n",
       "      <td>Mumbai</td>\n",
       "      <td>2023-10-15</td>\n",
       "    </tr>\n",
       "    <tr>\n",
       "      <th>1</th>\n",
       "      <td>2</td>\n",
       "      <td>116</td>\n",
       "      <td>85</td>\n",
       "      <td>51.67</td>\n",
       "      <td>2.52</td>\n",
       "      <td>352</td>\n",
       "      <td>19</td>\n",
       "      <td>47</td>\n",
       "      <td>Other</td>\n",
       "      <td>Surat</td>\n",
       "      <td>2023-08-22</td>\n",
       "    </tr>\n",
       "    <tr>\n",
       "      <th>2</th>\n",
       "      <td>3</td>\n",
       "      <td>118</td>\n",
       "      <td>80</td>\n",
       "      <td>609.13</td>\n",
       "      <td>2.68</td>\n",
       "      <td>133</td>\n",
       "      <td>11</td>\n",
       "      <td>34</td>\n",
       "      <td>Male</td>\n",
       "      <td>Kolkata</td>\n",
       "      <td>2023-04-29</td>\n",
       "    </tr>\n",
       "    <tr>\n",
       "      <th>3</th>\n",
       "      <td>4</td>\n",
       "      <td>128</td>\n",
       "      <td>36</td>\n",
       "      <td>816.86</td>\n",
       "      <td>1.19</td>\n",
       "      <td>37</td>\n",
       "      <td>19</td>\n",
       "      <td>58</td>\n",
       "      <td>Other</td>\n",
       "      <td>Surat</td>\n",
       "      <td>2023-05-20</td>\n",
       "    </tr>\n",
       "    <tr>\n",
       "      <th>4</th>\n",
       "      <td>5</td>\n",
       "      <td>75</td>\n",
       "      <td>51</td>\n",
       "      <td>84.29</td>\n",
       "      <td>4.20</td>\n",
       "      <td>356</td>\n",
       "      <td>1</td>\n",
       "      <td>41</td>\n",
       "      <td>Male</td>\n",
       "      <td>Pune</td>\n",
       "      <td>2022-10-19</td>\n",
       "    </tr>\n",
       "  </tbody>\n",
       "</table>\n",
       "</div>"
      ],
      "text/plain": [
       "   OrderID  CustomerID  ProductID   Price  Ratings  Number_of_Reviews  \\\n",
       "0        1          54         73  487.25     1.65                308   \n",
       "1        2         116         85   51.67     2.52                352   \n",
       "2        3         118         80  609.13     2.68                133   \n",
       "3        4         128         36  816.86     1.19                 37   \n",
       "4        5          75         51   84.29     4.20                356   \n",
       "\n",
       "   CategoryID  Age Gender Location  Order_Date  \n",
       "0           7   31  Other   Mumbai  2023-10-15  \n",
       "1          19   47  Other    Surat  2023-08-22  \n",
       "2          11   34   Male  Kolkata  2023-04-29  \n",
       "3          19   58  Other    Surat  2023-05-20  \n",
       "4           1   41   Male     Pune  2022-10-19  "
      ]
     },
     "execution_count": 98,
     "metadata": {},
     "output_type": "execute_result"
    }
   ],
   "source": [
    "quiz.head()"
   ]
  },
  {
   "cell_type": "code",
   "execution_count": 99,
   "id": "16680aca",
   "metadata": {},
   "outputs": [
    {
     "data": {
      "text/plain": [
       "15"
      ]
     },
     "execution_count": 99,
     "metadata": {},
     "output_type": "execute_result"
    }
   ],
   "source": [
    "quiz['Ratings'].isnull().sum()"
   ]
  },
  {
   "cell_type": "code",
   "execution_count": 100,
   "id": "52e05c2a",
   "metadata": {},
   "outputs": [],
   "source": [
    "df_quiz = quiz.dropna(subset=['Ratings'])"
   ]
  },
  {
   "cell_type": "code",
   "execution_count": 101,
   "id": "266b069e",
   "metadata": {},
   "outputs": [
    {
     "data": {
      "text/plain": [
       "0"
      ]
     },
     "execution_count": 101,
     "metadata": {},
     "output_type": "execute_result"
    }
   ],
   "source": [
    "df_quiz['Ratings'].isnull().sum()"
   ]
  },
  {
   "cell_type": "code",
   "execution_count": 107,
   "id": "689ce902",
   "metadata": {},
   "outputs": [
    {
     "data": {
      "image/png": "[encoded data removed]",
      "text/plain": [
       "<Figure size 1000x600 with 1 Axes>"
      ]
     },
     "metadata": {},
     "output_type": "display_data"
    }
   ],
   "source": [
    "plt.figure(figsize=(10,6))\n",
    "plt.boxplot(df_quiz['Ratings'], vert = False, patch_artist=True,\n",
    "            showmeans=True)\n",
    "plt.title(\"Distribution of Product Ratings\")\n",
    "plt.xlabel('Ratings')\n",
    "plt.grid(axis = 'x', alpha = 0.75)\n",
    "plt.show()"
   ]
  },
  {
   "cell_type": "code",
   "execution_count": 110,
   "id": "0e6e5ae6",
   "metadata": {},
   "outputs": [
    {
     "data": {
      "image/png": "[encoded data removed]",
      "text/plain": [
       "<Figure size 1000x600 with 1 Axes>"
      ]
     },
     "metadata": {},
     "output_type": "display_data"
    }
   ],
   "source": [
    "plt.figure(figsize=(10,6))\n",
    "plt.boxplot(df_quiz['Age'], vert = False, patch_artist=True,meanline=True,\n",
    "            showmeans=True, labels=['Age'])\n",
    "plt.title(\"Distribution of Customer Age\")\n",
    "plt.xlabel('Ratings')\n",
    "plt.grid(axis = 'x', alpha = 0.75)\n",
    "plt.show()"
   ]
  },
  {
   "cell_type": "code",
   "execution_count": 111,
   "id": "67a33710",
   "metadata": {},
   "outputs": [
    {
     "data": {
      "text/plain": [
       "Gender\n",
       "Other     180\n",
       "Male      161\n",
       "Female    144\n",
       "Name: count, dtype: int64"
      ]
     },
     "execution_count": 111,
     "metadata": {},
     "output_type": "execute_result"
    }
   ],
   "source": [
    "df_quiz['Gender'].value_counts()"
   ]
  },
  {
   "cell_type": "code",
   "execution_count": 112,
   "id": "ddb6e48b",
   "metadata": {},
   "outputs": [],
   "source": [
    "df_quiz_cleaned = df_quiz[df_quiz[\"Gender\"] != 'Other']"
   ]
  },
  {
   "cell_type": "code",
   "execution_count": 114,
   "id": "e23f0fcd",
   "metadata": {},
   "outputs": [],
   "source": [
    "gender_count = df_quiz_cleaned.Gender.value_counts()"
   ]
  },
  {
   "cell_type": "code",
   "execution_count": 118,
   "id": "7eb4f154",
   "metadata": {},
   "outputs": [
    {
     "data": {
      "image/png": "[encoded data removed]",
      "text/plain": [
       "<Figure size 1000x400 with 1 Axes>"
      ]
     },
     "metadata": {},
     "output_type": "display_data"
    }
   ],
   "source": [
    "plt.figure(figsize=(10,4))\n",
    "gender_count.plot(kind='bar', color = ['blue','pink'])\n",
    "plt.title(\"Distribution of Cusotmer Gender\")\n",
    "plt.xlabel(\"Gender\")\n",
    "plt.ylabel(\"Frquency\")\n",
    "plt.xticks(rotation=90)\n",
    "plt.grid(axis = 'y', alpha = 0.5)\n",
    "plt.show()"
   ]
  },
  {
   "cell_type": "code",
   "execution_count": 120,
   "id": "bcb8823e",
   "metadata": {},
   "outputs": [
    {
     "data": {
      "text/plain": [
       "<Axes: xlabel='CategoryID'>"
      ]
     },
     "execution_count": 120,
     "metadata": {},
     "output_type": "execute_result"
    },
    {
     "data": {
      "image/png": "[encoded data removed]",
      "text/plain": [
       "<Figure size 640x480 with 1 Axes>"
      ]
     },
     "metadata": {},
     "output_type": "display_data"
    }
   ],
   "source": [
    "df_quiz_cleaned[\"CategoryID\"].value_counts().sort_index().plot(kind='bar',color='teal')"
   ]
  },
  {
   "cell_type": "code",
   "execution_count": null,
   "id": "18d20b15",
   "metadata": {},
   "outputs": [],
   "source": []
  },
  {
   "cell_type": "code",
   "execution_count": null,
   "id": "73cac095",
   "metadata": {},
   "outputs": [],
   "source": []
  },
  {
   "cell_type": "code",
   "execution_count": null,
   "id": "c0c6a28a",
   "metadata": {},
   "outputs": [],
   "source": []
  },
  {
   "cell_type": "code",
   "execution_count": null,
   "id": "40ddabd3",
   "metadata": {},
   "outputs": [],
   "source": []
  },
  {
   "cell_type": "code",
   "execution_count": null,
   "id": "1f9c067d",
   "metadata": {},
   "outputs": [],
   "source": []
  },
  {
   "cell_type": "code",
   "execution_count": null,
   "id": "6c93d938",
   "metadata": {},
   "outputs": [],
   "source": []
  },
  {
   "cell_type": "code",
   "execution_count": null,
   "id": "e294d34e",
   "metadata": {},
   "outputs": [],
   "source": []
  },
  {
   "cell_type": "code",
   "execution_count": null,
   "id": "134e89f2",
   "metadata": {},
   "outputs": [],
   "source": []
  },
  {
   "cell_type": "code",
   "execution_count": null,
   "id": "f091569a",
   "metadata": {},
   "outputs": [],
   "source": []
  },
  {
   "cell_type": "code",
   "execution_count": null,
   "id": "da73c70e",
   "metadata": {},
   "outputs": [],
   "source": []
  },
  {
   "cell_type": "code",
   "execution_count": null,
   "id": "ff345754",
   "metadata": {},
   "outputs": [],
   "source": []
  },
  {
   "cell_type": "markdown",
   "id": "a5ee8cc0",
   "metadata": {},
   "source": [
    "\n",
    "* Dimensions vs Measure\n",
    "    * Dimension : Product, Category, Sub-CAtegory, Segment\n",
    "    * Measures : Sales, Profit, Quantity, Discount, Numbers etc"
   ]
  },
  {
   "cell_type": "code",
   "execution_count": null,
   "id": "9040dba9",
   "metadata": {},
   "outputs": [],
   "source": []
  }
 ],
 "metadata": {
  "kernelspec": {
   "display_name": "Python 3 (ipykernel)",
   "language": "python",
   "name": "python3"
  },
  "language_info": {
   "codemirror_mode": {
    "name": "ipython",
    "version": 3
   },
   "file_extension": ".py",
   "mimetype": "text/x-python",
   "name": "python",
   "nbconvert_exporter": "python",
   "pygments_lexer": "ipython3",
   "version": "3.11.2"
  }
 },
 "nbformat": 4,
 "nbformat_minor": 5
}
