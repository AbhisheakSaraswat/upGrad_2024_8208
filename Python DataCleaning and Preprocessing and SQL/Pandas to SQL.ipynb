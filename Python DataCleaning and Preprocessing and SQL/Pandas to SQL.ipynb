{
 "cells": [
  {
   "cell_type": "code",
   "execution_count": 25,
   "id": "3cddd748",
   "metadata": {},
   "outputs": [],
   "source": [
    "import pandas as pd\n",
    "import pyodbc # python object database connectivity\n",
    "import warnings\n",
    "import platform\n",
    "import sqlalchemy, os\n",
    "warnings.filterwarnings(\"ignore\")"
   ]
  },
  {
   "cell_type": "code",
   "execution_count": 2,
   "id": "28024569",
   "metadata": {},
   "outputs": [
    {
     "data": {
      "text/plain": [
       "['SQL Server',\n",
       " 'SQL Server Native Client 11.0',\n",
       " 'SQL Server Native Client RDA 11.0',\n",
       " 'PostgreSQL ANSI(x64)',\n",
       " 'PostgreSQL Unicode(x64)',\n",
       " 'Amazon Redshift (x64)',\n",
       " 'ODBC Driver 17 for SQL Server']"
      ]
     },
     "execution_count": 2,
     "metadata": {},
     "output_type": "execute_result"
    }
   ],
   "source": [
    "pyodbc.drivers()"
   ]
  },
  {
   "cell_type": "code",
   "execution_count": 4,
   "id": "2561e331",
   "metadata": {},
   "outputs": [
    {
     "data": {
      "text/plain": [
       "'DESKTOP-NAKP5E5'"
      ]
     },
     "execution_count": 4,
     "metadata": {},
     "output_type": "execute_result"
    }
   ],
   "source": [
    "platform.node()"
   ]
  },
  {
   "cell_type": "markdown",
   "id": "2fe300b0",
   "metadata": {},
   "source": [
    "* driver\n",
    "* host\n",
    "* database\n",
    "* trusted_connection"
   ]
  },
  {
   "cell_type": "code",
   "execution_count": 5,
   "id": "f3b6b5f2",
   "metadata": {},
   "outputs": [],
   "source": [
    "# establish the connect between python and sql\n",
    "connection = pyodbc.connect(driver = '{ODBC Driver 17 for SQL Server}',\n",
    "                           host = platform.node(),\n",
    "                           database = 'upGrad_2023',\n",
    "                           trusted_connection='yes')"
   ]
  },
  {
   "cell_type": "code",
   "execution_count": 6,
   "id": "bb711483",
   "metadata": {},
   "outputs": [
    {
     "data": {
      "text/plain": [
       "<pyodbc.Connection at 0x2360a649550>"
      ]
     },
     "execution_count": 6,
     "metadata": {},
     "output_type": "execute_result"
    }
   ],
   "source": [
    "connection"
   ]
  },
  {
   "cell_type": "code",
   "execution_count": 7,
   "id": "082ed3af",
   "metadata": {},
   "outputs": [],
   "source": [
    "# Reading the data from employeedb table from upGrad_2023 from ssms"
   ]
  },
  {
   "cell_type": "code",
   "execution_count": 35,
   "id": "4a76eb41",
   "metadata": {},
   "outputs": [],
   "source": [
    "sql_query = \"Select * from EmployeeDB\""
   ]
  },
  {
   "cell_type": "code",
   "execution_count": 36,
   "id": "3547d194",
   "metadata": {},
   "outputs": [],
   "source": [
    "df = pd.read_sql(sql = sql_query, con = connection)"
   ]
  },
  {
   "cell_type": "code",
   "execution_count": 37,
   "id": "6dd82e68",
   "metadata": {},
   "outputs": [
    {
     "data": {
      "text/plain": [
       "(20, 10)"
      ]
     },
     "execution_count": 37,
     "metadata": {},
     "output_type": "execute_result"
    }
   ],
   "source": [
    "df.shape"
   ]
  },
  {
   "cell_type": "code",
   "execution_count": 20,
   "id": "6f81cd6a",
   "metadata": {},
   "outputs": [
    {
     "data": {
      "text/html": [
       "<div>\n",
       "<style scoped>\n",
       "    .dataframe tbody tr th:only-of-type {\n",
       "        vertical-align: middle;\n",
       "    }\n",
       "\n",
       "    .dataframe tbody tr th {\n",
       "        vertical-align: top;\n",
       "    }\n",
       "\n",
       "    .dataframe thead th {\n",
       "        text-align: right;\n",
       "    }\n",
       "</style>\n",
       "<table border=\"1\" class=\"dataframe\">\n",
       "  <thead>\n",
       "    <tr style=\"text-align: right;\">\n",
       "      <th></th>\n",
       "      <th>EmpID</th>\n",
       "      <th>FirstName</th>\n",
       "      <th>LastName</th>\n",
       "      <th>Education</th>\n",
       "      <th>Occupation</th>\n",
       "      <th>Grade</th>\n",
       "      <th>YearlyIncome</th>\n",
       "      <th>Sales</th>\n",
       "      <th>HireDate</th>\n",
       "      <th>DeptID</th>\n",
       "    </tr>\n",
       "  </thead>\n",
       "  <tbody>\n",
       "    <tr>\n",
       "      <th>0</th>\n",
       "      <td>1870.0</td>\n",
       "      <td>Annie</td>\n",
       "      <td>Jenkins</td>\n",
       "      <td>Bachelors</td>\n",
       "      <td>Management</td>\n",
       "      <td>A</td>\n",
       "      <td>35000.0</td>\n",
       "      <td>4650.0</td>\n",
       "      <td>1899-12-30 00:00:00.000</td>\n",
       "      <td>9.0</td>\n",
       "    </tr>\n",
       "    <tr>\n",
       "      <th>1</th>\n",
       "      <td>9939.0</td>\n",
       "      <td>Abhisheak</td>\n",
       "      <td>Saraswat</td>\n",
       "      <td>Bachelors</td>\n",
       "      <td>Professional</td>\n",
       "      <td>A</td>\n",
       "      <td>45000.0</td>\n",
       "      <td>3805.0</td>\n",
       "      <td>1899-12-30 00:00:00.000</td>\n",
       "      <td>NaN</td>\n",
       "    </tr>\n",
       "    <tr>\n",
       "      <th>2</th>\n",
       "      <td>2220.0</td>\n",
       "      <td>Walter</td>\n",
       "      <td>Kennedy</td>\n",
       "      <td>Education</td>\n",
       "      <td>Human Resource</td>\n",
       "      <td>A</td>\n",
       "      <td>60000.0</td>\n",
       "      <td>4944.0</td>\n",
       "      <td>1899-12-30 00:00:00.000</td>\n",
       "      <td>6.0</td>\n",
       "    </tr>\n",
       "  </tbody>\n",
       "</table>\n",
       "</div>"
      ],
      "text/plain": [
       "    EmpID  FirstName  LastName  Education      Occupation Grade  YearlyIncome  \\\n",
       "0  1870.0      Annie   Jenkins  Bachelors      Management     A       35000.0   \n",
       "1  9939.0  Abhisheak  Saraswat  Bachelors    Professional     A       45000.0   \n",
       "2  2220.0     Walter   Kennedy  Education  Human Resource     A       60000.0   \n",
       "\n",
       "    Sales                 HireDate  DeptID  \n",
       "0  4650.0  1899-12-30 00:00:00.000     9.0  \n",
       "1  3805.0  1899-12-30 00:00:00.000     NaN  \n",
       "2  4944.0  1899-12-30 00:00:00.000     6.0  "
      ]
     },
     "execution_count": 20,
     "metadata": {},
     "output_type": "execute_result"
    }
   ],
   "source": [
    "df"
   ]
  },
  {
   "cell_type": "code",
   "execution_count": 23,
   "id": "b4b9c4ee",
   "metadata": {},
   "outputs": [],
   "source": [
    "pd.read_sql(sql=\"select * from employeedb\",\n",
    "            con = connection).to_csv(\"EmployeeDB.csv\", index=False)"
   ]
  },
  {
   "cell_type": "code",
   "execution_count": 31,
   "id": "15118997",
   "metadata": {},
   "outputs": [],
   "source": [
    "# How to make a connection using sqlalchemy between python and sql"
   ]
  },
  {
   "cell_type": "code",
   "execution_count": 32,
   "id": "6fa16dfb",
   "metadata": {},
   "outputs": [],
   "source": [
    "conn = sqlalchemy.create_engine(f'mssql+pyodbc://{platform.node()}/upGrad_2023?trusted_connection=yes&driver=ODBC Driver 17 for SQL Server')"
   ]
  },
  {
   "cell_type": "code",
   "execution_count": 45,
   "id": "9866bcdf",
   "metadata": {},
   "outputs": [],
   "source": [
    "i = 1\n",
    "for fl in os.listdir():\n",
    "    if fl.startswith('EmployeeDB'):\n",
    "        df = pd.read_csv(fl)\n",
    "        df.to_sql(\"Nancy\", con = conn, if_exists='append', index = False)"
   ]
  },
  {
   "cell_type": "code",
   "execution_count": 30,
   "id": "d50bdf40",
   "metadata": {},
   "outputs": [
    {
     "data": {
      "text/plain": [
       "340"
      ]
     },
     "execution_count": 30,
     "metadata": {},
     "output_type": "execute_result"
    }
   ],
   "source": [
    "17 * 20"
   ]
  },
  {
   "cell_type": "code",
   "execution_count": 46,
   "id": "a9930eb0",
   "metadata": {},
   "outputs": [
    {
     "data": {
      "text/plain": [
       "1020"
      ]
     },
     "execution_count": 46,
     "metadata": {},
     "output_type": "execute_result"
    }
   ],
   "source": [
    "340*3"
   ]
  },
  {
   "cell_type": "code",
   "execution_count": 47,
   "id": "a4766de9",
   "metadata": {},
   "outputs": [],
   "source": [
    "# Os Tutorial"
   ]
  },
  {
   "cell_type": "code",
   "execution_count": 51,
   "id": "9f59dc74",
   "metadata": {},
   "outputs": [],
   "source": [
    "os.chdir(os.environ['userprofile'] + \"\\Desktop\\Aman\") # change directory"
   ]
  },
  {
   "cell_type": "code",
   "execution_count": 49,
   "id": "55aa916f",
   "metadata": {},
   "outputs": [
    {
     "data": {
      "text/plain": [
       "'C:\\\\Users\\\\AEPAC\\\\Desktop\\\\Aman'"
      ]
     },
     "execution_count": 49,
     "metadata": {},
     "output_type": "execute_result"
    }
   ],
   "source": [
    "os.getcwd()"
   ]
  },
  {
   "cell_type": "code",
   "execution_count": 50,
   "id": "4571a1b1",
   "metadata": {},
   "outputs": [
    {
     "data": {
      "text/plain": [
       "['Abhisheak.csv', 'Aman.csv', 'Superstore.csv']"
      ]
     },
     "execution_count": 50,
     "metadata": {},
     "output_type": "execute_result"
    }
   ],
   "source": [
    "os.listdir()"
   ]
  },
  {
   "cell_type": "code",
   "execution_count": 53,
   "id": "2d036eb0",
   "metadata": {},
   "outputs": [],
   "source": [
    "df = pd.DataFrame({\"  EmployeeDB  \":[101,102,103],\"  EmpName  \":[\"A\",\"B\",\"C\"]})"
   ]
  },
  {
   "cell_type": "code",
   "execution_count": 54,
   "id": "ab0cb8f1",
   "metadata": {},
   "outputs": [
    {
     "data": {
      "text/html": [
       "<div>\n",
       "<style scoped>\n",
       "    .dataframe tbody tr th:only-of-type {\n",
       "        vertical-align: middle;\n",
       "    }\n",
       "\n",
       "    .dataframe tbody tr th {\n",
       "        vertical-align: top;\n",
       "    }\n",
       "\n",
       "    .dataframe thead th {\n",
       "        text-align: right;\n",
       "    }\n",
       "</style>\n",
       "<table border=\"1\" class=\"dataframe\">\n",
       "  <thead>\n",
       "    <tr style=\"text-align: right;\">\n",
       "      <th></th>\n",
       "      <th>EmployeeDB</th>\n",
       "      <th>EmpName</th>\n",
       "    </tr>\n",
       "  </thead>\n",
       "  <tbody>\n",
       "    <tr>\n",
       "      <th>0</th>\n",
       "      <td>101</td>\n",
       "      <td>A</td>\n",
       "    </tr>\n",
       "    <tr>\n",
       "      <th>1</th>\n",
       "      <td>102</td>\n",
       "      <td>B</td>\n",
       "    </tr>\n",
       "    <tr>\n",
       "      <th>2</th>\n",
       "      <td>103</td>\n",
       "      <td>C</td>\n",
       "    </tr>\n",
       "  </tbody>\n",
       "</table>\n",
       "</div>"
      ],
      "text/plain": [
       "   EmployeeDB   EmpName  \n",
       "0           101         A\n",
       "1           102         B\n",
       "2           103         C"
      ]
     },
     "execution_count": 54,
     "metadata": {},
     "output_type": "execute_result"
    }
   ],
   "source": [
    "df"
   ]
  },
  {
   "cell_type": "code",
   "execution_count": 55,
   "id": "77b5a0ab",
   "metadata": {},
   "outputs": [
    {
     "data": {
      "text/plain": [
       "Index(['  EmployeeDB  ', '  EmpName  '], dtype='object')"
      ]
     },
     "execution_count": 55,
     "metadata": {},
     "output_type": "execute_result"
    }
   ],
   "source": [
    "df.columns"
   ]
  },
  {
   "cell_type": "code",
   "execution_count": 56,
   "id": "a0639f16",
   "metadata": {},
   "outputs": [],
   "source": [
    "df.columns = df.columns.str.strip()"
   ]
  },
  {
   "cell_type": "code",
   "execution_count": 57,
   "id": "6a343dfa",
   "metadata": {},
   "outputs": [
    {
     "data": {
      "text/plain": [
       "Index(['EmployeeDB', 'EmpName'], dtype='object')"
      ]
     },
     "execution_count": 57,
     "metadata": {},
     "output_type": "execute_result"
    }
   ],
   "source": [
    "df.columns"
   ]
  },
  {
   "cell_type": "code",
   "execution_count": 60,
   "id": "98a1e925",
   "metadata": {},
   "outputs": [],
   "source": [
    "os.chdir(r\"C:\\Users\\AEPAC\\Desktop\\KnowledgeHut\\2024\\2024_upGrad\\Python\\17 - 06th Oct - Python Data Cleaning and Preprocessing\")\n",
    "result = pd.DataFrame()\n",
    "for fl in os.listdir():\n",
    "    if fl.startswith('EmployeeDB'):\n",
    "        df = pd.read_csv(fl)\n",
    "        result = pd.concat([result,df])"
   ]
  },
  {
   "cell_type": "code",
   "execution_count": 61,
   "id": "fe349acb",
   "metadata": {},
   "outputs": [
    {
     "data": {
      "text/plain": [
       "(340, 10)"
      ]
     },
     "execution_count": 61,
     "metadata": {},
     "output_type": "execute_result"
    }
   ],
   "source": [
    "result.shape"
   ]
  },
  {
   "cell_type": "code",
   "execution_count": 62,
   "id": "20dd2707",
   "metadata": {},
   "outputs": [
    {
     "data": {
      "text/html": [
       "<div>\n",
       "<style scoped>\n",
       "    .dataframe tbody tr th:only-of-type {\n",
       "        vertical-align: middle;\n",
       "    }\n",
       "\n",
       "    .dataframe tbody tr th {\n",
       "        vertical-align: top;\n",
       "    }\n",
       "\n",
       "    .dataframe thead th {\n",
       "        text-align: right;\n",
       "    }\n",
       "</style>\n",
       "<table border=\"1\" class=\"dataframe\">\n",
       "  <thead>\n",
       "    <tr style=\"text-align: right;\">\n",
       "      <th></th>\n",
       "      <th>EmpID</th>\n",
       "      <th>FirstName</th>\n",
       "      <th>LastName</th>\n",
       "      <th>Education</th>\n",
       "      <th>Occupation</th>\n",
       "      <th>Grade</th>\n",
       "      <th>YearlyIncome</th>\n",
       "      <th>Sales</th>\n",
       "      <th>HireDate</th>\n",
       "      <th>DeptID</th>\n",
       "    </tr>\n",
       "  </thead>\n",
       "  <tbody>\n",
       "    <tr>\n",
       "      <th>0</th>\n",
       "      <td>1870.0</td>\n",
       "      <td>Annie</td>\n",
       "      <td>Jenkins</td>\n",
       "      <td>Bachelors</td>\n",
       "      <td>Management</td>\n",
       "      <td>A</td>\n",
       "      <td>35000.0</td>\n",
       "      <td>4650.0</td>\n",
       "      <td>1899-12-30 00:00:00.000</td>\n",
       "      <td>9.0</td>\n",
       "    </tr>\n",
       "    <tr>\n",
       "      <th>1</th>\n",
       "      <td>9137.0</td>\n",
       "      <td>Sandra</td>\n",
       "      <td>Hicks</td>\n",
       "      <td>Bachelors</td>\n",
       "      <td>Clerical</td>\n",
       "      <td>D</td>\n",
       "      <td>25000.0</td>\n",
       "      <td>4449.0</td>\n",
       "      <td>1899-12-30 00:00:00.000</td>\n",
       "      <td>5.0</td>\n",
       "    </tr>\n",
       "    <tr>\n",
       "      <th>2</th>\n",
       "      <td>8843.0</td>\n",
       "      <td>Benjamin</td>\n",
       "      <td>Willis</td>\n",
       "      <td>Master Degree</td>\n",
       "      <td>Professional</td>\n",
       "      <td>B</td>\n",
       "      <td>50000.0</td>\n",
       "      <td>4093.0</td>\n",
       "      <td>1899-12-30 00:00:00.000</td>\n",
       "      <td>8.0</td>\n",
       "    </tr>\n",
       "    <tr>\n",
       "      <th>3</th>\n",
       "      <td>9939.0</td>\n",
       "      <td>Abhisheak</td>\n",
       "      <td>Saraswat</td>\n",
       "      <td>Bachelors</td>\n",
       "      <td>Professional</td>\n",
       "      <td>A</td>\n",
       "      <td>45000.0</td>\n",
       "      <td>3805.0</td>\n",
       "      <td>1899-12-30 00:00:00.000</td>\n",
       "      <td>NaN</td>\n",
       "    </tr>\n",
       "    <tr>\n",
       "      <th>4</th>\n",
       "      <td>6016.0</td>\n",
       "      <td>Roger</td>\n",
       "      <td>Gomez</td>\n",
       "      <td>Intermediate</td>\n",
       "      <td>Clerical</td>\n",
       "      <td>C</td>\n",
       "      <td>55000.0</td>\n",
       "      <td>3750.0</td>\n",
       "      <td>1899-12-30 00:00:00.000</td>\n",
       "      <td>6.0</td>\n",
       "    </tr>\n",
       "    <tr>\n",
       "      <th>...</th>\n",
       "      <td>...</td>\n",
       "      <td>...</td>\n",
       "      <td>...</td>\n",
       "      <td>...</td>\n",
       "      <td>...</td>\n",
       "      <td>...</td>\n",
       "      <td>...</td>\n",
       "      <td>...</td>\n",
       "      <td>...</td>\n",
       "      <td>...</td>\n",
       "    </tr>\n",
       "    <tr>\n",
       "      <th>15</th>\n",
       "      <td>8592.0</td>\n",
       "      <td>Gloria</td>\n",
       "      <td>Harper</td>\n",
       "      <td>High School</td>\n",
       "      <td>Clerical</td>\n",
       "      <td>A</td>\n",
       "      <td>40000.0</td>\n",
       "      <td>1383.0</td>\n",
       "      <td>1899-12-30 00:00:00.000</td>\n",
       "      <td>2.0</td>\n",
       "    </tr>\n",
       "    <tr>\n",
       "      <th>16</th>\n",
       "      <td>5711.0</td>\n",
       "      <td>Brian</td>\n",
       "      <td>Ryan</td>\n",
       "      <td>Bachelors</td>\n",
       "      <td>Clerical</td>\n",
       "      <td>A</td>\n",
       "      <td>40000.0</td>\n",
       "      <td>843.0</td>\n",
       "      <td>1899-12-30 00:00:00.000</td>\n",
       "      <td>6.0</td>\n",
       "    </tr>\n",
       "    <tr>\n",
       "      <th>17</th>\n",
       "      <td>4481.0</td>\n",
       "      <td>Harold</td>\n",
       "      <td>Hunter</td>\n",
       "      <td>High School</td>\n",
       "      <td>Professional</td>\n",
       "      <td>C</td>\n",
       "      <td>50000.0</td>\n",
       "      <td>523.0</td>\n",
       "      <td>1899-12-30 00:00:00.000</td>\n",
       "      <td>3.0</td>\n",
       "    </tr>\n",
       "    <tr>\n",
       "      <th>18</th>\n",
       "      <td>4682.0</td>\n",
       "      <td>Helen</td>\n",
       "      <td>Dean</td>\n",
       "      <td>High School</td>\n",
       "      <td>Management</td>\n",
       "      <td>B</td>\n",
       "      <td>75000.0</td>\n",
       "      <td>100.0</td>\n",
       "      <td>1899-12-30 00:00:00.000</td>\n",
       "      <td>2.0</td>\n",
       "    </tr>\n",
       "    <tr>\n",
       "      <th>19</th>\n",
       "      <td>2220.0</td>\n",
       "      <td>Walter</td>\n",
       "      <td>Kennedy</td>\n",
       "      <td>Education</td>\n",
       "      <td>Human Resource</td>\n",
       "      <td>A</td>\n",
       "      <td>60000.0</td>\n",
       "      <td>4944.0</td>\n",
       "      <td>1899-12-30 00:00:00.000</td>\n",
       "      <td>6.0</td>\n",
       "    </tr>\n",
       "  </tbody>\n",
       "</table>\n",
       "<p>340 rows × 10 columns</p>\n",
       "</div>"
      ],
      "text/plain": [
       "     EmpID  FirstName  LastName      Education      Occupation Grade  \\\n",
       "0   1870.0      Annie   Jenkins      Bachelors      Management     A   \n",
       "1   9137.0     Sandra     Hicks      Bachelors        Clerical     D   \n",
       "2   8843.0   Benjamin    Willis  Master Degree    Professional     B   \n",
       "3   9939.0  Abhisheak  Saraswat      Bachelors    Professional     A   \n",
       "4   6016.0      Roger     Gomez   Intermediate        Clerical     C   \n",
       "..     ...        ...       ...            ...             ...   ...   \n",
       "15  8592.0     Gloria    Harper    High School        Clerical     A   \n",
       "16  5711.0      Brian      Ryan      Bachelors        Clerical     A   \n",
       "17  4481.0     Harold    Hunter    High School    Professional     C   \n",
       "18  4682.0      Helen      Dean    High School      Management     B   \n",
       "19  2220.0     Walter   Kennedy      Education  Human Resource     A   \n",
       "\n",
       "    YearlyIncome   Sales                 HireDate  DeptID  \n",
       "0        35000.0  4650.0  1899-12-30 00:00:00.000     9.0  \n",
       "1        25000.0  4449.0  1899-12-30 00:00:00.000     5.0  \n",
       "2        50000.0  4093.0  1899-12-30 00:00:00.000     8.0  \n",
       "3        45000.0  3805.0  1899-12-30 00:00:00.000     NaN  \n",
       "4        55000.0  3750.0  1899-12-30 00:00:00.000     6.0  \n",
       "..           ...     ...                      ...     ...  \n",
       "15       40000.0  1383.0  1899-12-30 00:00:00.000     2.0  \n",
       "16       40000.0   843.0  1899-12-30 00:00:00.000     6.0  \n",
       "17       50000.0   523.0  1899-12-30 00:00:00.000     3.0  \n",
       "18       75000.0   100.0  1899-12-30 00:00:00.000     2.0  \n",
       "19       60000.0  4944.0  1899-12-30 00:00:00.000     6.0  \n",
       "\n",
       "[340 rows x 10 columns]"
      ]
     },
     "execution_count": 62,
     "metadata": {},
     "output_type": "execute_result"
    }
   ],
   "source": [
    "result"
   ]
  },
  {
   "cell_type": "code",
   "execution_count": 63,
   "id": "9fc084e7",
   "metadata": {},
   "outputs": [
    {
     "data": {
      "text/html": [
       "<div>\n",
       "<style scoped>\n",
       "    .dataframe tbody tr th:only-of-type {\n",
       "        vertical-align: middle;\n",
       "    }\n",
       "\n",
       "    .dataframe tbody tr th {\n",
       "        vertical-align: top;\n",
       "    }\n",
       "\n",
       "    .dataframe thead th {\n",
       "        text-align: right;\n",
       "    }\n",
       "</style>\n",
       "<table border=\"1\" class=\"dataframe\">\n",
       "  <thead>\n",
       "    <tr style=\"text-align: right;\">\n",
       "      <th></th>\n",
       "      <th>EmpID</th>\n",
       "      <th>FirstName</th>\n",
       "      <th>LastName</th>\n",
       "      <th>Education</th>\n",
       "      <th>Occupation</th>\n",
       "      <th>Grade</th>\n",
       "      <th>YearlyIncome</th>\n",
       "      <th>Sales</th>\n",
       "      <th>HireDate</th>\n",
       "      <th>DeptID</th>\n",
       "    </tr>\n",
       "  </thead>\n",
       "  <tbody>\n",
       "    <tr>\n",
       "      <th>19</th>\n",
       "      <td>2220.0</td>\n",
       "      <td>Walter</td>\n",
       "      <td>Kennedy</td>\n",
       "      <td>Education</td>\n",
       "      <td>Human Resource</td>\n",
       "      <td>A</td>\n",
       "      <td>60000.0</td>\n",
       "      <td>4944.0</td>\n",
       "      <td>1899-12-30 00:00:00.000</td>\n",
       "      <td>6.0</td>\n",
       "    </tr>\n",
       "    <tr>\n",
       "      <th>19</th>\n",
       "      <td>2220.0</td>\n",
       "      <td>Walter</td>\n",
       "      <td>Kennedy</td>\n",
       "      <td>Education</td>\n",
       "      <td>Human Resource</td>\n",
       "      <td>A</td>\n",
       "      <td>60000.0</td>\n",
       "      <td>4944.0</td>\n",
       "      <td>1899-12-30 00:00:00.000</td>\n",
       "      <td>6.0</td>\n",
       "    </tr>\n",
       "    <tr>\n",
       "      <th>19</th>\n",
       "      <td>2220.0</td>\n",
       "      <td>Walter</td>\n",
       "      <td>Kennedy</td>\n",
       "      <td>Education</td>\n",
       "      <td>Human Resource</td>\n",
       "      <td>A</td>\n",
       "      <td>60000.0</td>\n",
       "      <td>4944.0</td>\n",
       "      <td>1899-12-30 00:00:00.000</td>\n",
       "      <td>6.0</td>\n",
       "    </tr>\n",
       "    <tr>\n",
       "      <th>19</th>\n",
       "      <td>2220.0</td>\n",
       "      <td>Walter</td>\n",
       "      <td>Kennedy</td>\n",
       "      <td>Education</td>\n",
       "      <td>Human Resource</td>\n",
       "      <td>A</td>\n",
       "      <td>60000.0</td>\n",
       "      <td>4944.0</td>\n",
       "      <td>1899-12-30 00:00:00.000</td>\n",
       "      <td>6.0</td>\n",
       "    </tr>\n",
       "    <tr>\n",
       "      <th>19</th>\n",
       "      <td>2220.0</td>\n",
       "      <td>Walter</td>\n",
       "      <td>Kennedy</td>\n",
       "      <td>Education</td>\n",
       "      <td>Human Resource</td>\n",
       "      <td>A</td>\n",
       "      <td>60000.0</td>\n",
       "      <td>4944.0</td>\n",
       "      <td>1899-12-30 00:00:00.000</td>\n",
       "      <td>6.0</td>\n",
       "    </tr>\n",
       "  </tbody>\n",
       "</table>\n",
       "</div>"
      ],
      "text/plain": [
       "     EmpID FirstName LastName  Education      Occupation Grade  YearlyIncome  \\\n",
       "19  2220.0    Walter  Kennedy  Education  Human Resource     A       60000.0   \n",
       "19  2220.0    Walter  Kennedy  Education  Human Resource     A       60000.0   \n",
       "19  2220.0    Walter  Kennedy  Education  Human Resource     A       60000.0   \n",
       "19  2220.0    Walter  Kennedy  Education  Human Resource     A       60000.0   \n",
       "19  2220.0    Walter  Kennedy  Education  Human Resource     A       60000.0   \n",
       "\n",
       "     Sales                 HireDate  DeptID  \n",
       "19  4944.0  1899-12-30 00:00:00.000     6.0  \n",
       "19  4944.0  1899-12-30 00:00:00.000     6.0  \n",
       "19  4944.0  1899-12-30 00:00:00.000     6.0  \n",
       "19  4944.0  1899-12-30 00:00:00.000     6.0  \n",
       "19  4944.0  1899-12-30 00:00:00.000     6.0  "
      ]
     },
     "execution_count": 63,
     "metadata": {},
     "output_type": "execute_result"
    }
   ],
   "source": [
    "result.nlargest(5,'Sales')"
   ]
  },
  {
   "cell_type": "code",
   "execution_count": null,
   "id": "ff448e12",
   "metadata": {},
   "outputs": [],
   "source": []
  }
 ],
 "metadata": {
  "kernelspec": {
   "display_name": "Python 3 (ipykernel)",
   "language": "python",
   "name": "python3"
  },
  "language_info": {
   "codemirror_mode": {
    "name": "ipython",
    "version": 3
   },
   "file_extension": ".py",
   "mimetype": "text/x-python",
   "name": "python",
   "nbconvert_exporter": "python",
   "pygments_lexer": "ipython3",
   "version": "3.11.2"
  }
 },
 "nbformat": 4,
 "nbformat_minor": 5
}
