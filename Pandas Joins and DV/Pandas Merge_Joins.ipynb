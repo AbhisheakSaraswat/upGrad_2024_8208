{
 "cells": [
  {
   "cell_type": "code",
   "execution_count": 7,
   "id": "e3852f55",
   "metadata": {},
   "outputs": [],
   "source": [
    "import pandas as pd\n",
    "import os"
   ]
  },
  {
   "cell_type": "code",
   "execution_count": 8,
   "id": "c505f8a6",
   "metadata": {},
   "outputs": [
    {
     "data": {
      "text/plain": [
       "['.ipynb_checkpoints',\n",
       " 'AirPassengers.csv',\n",
       " 'buffet_details_extended.csv',\n",
       " 'churn_data.csv',\n",
       " 'heart.csv',\n",
       " 'Modified_Superstore.csv',\n",
       " 'Pandas Apply and Pivot Table.ipynb',\n",
       " 'Pandas Merge_Joins.ipynb',\n",
       " 'RandomSales.xlsx',\n",
       " 'Superstore.csv']"
      ]
     },
     "execution_count": 8,
     "metadata": {},
     "output_type": "execute_result"
    }
   ],
   "source": [
    "os.listdir()"
   ]
  },
  {
   "cell_type": "code",
   "execution_count": 10,
   "id": "04d2712c",
   "metadata": {},
   "outputs": [],
   "source": [
    "result = pd.read_excel(\"RandomSales.xlsx\", sheet_name=None)\n",
    "# when your sheet_name = None, then above live returns an output in the form dictionary"
   ]
  },
  {
   "cell_type": "code",
   "execution_count": 11,
   "id": "34ff72e0",
   "metadata": {},
   "outputs": [
    {
     "data": {
      "text/plain": [
       "dict"
      ]
     },
     "execution_count": 11,
     "metadata": {},
     "output_type": "execute_result"
    }
   ],
   "source": [
    "type(result)"
   ]
  },
  {
   "cell_type": "code",
   "execution_count": 12,
   "id": "267b793f",
   "metadata": {},
   "outputs": [
    {
     "data": {
      "text/plain": [
       "dict_keys(['Orders', 'Returns', 'upGrad', 'Ankita'])"
      ]
     },
     "execution_count": 12,
     "metadata": {},
     "output_type": "execute_result"
    }
   ],
   "source": [
    "result.keys()"
   ]
  },
  {
   "cell_type": "code",
   "execution_count": 18,
   "id": "9cf9a131",
   "metadata": {},
   "outputs": [
    {
     "data": {
      "text/plain": [
       "['Orders', 'Returns', 'upGrad', 'Ankita']"
      ]
     },
     "execution_count": 18,
     "metadata": {},
     "output_type": "execute_result"
    }
   ],
   "source": [
    "pd.ExcelFile(\"RandomSales.xlsx\").sheet_names"
   ]
  },
  {
   "cell_type": "code",
   "execution_count": 19,
   "id": "ac4b9382",
   "metadata": {},
   "outputs": [
    {
     "data": {
      "text/plain": [
       "['Orders', 'Amit', 'Pushpanjali', 'Om', 'Returns', 'upGrad', 'Ankita']"
      ]
     },
     "execution_count": 19,
     "metadata": {},
     "output_type": "execute_result"
    }
   ],
   "source": [
    "pd.ExcelFile(\"Random_Sales.xlsx\").sheet_names"
   ]
  },
  {
   "cell_type": "code",
   "execution_count": 20,
   "id": "3855dd3e",
   "metadata": {},
   "outputs": [],
   "source": [
    "orders = pd.read_excel(\"RandomSales.xlsx\", sheet_name=\"Orders\")"
   ]
  },
  {
   "cell_type": "code",
   "execution_count": 21,
   "id": "1d3b73cd",
   "metadata": {},
   "outputs": [
    {
     "data": {
      "text/plain": [
       "(5000, 5)"
      ]
     },
     "execution_count": 21,
     "metadata": {},
     "output_type": "execute_result"
    }
   ],
   "source": [
    "orders.shape"
   ]
  },
  {
   "cell_type": "code",
   "execution_count": 22,
   "id": "75366581",
   "metadata": {},
   "outputs": [],
   "source": [
    "returns = pd.read_excel(\"RandomSales.xlsx\", sheet_name=\"Returns\")"
   ]
  },
  {
   "cell_type": "code",
   "execution_count": 23,
   "id": "b61f24fb",
   "metadata": {},
   "outputs": [
    {
     "data": {
      "text/plain": [
       "(2000, 4)"
      ]
     },
     "execution_count": 23,
     "metadata": {},
     "output_type": "execute_result"
    }
   ],
   "source": [
    "returns.shape"
   ]
  },
  {
   "cell_type": "code",
   "execution_count": 24,
   "id": "5ee2c6e4",
   "metadata": {},
   "outputs": [
    {
     "data": {
      "text/html": [
       "<div>\n",
       "<style scoped>\n",
       "    .dataframe tbody tr th:only-of-type {\n",
       "        vertical-align: middle;\n",
       "    }\n",
       "\n",
       "    .dataframe tbody tr th {\n",
       "        vertical-align: top;\n",
       "    }\n",
       "\n",
       "    .dataframe thead th {\n",
       "        text-align: right;\n",
       "    }\n",
       "</style>\n",
       "<table border=\"1\" class=\"dataframe\">\n",
       "  <thead>\n",
       "    <tr style=\"text-align: right;\">\n",
       "      <th></th>\n",
       "      <th>Order ID</th>\n",
       "      <th>Customer</th>\n",
       "      <th>City</th>\n",
       "      <th>Quantity</th>\n",
       "      <th>Price</th>\n",
       "    </tr>\n",
       "  </thead>\n",
       "  <tbody>\n",
       "    <tr>\n",
       "      <th>0</th>\n",
       "      <td>NJ-2016-152156</td>\n",
       "      <td>Raymond Young</td>\n",
       "      <td>Troy</td>\n",
       "      <td>6</td>\n",
       "      <td>12.42</td>\n",
       "    </tr>\n",
       "    <tr>\n",
       "      <th>1</th>\n",
       "      <td>NJ-2016-138688</td>\n",
       "      <td>Helen Dean</td>\n",
       "      <td>Westfield</td>\n",
       "      <td>7</td>\n",
       "      <td>17.83</td>\n",
       "    </tr>\n",
       "  </tbody>\n",
       "</table>\n",
       "</div>"
      ],
      "text/plain": [
       "         Order ID       Customer       City  Quantity  Price\n",
       "0  NJ-2016-152156  Raymond Young       Troy         6  12.42\n",
       "1  NJ-2016-138688     Helen Dean  Westfield         7  17.83"
      ]
     },
     "execution_count": 24,
     "metadata": {},
     "output_type": "execute_result"
    }
   ],
   "source": [
    "orders.head(2)"
   ]
  },
  {
   "cell_type": "code",
   "execution_count": 25,
   "id": "96d41b96",
   "metadata": {},
   "outputs": [
    {
     "data": {
      "text/html": [
       "<div>\n",
       "<style scoped>\n",
       "    .dataframe tbody tr th:only-of-type {\n",
       "        vertical-align: middle;\n",
       "    }\n",
       "\n",
       "    .dataframe tbody tr th {\n",
       "        vertical-align: top;\n",
       "    }\n",
       "\n",
       "    .dataframe thead th {\n",
       "        text-align: right;\n",
       "    }\n",
       "</style>\n",
       "<table border=\"1\" class=\"dataframe\">\n",
       "  <thead>\n",
       "    <tr style=\"text-align: right;\">\n",
       "      <th></th>\n",
       "      <th>Order ID</th>\n",
       "      <th>Customer</th>\n",
       "      <th>City</th>\n",
       "      <th>State</th>\n",
       "    </tr>\n",
       "  </thead>\n",
       "  <tbody>\n",
       "    <tr>\n",
       "      <th>0</th>\n",
       "      <td>NJ-2016-273214</td>\n",
       "      <td>Raymond Young</td>\n",
       "      <td>Troy</td>\n",
       "      <td>New York</td>\n",
       "    </tr>\n",
       "    <tr>\n",
       "      <th>1</th>\n",
       "      <td>NJ-2016-271456</td>\n",
       "      <td>Helen Dean</td>\n",
       "      <td>Westfield</td>\n",
       "      <td>New Jersey</td>\n",
       "    </tr>\n",
       "  </tbody>\n",
       "</table>\n",
       "</div>"
      ],
      "text/plain": [
       "         Order ID       Customer       City       State\n",
       "0  NJ-2016-273214  Raymond Young       Troy    New York\n",
       "1  NJ-2016-271456     Helen Dean  Westfield  New Jersey"
      ]
     },
     "execution_count": 25,
     "metadata": {},
     "output_type": "execute_result"
    }
   ],
   "source": [
    "returns.head(2)"
   ]
  },
  {
   "cell_type": "markdown",
   "id": "d5e9b1a5",
   "metadata": {},
   "source": [
    "## pd.merge\n",
    "* Inner Join : Common record between the dataset (both dataframe)\n",
    "* Left Join : Left DataFrame records including matching record\n",
    "* Right Join : Right DataFrame records including matching record\n",
    "* OuterJoin : (Right DataSet + Left Data Set) - Matching Record\n",
    "* Cross Join : Cartesian Product : LeftData(10), RightData(5) => 50 Rec"
   ]
  },
  {
   "cell_type": "code",
   "execution_count": 27,
   "id": "cbeec80c",
   "metadata": {},
   "outputs": [],
   "source": [
    "inner_join = pd.merge(left = orders, right = returns, how = \"inner\",\n",
    "                     on = \"Order ID\")"
   ]
  },
  {
   "cell_type": "code",
   "execution_count": 28,
   "id": "f406ffba",
   "metadata": {},
   "outputs": [
    {
     "data": {
      "text/plain": [
       "(89, 8)"
      ]
     },
     "execution_count": 28,
     "metadata": {},
     "output_type": "execute_result"
    }
   ],
   "source": [
    "inner_join.shape"
   ]
  },
  {
   "cell_type": "code",
   "execution_count": 29,
   "id": "e857a6c4",
   "metadata": {},
   "outputs": [
    {
     "data": {
      "text/html": [
       "<div>\n",
       "<style scoped>\n",
       "    .dataframe tbody tr th:only-of-type {\n",
       "        vertical-align: middle;\n",
       "    }\n",
       "\n",
       "    .dataframe tbody tr th {\n",
       "        vertical-align: top;\n",
       "    }\n",
       "\n",
       "    .dataframe thead th {\n",
       "        text-align: right;\n",
       "    }\n",
       "</style>\n",
       "<table border=\"1\" class=\"dataframe\">\n",
       "  <thead>\n",
       "    <tr style=\"text-align: right;\">\n",
       "      <th></th>\n",
       "      <th>Order ID</th>\n",
       "      <th>Customer_x</th>\n",
       "      <th>City_x</th>\n",
       "      <th>Quantity</th>\n",
       "      <th>Price</th>\n",
       "      <th>Customer_y</th>\n",
       "      <th>City_y</th>\n",
       "      <th>State</th>\n",
       "    </tr>\n",
       "  </thead>\n",
       "  <tbody>\n",
       "    <tr>\n",
       "      <th>0</th>\n",
       "      <td>WA-2016-117590</td>\n",
       "      <td>Judy Sanchez</td>\n",
       "      <td>Seattle</td>\n",
       "      <td>7</td>\n",
       "      <td>53.35</td>\n",
       "      <td>Judy Sanchez</td>\n",
       "      <td>Seattle</td>\n",
       "      <td>Washington</td>\n",
       "    </tr>\n",
       "    <tr>\n",
       "      <th>1</th>\n",
       "      <td>WA-2015-117415</td>\n",
       "      <td>Harold Hunter</td>\n",
       "      <td>Seattle</td>\n",
       "      <td>4</td>\n",
       "      <td>12.42</td>\n",
       "      <td>Harold Hunter</td>\n",
       "      <td>Seattle</td>\n",
       "      <td>Washington</td>\n",
       "    </tr>\n",
       "    <tr>\n",
       "      <th>2</th>\n",
       "      <td>MA-2017-120999</td>\n",
       "      <td>Lori Shaw</td>\n",
       "      <td>Lowell</td>\n",
       "      <td>7</td>\n",
       "      <td>16.32</td>\n",
       "      <td>Lori Shaw</td>\n",
       "      <td>Lowell</td>\n",
       "      <td>Massachusetts</td>\n",
       "    </tr>\n",
       "    <tr>\n",
       "      <th>3</th>\n",
       "      <td>NJ-2016-101343</td>\n",
       "      <td>Sandra Hicks</td>\n",
       "      <td>Troy</td>\n",
       "      <td>1</td>\n",
       "      <td>53.35</td>\n",
       "      <td>Sandra Hicks</td>\n",
       "      <td>Troy</td>\n",
       "      <td>New York</td>\n",
       "    </tr>\n",
       "    <tr>\n",
       "      <th>4</th>\n",
       "      <td>MA-2017-139619</td>\n",
       "      <td>Roger Gomez</td>\n",
       "      <td>Lowell</td>\n",
       "      <td>7</td>\n",
       "      <td>16.32</td>\n",
       "      <td>Roger Gomez</td>\n",
       "      <td>Lowell</td>\n",
       "      <td>Massachusetts</td>\n",
       "    </tr>\n",
       "  </tbody>\n",
       "</table>\n",
       "</div>"
      ],
      "text/plain": [
       "         Order ID     Customer_x   City_x  Quantity  Price     Customer_y  \\\n",
       "0  WA-2016-117590   Judy Sanchez  Seattle         7  53.35   Judy Sanchez   \n",
       "1  WA-2015-117415  Harold Hunter  Seattle         4  12.42  Harold Hunter   \n",
       "2  MA-2017-120999      Lori Shaw   Lowell         7  16.32      Lori Shaw   \n",
       "3  NJ-2016-101343   Sandra Hicks     Troy         1  53.35   Sandra Hicks   \n",
       "4  MA-2017-139619    Roger Gomez   Lowell         7  16.32    Roger Gomez   \n",
       "\n",
       "    City_y          State  \n",
       "0  Seattle     Washington  \n",
       "1  Seattle     Washington  \n",
       "2   Lowell  Massachusetts  \n",
       "3     Troy       New York  \n",
       "4   Lowell  Massachusetts  "
      ]
     },
     "execution_count": 29,
     "metadata": {},
     "output_type": "execute_result"
    }
   ],
   "source": [
    "inner_join.head()"
   ]
  },
  {
   "cell_type": "code",
   "execution_count": 31,
   "id": "a52b6e9e",
   "metadata": {},
   "outputs": [],
   "source": [
    "inner_join = pd.merge(left = orders, right = returns[[\"Order ID\",\"State\"]],\n",
    "                      how = \"inner\",on = \"Order ID\")"
   ]
  },
  {
   "cell_type": "code",
   "execution_count": 32,
   "id": "94b764e4",
   "metadata": {},
   "outputs": [
    {
     "data": {
      "text/plain": [
       "(89, 6)"
      ]
     },
     "execution_count": 32,
     "metadata": {},
     "output_type": "execute_result"
    }
   ],
   "source": [
    "inner_join.shape"
   ]
  },
  {
   "cell_type": "code",
   "execution_count": 33,
   "id": "511b4300",
   "metadata": {},
   "outputs": [
    {
     "data": {
      "text/html": [
       "<div>\n",
       "<style scoped>\n",
       "    .dataframe tbody tr th:only-of-type {\n",
       "        vertical-align: middle;\n",
       "    }\n",
       "\n",
       "    .dataframe tbody tr th {\n",
       "        vertical-align: top;\n",
       "    }\n",
       "\n",
       "    .dataframe thead th {\n",
       "        text-align: right;\n",
       "    }\n",
       "</style>\n",
       "<table border=\"1\" class=\"dataframe\">\n",
       "  <thead>\n",
       "    <tr style=\"text-align: right;\">\n",
       "      <th></th>\n",
       "      <th>Order ID</th>\n",
       "      <th>Customer</th>\n",
       "      <th>City</th>\n",
       "      <th>Quantity</th>\n",
       "      <th>Price</th>\n",
       "      <th>State</th>\n",
       "    </tr>\n",
       "  </thead>\n",
       "  <tbody>\n",
       "    <tr>\n",
       "      <th>0</th>\n",
       "      <td>WA-2016-117590</td>\n",
       "      <td>Judy Sanchez</td>\n",
       "      <td>Seattle</td>\n",
       "      <td>7</td>\n",
       "      <td>53.35</td>\n",
       "      <td>Washington</td>\n",
       "    </tr>\n",
       "    <tr>\n",
       "      <th>1</th>\n",
       "      <td>WA-2015-117415</td>\n",
       "      <td>Harold Hunter</td>\n",
       "      <td>Seattle</td>\n",
       "      <td>4</td>\n",
       "      <td>12.42</td>\n",
       "      <td>Washington</td>\n",
       "    </tr>\n",
       "    <tr>\n",
       "      <th>2</th>\n",
       "      <td>MA-2017-120999</td>\n",
       "      <td>Lori Shaw</td>\n",
       "      <td>Lowell</td>\n",
       "      <td>7</td>\n",
       "      <td>16.32</td>\n",
       "      <td>Massachusetts</td>\n",
       "    </tr>\n",
       "    <tr>\n",
       "      <th>3</th>\n",
       "      <td>NJ-2016-101343</td>\n",
       "      <td>Sandra Hicks</td>\n",
       "      <td>Troy</td>\n",
       "      <td>1</td>\n",
       "      <td>53.35</td>\n",
       "      <td>New York</td>\n",
       "    </tr>\n",
       "    <tr>\n",
       "      <th>4</th>\n",
       "      <td>MA-2017-139619</td>\n",
       "      <td>Roger Gomez</td>\n",
       "      <td>Lowell</td>\n",
       "      <td>7</td>\n",
       "      <td>16.32</td>\n",
       "      <td>Massachusetts</td>\n",
       "    </tr>\n",
       "  </tbody>\n",
       "</table>\n",
       "</div>"
      ],
      "text/plain": [
       "         Order ID       Customer     City  Quantity  Price          State\n",
       "0  WA-2016-117590   Judy Sanchez  Seattle         7  53.35     Washington\n",
       "1  WA-2015-117415  Harold Hunter  Seattle         4  12.42     Washington\n",
       "2  MA-2017-120999      Lori Shaw   Lowell         7  16.32  Massachusetts\n",
       "3  NJ-2016-101343   Sandra Hicks     Troy         1  53.35       New York\n",
       "4  MA-2017-139619    Roger Gomez   Lowell         7  16.32  Massachusetts"
      ]
     },
     "execution_count": 33,
     "metadata": {},
     "output_type": "execute_result"
    }
   ],
   "source": [
    "inner_join.head()"
   ]
  },
  {
   "cell_type": "markdown",
   "id": "54c6aad7",
   "metadata": {},
   "source": [
    "### Left Join : All the records from left including matching recs"
   ]
  },
  {
   "cell_type": "code",
   "execution_count": 39,
   "id": "a27a8585",
   "metadata": {},
   "outputs": [],
   "source": [
    "left_join = pd.merge(left = orders, right = returns[[\"Order ID\",\"State\"]],\n",
    "                      how = \"left\",on = \"Order ID\",indicator=True)"
   ]
  },
  {
   "cell_type": "code",
   "execution_count": 40,
   "id": "e945fa3e",
   "metadata": {},
   "outputs": [
    {
     "data": {
      "text/plain": [
       "(5000, 7)"
      ]
     },
     "execution_count": 40,
     "metadata": {},
     "output_type": "execute_result"
    }
   ],
   "source": [
    "left_join.shape"
   ]
  },
  {
   "cell_type": "code",
   "execution_count": 41,
   "id": "69caf3ad",
   "metadata": {},
   "outputs": [
    {
     "data": {
      "text/html": [
       "<div>\n",
       "<style scoped>\n",
       "    .dataframe tbody tr th:only-of-type {\n",
       "        vertical-align: middle;\n",
       "    }\n",
       "\n",
       "    .dataframe tbody tr th {\n",
       "        vertical-align: top;\n",
       "    }\n",
       "\n",
       "    .dataframe thead th {\n",
       "        text-align: right;\n",
       "    }\n",
       "</style>\n",
       "<table border=\"1\" class=\"dataframe\">\n",
       "  <thead>\n",
       "    <tr style=\"text-align: right;\">\n",
       "      <th></th>\n",
       "      <th>Order ID</th>\n",
       "      <th>Customer</th>\n",
       "      <th>City</th>\n",
       "      <th>Quantity</th>\n",
       "      <th>Price</th>\n",
       "      <th>State</th>\n",
       "      <th>_merge</th>\n",
       "    </tr>\n",
       "  </thead>\n",
       "  <tbody>\n",
       "    <tr>\n",
       "      <th>0</th>\n",
       "      <td>NJ-2016-152156</td>\n",
       "      <td>Raymond Young</td>\n",
       "      <td>Troy</td>\n",
       "      <td>6</td>\n",
       "      <td>12.42</td>\n",
       "      <td>NaN</td>\n",
       "      <td>left_only</td>\n",
       "    </tr>\n",
       "    <tr>\n",
       "      <th>1</th>\n",
       "      <td>NJ-2016-138688</td>\n",
       "      <td>Helen Dean</td>\n",
       "      <td>Westfield</td>\n",
       "      <td>7</td>\n",
       "      <td>17.83</td>\n",
       "      <td>NaN</td>\n",
       "      <td>left_only</td>\n",
       "    </tr>\n",
       "    <tr>\n",
       "      <th>2</th>\n",
       "      <td>WA-2015-108966</td>\n",
       "      <td>Shirley Chavez</td>\n",
       "      <td>Seattle</td>\n",
       "      <td>2</td>\n",
       "      <td>53.35</td>\n",
       "      <td>NaN</td>\n",
       "      <td>left_only</td>\n",
       "    </tr>\n",
       "    <tr>\n",
       "      <th>3</th>\n",
       "      <td>NJ-2014-115812</td>\n",
       "      <td>Brian Ryan</td>\n",
       "      <td>Westfield</td>\n",
       "      <td>1</td>\n",
       "      <td>53.35</td>\n",
       "      <td>NaN</td>\n",
       "      <td>left_only</td>\n",
       "    </tr>\n",
       "    <tr>\n",
       "      <th>4</th>\n",
       "      <td>NJ-2017-114412</td>\n",
       "      <td>Benjamin Willis</td>\n",
       "      <td>Westfield</td>\n",
       "      <td>3</td>\n",
       "      <td>17.83</td>\n",
       "      <td>NaN</td>\n",
       "      <td>left_only</td>\n",
       "    </tr>\n",
       "  </tbody>\n",
       "</table>\n",
       "</div>"
      ],
      "text/plain": [
       "         Order ID         Customer       City  Quantity  Price State  \\\n",
       "0  NJ-2016-152156    Raymond Young       Troy         6  12.42   NaN   \n",
       "1  NJ-2016-138688       Helen Dean  Westfield         7  17.83   NaN   \n",
       "2  WA-2015-108966   Shirley Chavez    Seattle         2  53.35   NaN   \n",
       "3  NJ-2014-115812       Brian Ryan  Westfield         1  53.35   NaN   \n",
       "4  NJ-2017-114412  Benjamin Willis  Westfield         3  17.83   NaN   \n",
       "\n",
       "      _merge  \n",
       "0  left_only  \n",
       "1  left_only  \n",
       "2  left_only  \n",
       "3  left_only  \n",
       "4  left_only  "
      ]
     },
     "execution_count": 41,
     "metadata": {},
     "output_type": "execute_result"
    }
   ],
   "source": [
    "left_join.head()"
   ]
  },
  {
   "cell_type": "code",
   "execution_count": 43,
   "id": "c1548b6d",
   "metadata": {},
   "outputs": [
    {
     "data": {
      "text/html": [
       "<div>\n",
       "<style scoped>\n",
       "    .dataframe tbody tr th:only-of-type {\n",
       "        vertical-align: middle;\n",
       "    }\n",
       "\n",
       "    .dataframe tbody tr th {\n",
       "        vertical-align: top;\n",
       "    }\n",
       "\n",
       "    .dataframe thead th {\n",
       "        text-align: right;\n",
       "    }\n",
       "</style>\n",
       "<table border=\"1\" class=\"dataframe\">\n",
       "  <thead>\n",
       "    <tr style=\"text-align: right;\">\n",
       "      <th></th>\n",
       "      <th>_merge</th>\n",
       "      <th>count</th>\n",
       "    </tr>\n",
       "  </thead>\n",
       "  <tbody>\n",
       "    <tr>\n",
       "      <th>0</th>\n",
       "      <td>left_only</td>\n",
       "      <td>4911</td>\n",
       "    </tr>\n",
       "    <tr>\n",
       "      <th>1</th>\n",
       "      <td>both</td>\n",
       "      <td>89</td>\n",
       "    </tr>\n",
       "    <tr>\n",
       "      <th>2</th>\n",
       "      <td>right_only</td>\n",
       "      <td>0</td>\n",
       "    </tr>\n",
       "  </tbody>\n",
       "</table>\n",
       "</div>"
      ],
      "text/plain": [
       "       _merge  count\n",
       "0   left_only   4911\n",
       "1        both     89\n",
       "2  right_only      0"
      ]
     },
     "execution_count": 43,
     "metadata": {},
     "output_type": "execute_result"
    }
   ],
   "source": [
    "left_join[\"_merge\"].value_counts().reset_index()"
   ]
  },
  {
   "cell_type": "markdown",
   "id": "00749fdd",
   "metadata": {},
   "source": [
    "### Right Join:  All the records from right - including matching recs"
   ]
  },
  {
   "cell_type": "code",
   "execution_count": 44,
   "id": "e99ae965",
   "metadata": {},
   "outputs": [
    {
     "data": {
      "text/plain": [
       "(2000, 4)"
      ]
     },
     "execution_count": 44,
     "metadata": {},
     "output_type": "execute_result"
    }
   ],
   "source": [
    "returns.shape"
   ]
  },
  {
   "cell_type": "code",
   "execution_count": 46,
   "id": "e3ec5921",
   "metadata": {},
   "outputs": [],
   "source": [
    "right_join = pd.merge(left = orders[[\"Order ID\",\"Price\"]],right = returns,\n",
    "                      how = \"right\",on = \"Order ID\",indicator=True)"
   ]
  },
  {
   "cell_type": "code",
   "execution_count": 47,
   "id": "0268f2b9",
   "metadata": {},
   "outputs": [
    {
     "data": {
      "text/plain": [
       "(2000, 6)"
      ]
     },
     "execution_count": 47,
     "metadata": {},
     "output_type": "execute_result"
    }
   ],
   "source": [
    "right_join.shape"
   ]
  },
  {
   "cell_type": "code",
   "execution_count": 48,
   "id": "65a4b692",
   "metadata": {},
   "outputs": [
    {
     "data": {
      "text/html": [
       "<div>\n",
       "<style scoped>\n",
       "    .dataframe tbody tr th:only-of-type {\n",
       "        vertical-align: middle;\n",
       "    }\n",
       "\n",
       "    .dataframe tbody tr th {\n",
       "        vertical-align: top;\n",
       "    }\n",
       "\n",
       "    .dataframe thead th {\n",
       "        text-align: right;\n",
       "    }\n",
       "</style>\n",
       "<table border=\"1\" class=\"dataframe\">\n",
       "  <thead>\n",
       "    <tr style=\"text-align: right;\">\n",
       "      <th></th>\n",
       "      <th>Order ID</th>\n",
       "      <th>Price</th>\n",
       "      <th>Customer</th>\n",
       "      <th>City</th>\n",
       "      <th>State</th>\n",
       "      <th>_merge</th>\n",
       "    </tr>\n",
       "  </thead>\n",
       "  <tbody>\n",
       "    <tr>\n",
       "      <th>0</th>\n",
       "      <td>NJ-2016-273214</td>\n",
       "      <td>NaN</td>\n",
       "      <td>Raymond Young</td>\n",
       "      <td>Troy</td>\n",
       "      <td>New York</td>\n",
       "      <td>right_only</td>\n",
       "    </tr>\n",
       "    <tr>\n",
       "      <th>1</th>\n",
       "      <td>NJ-2016-271456</td>\n",
       "      <td>NaN</td>\n",
       "      <td>Helen Dean</td>\n",
       "      <td>Westfield</td>\n",
       "      <td>New Jersey</td>\n",
       "      <td>right_only</td>\n",
       "    </tr>\n",
       "    <tr>\n",
       "      <th>2</th>\n",
       "      <td>WA-2015-451988</td>\n",
       "      <td>NaN</td>\n",
       "      <td>Shirley Chavez</td>\n",
       "      <td>Seattle</td>\n",
       "      <td>Washington</td>\n",
       "      <td>right_only</td>\n",
       "    </tr>\n",
       "    <tr>\n",
       "      <th>3</th>\n",
       "      <td>NJ-2014-352961</td>\n",
       "      <td>NaN</td>\n",
       "      <td>Brian Ryan</td>\n",
       "      <td>Westfield</td>\n",
       "      <td>New Jersey</td>\n",
       "      <td>right_only</td>\n",
       "    </tr>\n",
       "    <tr>\n",
       "      <th>4</th>\n",
       "      <td>NJ-2017-213231</td>\n",
       "      <td>NaN</td>\n",
       "      <td>Benjamin Willis</td>\n",
       "      <td>Westfield</td>\n",
       "      <td>New Jersey</td>\n",
       "      <td>right_only</td>\n",
       "    </tr>\n",
       "  </tbody>\n",
       "</table>\n",
       "</div>"
      ],
      "text/plain": [
       "         Order ID  Price         Customer       City       State      _merge\n",
       "0  NJ-2016-273214    NaN    Raymond Young       Troy    New York  right_only\n",
       "1  NJ-2016-271456    NaN       Helen Dean  Westfield  New Jersey  right_only\n",
       "2  WA-2015-451988    NaN   Shirley Chavez    Seattle  Washington  right_only\n",
       "3  NJ-2014-352961    NaN       Brian Ryan  Westfield  New Jersey  right_only\n",
       "4  NJ-2017-213231    NaN  Benjamin Willis  Westfield  New Jersey  right_only"
      ]
     },
     "execution_count": 48,
     "metadata": {},
     "output_type": "execute_result"
    }
   ],
   "source": [
    "right_join.head()"
   ]
  },
  {
   "cell_type": "code",
   "execution_count": 49,
   "id": "13b91a63",
   "metadata": {},
   "outputs": [
    {
     "data": {
      "text/html": [
       "<div>\n",
       "<style scoped>\n",
       "    .dataframe tbody tr th:only-of-type {\n",
       "        vertical-align: middle;\n",
       "    }\n",
       "\n",
       "    .dataframe tbody tr th {\n",
       "        vertical-align: top;\n",
       "    }\n",
       "\n",
       "    .dataframe thead th {\n",
       "        text-align: right;\n",
       "    }\n",
       "</style>\n",
       "<table border=\"1\" class=\"dataframe\">\n",
       "  <thead>\n",
       "    <tr style=\"text-align: right;\">\n",
       "      <th></th>\n",
       "      <th>_merge</th>\n",
       "      <th>count</th>\n",
       "    </tr>\n",
       "  </thead>\n",
       "  <tbody>\n",
       "    <tr>\n",
       "      <th>0</th>\n",
       "      <td>right_only</td>\n",
       "      <td>1911</td>\n",
       "    </tr>\n",
       "    <tr>\n",
       "      <th>1</th>\n",
       "      <td>both</td>\n",
       "      <td>89</td>\n",
       "    </tr>\n",
       "    <tr>\n",
       "      <th>2</th>\n",
       "      <td>left_only</td>\n",
       "      <td>0</td>\n",
       "    </tr>\n",
       "  </tbody>\n",
       "</table>\n",
       "</div>"
      ],
      "text/plain": [
       "       _merge  count\n",
       "0  right_only   1911\n",
       "1        both     89\n",
       "2   left_only      0"
      ]
     },
     "execution_count": 49,
     "metadata": {},
     "output_type": "execute_result"
    }
   ],
   "source": [
    "right_join[\"_merge\"].value_counts().reset_index()"
   ]
  },
  {
   "cell_type": "code",
   "execution_count": 50,
   "id": "77d28f61",
   "metadata": {},
   "outputs": [
    {
     "data": {
      "text/plain": [
       "89"
      ]
     },
     "execution_count": 50,
     "metadata": {},
     "output_type": "execute_result"
    }
   ],
   "source": [
    "sum(right_join[\"_merge\"] == \"both\")"
   ]
  },
  {
   "cell_type": "code",
   "execution_count": 51,
   "id": "ec5440f8",
   "metadata": {},
   "outputs": [
    {
     "data": {
      "text/html": [
       "<div>\n",
       "<style scoped>\n",
       "    .dataframe tbody tr th:only-of-type {\n",
       "        vertical-align: middle;\n",
       "    }\n",
       "\n",
       "    .dataframe tbody tr th {\n",
       "        vertical-align: top;\n",
       "    }\n",
       "\n",
       "    .dataframe thead th {\n",
       "        text-align: right;\n",
       "    }\n",
       "</style>\n",
       "<table border=\"1\" class=\"dataframe\">\n",
       "  <thead>\n",
       "    <tr style=\"text-align: right;\">\n",
       "      <th></th>\n",
       "      <th>Order ID</th>\n",
       "      <th>Price</th>\n",
       "      <th>Customer</th>\n",
       "      <th>City</th>\n",
       "      <th>State</th>\n",
       "      <th>_merge</th>\n",
       "    </tr>\n",
       "  </thead>\n",
       "  <tbody>\n",
       "    <tr>\n",
       "      <th>16</th>\n",
       "      <td>WA-2016-117590</td>\n",
       "      <td>53.35</td>\n",
       "      <td>Judy Sanchez</td>\n",
       "      <td>Seattle</td>\n",
       "      <td>Washington</td>\n",
       "      <td>both</td>\n",
       "    </tr>\n",
       "    <tr>\n",
       "      <th>17</th>\n",
       "      <td>WA-2015-117415</td>\n",
       "      <td>12.42</td>\n",
       "      <td>Harold Hunter</td>\n",
       "      <td>Seattle</td>\n",
       "      <td>Washington</td>\n",
       "      <td>both</td>\n",
       "    </tr>\n",
       "    <tr>\n",
       "      <th>18</th>\n",
       "      <td>MA-2017-120999</td>\n",
       "      <td>16.32</td>\n",
       "      <td>Lori Shaw</td>\n",
       "      <td>Lowell</td>\n",
       "      <td>Massachusetts</td>\n",
       "      <td>both</td>\n",
       "    </tr>\n",
       "    <tr>\n",
       "      <th>19</th>\n",
       "      <td>NJ-2016-101343</td>\n",
       "      <td>53.35</td>\n",
       "      <td>Sandra Hicks</td>\n",
       "      <td>Troy</td>\n",
       "      <td>New York</td>\n",
       "      <td>both</td>\n",
       "    </tr>\n",
       "    <tr>\n",
       "      <th>20</th>\n",
       "      <td>MA-2017-139619</td>\n",
       "      <td>16.32</td>\n",
       "      <td>Roger Gomez</td>\n",
       "      <td>Lowell</td>\n",
       "      <td>Massachusetts</td>\n",
       "      <td>both</td>\n",
       "    </tr>\n",
       "    <tr>\n",
       "      <th>...</th>\n",
       "      <td>...</td>\n",
       "      <td>...</td>\n",
       "      <td>...</td>\n",
       "      <td>...</td>\n",
       "      <td>...</td>\n",
       "      <td>...</td>\n",
       "    </tr>\n",
       "    <tr>\n",
       "      <th>1447</th>\n",
       "      <td>NJ-2014-113929</td>\n",
       "      <td>16.32</td>\n",
       "      <td>Randy Willis</td>\n",
       "      <td>Westfield</td>\n",
       "      <td>New Jersey</td>\n",
       "      <td>both</td>\n",
       "    </tr>\n",
       "    <tr>\n",
       "      <th>1473</th>\n",
       "      <td>MA-2017-167941</td>\n",
       "      <td>16.32</td>\n",
       "      <td>Kenneth Nelson</td>\n",
       "      <td>Lowell</td>\n",
       "      <td>Massachusetts</td>\n",
       "      <td>both</td>\n",
       "    </tr>\n",
       "    <tr>\n",
       "      <th>1499</th>\n",
       "      <td>OR-2016-160528</td>\n",
       "      <td>12.42</td>\n",
       "      <td>Henry Day</td>\n",
       "      <td>Portland</td>\n",
       "      <td>Oregon</td>\n",
       "      <td>both</td>\n",
       "    </tr>\n",
       "    <tr>\n",
       "      <th>1525</th>\n",
       "      <td>WA-2017-106859</td>\n",
       "      <td>53.35</td>\n",
       "      <td>Jennifer Adams</td>\n",
       "      <td>Seattle</td>\n",
       "      <td>Washington</td>\n",
       "      <td>both</td>\n",
       "    </tr>\n",
       "    <tr>\n",
       "      <th>1551</th>\n",
       "      <td>WA-2014-136399</td>\n",
       "      <td>17.83</td>\n",
       "      <td>Stephanie Wallace</td>\n",
       "      <td>Seattle</td>\n",
       "      <td>Washington</td>\n",
       "      <td>both</td>\n",
       "    </tr>\n",
       "  </tbody>\n",
       "</table>\n",
       "<p>89 rows × 6 columns</p>\n",
       "</div>"
      ],
      "text/plain": [
       "            Order ID  Price           Customer       City          State  \\\n",
       "16    WA-2016-117590  53.35       Judy Sanchez    Seattle     Washington   \n",
       "17    WA-2015-117415  12.42      Harold Hunter    Seattle     Washington   \n",
       "18    MA-2017-120999  16.32          Lori Shaw     Lowell  Massachusetts   \n",
       "19    NJ-2016-101343  53.35       Sandra Hicks       Troy       New York   \n",
       "20    MA-2017-139619  16.32        Roger Gomez     Lowell  Massachusetts   \n",
       "...              ...    ...                ...        ...            ...   \n",
       "1447  NJ-2014-113929  16.32       Randy Willis  Westfield     New Jersey   \n",
       "1473  MA-2017-167941  16.32     Kenneth Nelson     Lowell  Massachusetts   \n",
       "1499  OR-2016-160528  12.42          Henry Day   Portland         Oregon   \n",
       "1525  WA-2017-106859  53.35     Jennifer Adams    Seattle     Washington   \n",
       "1551  WA-2014-136399  17.83  Stephanie Wallace    Seattle     Washington   \n",
       "\n",
       "     _merge  \n",
       "16     both  \n",
       "17     both  \n",
       "18     both  \n",
       "19     both  \n",
       "20     both  \n",
       "...     ...  \n",
       "1447   both  \n",
       "1473   both  \n",
       "1499   both  \n",
       "1525   both  \n",
       "1551   both  \n",
       "\n",
       "[89 rows x 6 columns]"
      ]
     },
     "execution_count": 51,
     "metadata": {},
     "output_type": "execute_result"
    }
   ],
   "source": [
    "right_join[right_join[\"_merge\"] == \"both\"]"
   ]
  },
  {
   "cell_type": "code",
   "execution_count": 52,
   "id": "c8afdcb7",
   "metadata": {},
   "outputs": [
    {
     "data": {
      "text/html": [
       "<div>\n",
       "<style scoped>\n",
       "    .dataframe tbody tr th:only-of-type {\n",
       "        vertical-align: middle;\n",
       "    }\n",
       "\n",
       "    .dataframe tbody tr th {\n",
       "        vertical-align: top;\n",
       "    }\n",
       "\n",
       "    .dataframe thead th {\n",
       "        text-align: right;\n",
       "    }\n",
       "</style>\n",
       "<table border=\"1\" class=\"dataframe\">\n",
       "  <thead>\n",
       "    <tr style=\"text-align: right;\">\n",
       "      <th></th>\n",
       "      <th>Order ID</th>\n",
       "      <th>Price</th>\n",
       "      <th>Customer</th>\n",
       "      <th>City</th>\n",
       "      <th>State</th>\n",
       "      <th>_merge</th>\n",
       "    </tr>\n",
       "  </thead>\n",
       "  <tbody>\n",
       "    <tr>\n",
       "      <th>0</th>\n",
       "      <td>NJ-2016-273214</td>\n",
       "      <td>NaN</td>\n",
       "      <td>Raymond Young</td>\n",
       "      <td>Troy</td>\n",
       "      <td>New York</td>\n",
       "      <td>right_only</td>\n",
       "    </tr>\n",
       "    <tr>\n",
       "      <th>1</th>\n",
       "      <td>NJ-2016-271456</td>\n",
       "      <td>NaN</td>\n",
       "      <td>Helen Dean</td>\n",
       "      <td>Westfield</td>\n",
       "      <td>New Jersey</td>\n",
       "      <td>right_only</td>\n",
       "    </tr>\n",
       "    <tr>\n",
       "      <th>2</th>\n",
       "      <td>WA-2015-451988</td>\n",
       "      <td>NaN</td>\n",
       "      <td>Shirley Chavez</td>\n",
       "      <td>Seattle</td>\n",
       "      <td>Washington</td>\n",
       "      <td>right_only</td>\n",
       "    </tr>\n",
       "    <tr>\n",
       "      <th>3</th>\n",
       "      <td>NJ-2014-352961</td>\n",
       "      <td>NaN</td>\n",
       "      <td>Brian Ryan</td>\n",
       "      <td>Westfield</td>\n",
       "      <td>New Jersey</td>\n",
       "      <td>right_only</td>\n",
       "    </tr>\n",
       "    <tr>\n",
       "      <th>4</th>\n",
       "      <td>NJ-2017-213231</td>\n",
       "      <td>NaN</td>\n",
       "      <td>Benjamin Willis</td>\n",
       "      <td>Westfield</td>\n",
       "      <td>New Jersey</td>\n",
       "      <td>right_only</td>\n",
       "    </tr>\n",
       "    <tr>\n",
       "      <th>...</th>\n",
       "      <td>...</td>\n",
       "      <td>...</td>\n",
       "      <td>...</td>\n",
       "      <td>...</td>\n",
       "      <td>...</td>\n",
       "      <td>...</td>\n",
       "    </tr>\n",
       "    <tr>\n",
       "      <th>1995</th>\n",
       "      <td>OR-2014-443372</td>\n",
       "      <td>NaN</td>\n",
       "      <td>Kevin Garza</td>\n",
       "      <td>Portland</td>\n",
       "      <td>Oregon</td>\n",
       "      <td>right_only</td>\n",
       "    </tr>\n",
       "    <tr>\n",
       "      <th>1996</th>\n",
       "      <td>MA-2015-302053</td>\n",
       "      <td>NaN</td>\n",
       "      <td>Walter Kennedy</td>\n",
       "      <td>Lowell</td>\n",
       "      <td>Massachusetts</td>\n",
       "      <td>right_only</td>\n",
       "    </tr>\n",
       "    <tr>\n",
       "      <th>1997</th>\n",
       "      <td>NJ-2015-406754</td>\n",
       "      <td>NaN</td>\n",
       "      <td>Shirley Morrison</td>\n",
       "      <td>Troy</td>\n",
       "      <td>New York</td>\n",
       "      <td>right_only</td>\n",
       "    </tr>\n",
       "    <tr>\n",
       "      <th>1998</th>\n",
       "      <td>CA-2017-214601</td>\n",
       "      <td>NaN</td>\n",
       "      <td>Rachel Stanley</td>\n",
       "      <td>Los Angeles</td>\n",
       "      <td>California</td>\n",
       "      <td>right_only</td>\n",
       "    </tr>\n",
       "    <tr>\n",
       "      <th>1999</th>\n",
       "      <td>OR-2015-206233</td>\n",
       "      <td>NaN</td>\n",
       "      <td>Teresa Fisher</td>\n",
       "      <td>Portland</td>\n",
       "      <td>Oregon</td>\n",
       "      <td>right_only</td>\n",
       "    </tr>\n",
       "  </tbody>\n",
       "</table>\n",
       "<p>1911 rows × 6 columns</p>\n",
       "</div>"
      ],
      "text/plain": [
       "            Order ID  Price          Customer         City          State  \\\n",
       "0     NJ-2016-273214    NaN     Raymond Young         Troy       New York   \n",
       "1     NJ-2016-271456    NaN        Helen Dean    Westfield     New Jersey   \n",
       "2     WA-2015-451988    NaN    Shirley Chavez      Seattle     Washington   \n",
       "3     NJ-2014-352961    NaN        Brian Ryan    Westfield     New Jersey   \n",
       "4     NJ-2017-213231    NaN   Benjamin Willis    Westfield     New Jersey   \n",
       "...              ...    ...               ...          ...            ...   \n",
       "1995  OR-2014-443372    NaN       Kevin Garza     Portland         Oregon   \n",
       "1996  MA-2015-302053    NaN    Walter Kennedy       Lowell  Massachusetts   \n",
       "1997  NJ-2015-406754    NaN  Shirley Morrison         Troy       New York   \n",
       "1998  CA-2017-214601    NaN    Rachel Stanley  Los Angeles     California   \n",
       "1999  OR-2015-206233    NaN     Teresa Fisher     Portland         Oregon   \n",
       "\n",
       "          _merge  \n",
       "0     right_only  \n",
       "1     right_only  \n",
       "2     right_only  \n",
       "3     right_only  \n",
       "4     right_only  \n",
       "...          ...  \n",
       "1995  right_only  \n",
       "1996  right_only  \n",
       "1997  right_only  \n",
       "1998  right_only  \n",
       "1999  right_only  \n",
       "\n",
       "[1911 rows x 6 columns]"
      ]
     },
     "execution_count": 52,
     "metadata": {},
     "output_type": "execute_result"
    }
   ],
   "source": [
    "right_join[right_join[\"_merge\"] != \"both\"]"
   ]
  },
  {
   "cell_type": "code",
   "execution_count": 53,
   "id": "21a80b2b",
   "metadata": {},
   "outputs": [],
   "source": [
    "full_join = pd.merge(left = orders[[\"Order ID\",\"Price\"]],right = returns,\n",
    "                      how = \"outer\",on = \"Order ID\",indicator=True)"
   ]
  },
  {
   "cell_type": "code",
   "execution_count": 54,
   "id": "4a5cffe9",
   "metadata": {},
   "outputs": [
    {
     "data": {
      "text/plain": [
       "(6911, 6)"
      ]
     },
     "execution_count": 54,
     "metadata": {},
     "output_type": "execute_result"
    }
   ],
   "source": [
    "full_join.shape"
   ]
  },
  {
   "cell_type": "code",
   "execution_count": 55,
   "id": "e20f458e",
   "metadata": {},
   "outputs": [
    {
     "data": {
      "text/html": [
       "<div>\n",
       "<style scoped>\n",
       "    .dataframe tbody tr th:only-of-type {\n",
       "        vertical-align: middle;\n",
       "    }\n",
       "\n",
       "    .dataframe tbody tr th {\n",
       "        vertical-align: top;\n",
       "    }\n",
       "\n",
       "    .dataframe thead th {\n",
       "        text-align: right;\n",
       "    }\n",
       "</style>\n",
       "<table border=\"1\" class=\"dataframe\">\n",
       "  <thead>\n",
       "    <tr style=\"text-align: right;\">\n",
       "      <th></th>\n",
       "      <th>_merge</th>\n",
       "      <th>count</th>\n",
       "    </tr>\n",
       "  </thead>\n",
       "  <tbody>\n",
       "    <tr>\n",
       "      <th>0</th>\n",
       "      <td>left_only</td>\n",
       "      <td>4911</td>\n",
       "    </tr>\n",
       "    <tr>\n",
       "      <th>1</th>\n",
       "      <td>right_only</td>\n",
       "      <td>1911</td>\n",
       "    </tr>\n",
       "    <tr>\n",
       "      <th>2</th>\n",
       "      <td>both</td>\n",
       "      <td>89</td>\n",
       "    </tr>\n",
       "  </tbody>\n",
       "</table>\n",
       "</div>"
      ],
      "text/plain": [
       "       _merge  count\n",
       "0   left_only   4911\n",
       "1  right_only   1911\n",
       "2        both     89"
      ]
     },
     "execution_count": 55,
     "metadata": {},
     "output_type": "execute_result"
    }
   ],
   "source": [
    "full_join._merge.value_counts().reset_index()"
   ]
  },
  {
   "cell_type": "code",
   "execution_count": 59,
   "id": "8ac14a9b",
   "metadata": {},
   "outputs": [],
   "source": [
    "salary = pd.read_excel(\"Random_Sales_2.xlsx\",\"Salary\")"
   ]
  },
  {
   "cell_type": "code",
   "execution_count": 61,
   "id": "b76da017",
   "metadata": {},
   "outputs": [
    {
     "data": {
      "text/html": [
       "<div>\n",
       "<style scoped>\n",
       "    .dataframe tbody tr th:only-of-type {\n",
       "        vertical-align: middle;\n",
       "    }\n",
       "\n",
       "    .dataframe tbody tr th {\n",
       "        vertical-align: top;\n",
       "    }\n",
       "\n",
       "    .dataframe thead th {\n",
       "        text-align: right;\n",
       "    }\n",
       "</style>\n",
       "<table border=\"1\" class=\"dataframe\">\n",
       "  <thead>\n",
       "    <tr style=\"text-align: right;\">\n",
       "      <th></th>\n",
       "      <th>EmpID</th>\n",
       "      <th>EmpName</th>\n",
       "      <th>Salary</th>\n",
       "    </tr>\n",
       "  </thead>\n",
       "  <tbody>\n",
       "    <tr>\n",
       "      <th>0</th>\n",
       "      <td>600</td>\n",
       "      <td>Abhishek</td>\n",
       "      <td>53218</td>\n",
       "    </tr>\n",
       "    <tr>\n",
       "      <th>1</th>\n",
       "      <td>322</td>\n",
       "      <td>Manya</td>\n",
       "      <td>52981</td>\n",
       "    </tr>\n",
       "    <tr>\n",
       "      <th>2</th>\n",
       "      <td>148</td>\n",
       "      <td>Ashish</td>\n",
       "      <td>51566</td>\n",
       "    </tr>\n",
       "    <tr>\n",
       "      <th>3</th>\n",
       "      <td>705</td>\n",
       "      <td>Ajeet</td>\n",
       "      <td>52882</td>\n",
       "    </tr>\n",
       "    <tr>\n",
       "      <th>4</th>\n",
       "      <td>330</td>\n",
       "      <td>Aman</td>\n",
       "      <td>53744</td>\n",
       "    </tr>\n",
       "  </tbody>\n",
       "</table>\n",
       "</div>"
      ],
      "text/plain": [
       "   EmpID   EmpName  Salary\n",
       "0    600  Abhishek   53218\n",
       "1    322     Manya   52981\n",
       "2    148    Ashish   51566\n",
       "3    705     Ajeet   52882\n",
       "4    330      Aman   53744"
      ]
     },
     "execution_count": 61,
     "metadata": {},
     "output_type": "execute_result"
    }
   ],
   "source": [
    "salary.head()"
   ]
  },
  {
   "cell_type": "code",
   "execution_count": 64,
   "id": "c185a0d6",
   "metadata": {},
   "outputs": [
    {
     "data": {
      "text/plain": [
       "(12, 3)"
      ]
     },
     "execution_count": 64,
     "metadata": {},
     "output_type": "execute_result"
    }
   ],
   "source": [
    "salary.shape"
   ]
  },
  {
   "cell_type": "code",
   "execution_count": 62,
   "id": "4ec10bf1",
   "metadata": {},
   "outputs": [],
   "source": [
    "incentive = pd.read_excel(\"Random_Sales_2.xlsx\",\"Incentive\")"
   ]
  },
  {
   "cell_type": "code",
   "execution_count": 63,
   "id": "49821998",
   "metadata": {},
   "outputs": [
    {
     "data": {
      "text/html": [
       "<div>\n",
       "<style scoped>\n",
       "    .dataframe tbody tr th:only-of-type {\n",
       "        vertical-align: middle;\n",
       "    }\n",
       "\n",
       "    .dataframe tbody tr th {\n",
       "        vertical-align: top;\n",
       "    }\n",
       "\n",
       "    .dataframe thead th {\n",
       "        text-align: right;\n",
       "    }\n",
       "</style>\n",
       "<table border=\"1\" class=\"dataframe\">\n",
       "  <thead>\n",
       "    <tr style=\"text-align: right;\">\n",
       "      <th></th>\n",
       "      <th>EmpID</th>\n",
       "      <th>EmpName</th>\n",
       "      <th>Incentive</th>\n",
       "    </tr>\n",
       "  </thead>\n",
       "  <tbody>\n",
       "    <tr>\n",
       "      <th>0</th>\n",
       "      <td>600</td>\n",
       "      <td>Abhishek</td>\n",
       "      <td>1162</td>\n",
       "    </tr>\n",
       "    <tr>\n",
       "      <th>1</th>\n",
       "      <td>322</td>\n",
       "      <td>Manya</td>\n",
       "      <td>1170</td>\n",
       "    </tr>\n",
       "    <tr>\n",
       "      <th>2</th>\n",
       "      <td>148</td>\n",
       "      <td>Ashish</td>\n",
       "      <td>1146</td>\n",
       "    </tr>\n",
       "    <tr>\n",
       "      <th>3</th>\n",
       "      <td>999</td>\n",
       "      <td>Eric</td>\n",
       "      <td>1137</td>\n",
       "    </tr>\n",
       "    <tr>\n",
       "      <th>4</th>\n",
       "      <td>330</td>\n",
       "      <td>Aman</td>\n",
       "      <td>1343</td>\n",
       "    </tr>\n",
       "    <tr>\n",
       "      <th>5</th>\n",
       "      <td>789</td>\n",
       "      <td>Paul</td>\n",
       "      <td>1086</td>\n",
       "    </tr>\n",
       "    <tr>\n",
       "      <th>6</th>\n",
       "      <td>245</td>\n",
       "      <td>Michelle</td>\n",
       "      <td>1021</td>\n",
       "    </tr>\n",
       "    <tr>\n",
       "      <th>7</th>\n",
       "      <td>474</td>\n",
       "      <td>Ramesh</td>\n",
       "      <td>1459</td>\n",
       "    </tr>\n",
       "    <tr>\n",
       "      <th>8</th>\n",
       "      <td>495</td>\n",
       "      <td>Somesh</td>\n",
       "      <td>1071</td>\n",
       "    </tr>\n",
       "    <tr>\n",
       "      <th>9</th>\n",
       "      <td>121</td>\n",
       "      <td>Lucas</td>\n",
       "      <td>1346</td>\n",
       "    </tr>\n",
       "  </tbody>\n",
       "</table>\n",
       "</div>"
      ],
      "text/plain": [
       "   EmpID   EmpName  Incentive\n",
       "0    600  Abhishek       1162\n",
       "1    322     Manya       1170\n",
       "2    148    Ashish       1146\n",
       "3    999      Eric       1137\n",
       "4    330      Aman       1343\n",
       "5    789      Paul       1086\n",
       "6    245  Michelle       1021\n",
       "7    474    Ramesh       1459\n",
       "8    495    Somesh       1071\n",
       "9    121     Lucas       1346"
      ]
     },
     "execution_count": 63,
     "metadata": {},
     "output_type": "execute_result"
    }
   ],
   "source": [
    "incentive"
   ]
  },
  {
   "cell_type": "code",
   "execution_count": 69,
   "id": "26783cd6",
   "metadata": {},
   "outputs": [],
   "source": [
    "# Salary -> 12 and Incentive : 10\n",
    "inner = pd.merge(left = salary, right = incentive[[\"EmpID\",\"Incentive\"]],\n",
    "                how ='inner',on = \"EmpID\")"
   ]
  },
  {
   "cell_type": "code",
   "execution_count": 70,
   "id": "7aea7076",
   "metadata": {},
   "outputs": [
    {
     "data": {
      "text/html": [
       "<div>\n",
       "<style scoped>\n",
       "    .dataframe tbody tr th:only-of-type {\n",
       "        vertical-align: middle;\n",
       "    }\n",
       "\n",
       "    .dataframe tbody tr th {\n",
       "        vertical-align: top;\n",
       "    }\n",
       "\n",
       "    .dataframe thead th {\n",
       "        text-align: right;\n",
       "    }\n",
       "</style>\n",
       "<table border=\"1\" class=\"dataframe\">\n",
       "  <thead>\n",
       "    <tr style=\"text-align: right;\">\n",
       "      <th></th>\n",
       "      <th>EmpID</th>\n",
       "      <th>EmpName</th>\n",
       "      <th>Salary</th>\n",
       "      <th>Incentive</th>\n",
       "    </tr>\n",
       "  </thead>\n",
       "  <tbody>\n",
       "    <tr>\n",
       "      <th>0</th>\n",
       "      <td>600</td>\n",
       "      <td>Abhishek</td>\n",
       "      <td>53218</td>\n",
       "      <td>1162</td>\n",
       "    </tr>\n",
       "    <tr>\n",
       "      <th>1</th>\n",
       "      <td>322</td>\n",
       "      <td>Manya</td>\n",
       "      <td>52981</td>\n",
       "      <td>1170</td>\n",
       "    </tr>\n",
       "    <tr>\n",
       "      <th>2</th>\n",
       "      <td>148</td>\n",
       "      <td>Ashish</td>\n",
       "      <td>51566</td>\n",
       "      <td>1146</td>\n",
       "    </tr>\n",
       "    <tr>\n",
       "      <th>3</th>\n",
       "      <td>330</td>\n",
       "      <td>Aman</td>\n",
       "      <td>53744</td>\n",
       "      <td>1343</td>\n",
       "    </tr>\n",
       "    <tr>\n",
       "      <th>4</th>\n",
       "      <td>474</td>\n",
       "      <td>Ramesh</td>\n",
       "      <td>50038</td>\n",
       "      <td>1459</td>\n",
       "    </tr>\n",
       "    <tr>\n",
       "      <th>5</th>\n",
       "      <td>495</td>\n",
       "      <td>Somesh</td>\n",
       "      <td>53901</td>\n",
       "      <td>1071</td>\n",
       "    </tr>\n",
       "  </tbody>\n",
       "</table>\n",
       "</div>"
      ],
      "text/plain": [
       "   EmpID   EmpName  Salary  Incentive\n",
       "0    600  Abhishek   53218       1162\n",
       "1    322     Manya   52981       1170\n",
       "2    148    Ashish   51566       1146\n",
       "3    330      Aman   53744       1343\n",
       "4    474    Ramesh   50038       1459\n",
       "5    495    Somesh   53901       1071"
      ]
     },
     "execution_count": 70,
     "metadata": {},
     "output_type": "execute_result"
    }
   ],
   "source": [
    "inner"
   ]
  },
  {
   "cell_type": "code",
   "execution_count": 74,
   "id": "42c68d24",
   "metadata": {},
   "outputs": [],
   "source": [
    "# Salary -> 12 and Incentive : 10\n",
    "left = pd.merge(left = salary, right = incentive[[\"EmpID\",\"Incentive\"]],\n",
    "                how ='left',on = \"EmpID\", indicator=True)"
   ]
  },
  {
   "cell_type": "code",
   "execution_count": 75,
   "id": "462ef28b",
   "metadata": {},
   "outputs": [
    {
     "data": {
      "text/plain": [
       "(12, 5)"
      ]
     },
     "execution_count": 75,
     "metadata": {},
     "output_type": "execute_result"
    }
   ],
   "source": [
    "left.shape"
   ]
  },
  {
   "cell_type": "code",
   "execution_count": 76,
   "id": "465ab137",
   "metadata": {},
   "outputs": [
    {
     "data": {
      "text/html": [
       "<div>\n",
       "<style scoped>\n",
       "    .dataframe tbody tr th:only-of-type {\n",
       "        vertical-align: middle;\n",
       "    }\n",
       "\n",
       "    .dataframe tbody tr th {\n",
       "        vertical-align: top;\n",
       "    }\n",
       "\n",
       "    .dataframe thead th {\n",
       "        text-align: right;\n",
       "    }\n",
       "</style>\n",
       "<table border=\"1\" class=\"dataframe\">\n",
       "  <thead>\n",
       "    <tr style=\"text-align: right;\">\n",
       "      <th></th>\n",
       "      <th>EmpID</th>\n",
       "      <th>EmpName</th>\n",
       "      <th>Salary</th>\n",
       "      <th>Incentive</th>\n",
       "      <th>_merge</th>\n",
       "    </tr>\n",
       "  </thead>\n",
       "  <tbody>\n",
       "    <tr>\n",
       "      <th>0</th>\n",
       "      <td>600</td>\n",
       "      <td>Abhishek</td>\n",
       "      <td>53218</td>\n",
       "      <td>1162.0</td>\n",
       "      <td>both</td>\n",
       "    </tr>\n",
       "    <tr>\n",
       "      <th>1</th>\n",
       "      <td>322</td>\n",
       "      <td>Manya</td>\n",
       "      <td>52981</td>\n",
       "      <td>1170.0</td>\n",
       "      <td>both</td>\n",
       "    </tr>\n",
       "    <tr>\n",
       "      <th>2</th>\n",
       "      <td>148</td>\n",
       "      <td>Ashish</td>\n",
       "      <td>51566</td>\n",
       "      <td>1146.0</td>\n",
       "      <td>both</td>\n",
       "    </tr>\n",
       "    <tr>\n",
       "      <th>3</th>\n",
       "      <td>705</td>\n",
       "      <td>Ajeet</td>\n",
       "      <td>52882</td>\n",
       "      <td>NaN</td>\n",
       "      <td>left_only</td>\n",
       "    </tr>\n",
       "    <tr>\n",
       "      <th>4</th>\n",
       "      <td>330</td>\n",
       "      <td>Aman</td>\n",
       "      <td>53744</td>\n",
       "      <td>1343.0</td>\n",
       "      <td>both</td>\n",
       "    </tr>\n",
       "    <tr>\n",
       "      <th>5</th>\n",
       "      <td>755</td>\n",
       "      <td>Raja</td>\n",
       "      <td>51008</td>\n",
       "      <td>NaN</td>\n",
       "      <td>left_only</td>\n",
       "    </tr>\n",
       "    <tr>\n",
       "      <th>6</th>\n",
       "      <td>800</td>\n",
       "      <td>Raju</td>\n",
       "      <td>54494</td>\n",
       "      <td>NaN</td>\n",
       "      <td>left_only</td>\n",
       "    </tr>\n",
       "    <tr>\n",
       "      <th>7</th>\n",
       "      <td>474</td>\n",
       "      <td>Ramesh</td>\n",
       "      <td>50038</td>\n",
       "      <td>1459.0</td>\n",
       "      <td>both</td>\n",
       "    </tr>\n",
       "    <tr>\n",
       "      <th>8</th>\n",
       "      <td>504</td>\n",
       "      <td>Suresh</td>\n",
       "      <td>50136</td>\n",
       "      <td>NaN</td>\n",
       "      <td>left_only</td>\n",
       "    </tr>\n",
       "    <tr>\n",
       "      <th>9</th>\n",
       "      <td>104</td>\n",
       "      <td>Ajeet</td>\n",
       "      <td>50013</td>\n",
       "      <td>NaN</td>\n",
       "      <td>left_only</td>\n",
       "    </tr>\n",
       "    <tr>\n",
       "      <th>10</th>\n",
       "      <td>583</td>\n",
       "      <td>Mahesh</td>\n",
       "      <td>50434</td>\n",
       "      <td>NaN</td>\n",
       "      <td>left_only</td>\n",
       "    </tr>\n",
       "    <tr>\n",
       "      <th>11</th>\n",
       "      <td>495</td>\n",
       "      <td>Somesh</td>\n",
       "      <td>53901</td>\n",
       "      <td>1071.0</td>\n",
       "      <td>both</td>\n",
       "    </tr>\n",
       "  </tbody>\n",
       "</table>\n",
       "</div>"
      ],
      "text/plain": [
       "    EmpID   EmpName  Salary  Incentive     _merge\n",
       "0     600  Abhishek   53218     1162.0       both\n",
       "1     322     Manya   52981     1170.0       both\n",
       "2     148    Ashish   51566     1146.0       both\n",
       "3     705     Ajeet   52882        NaN  left_only\n",
       "4     330      Aman   53744     1343.0       both\n",
       "5     755      Raja   51008        NaN  left_only\n",
       "6     800      Raju   54494        NaN  left_only\n",
       "7     474    Ramesh   50038     1459.0       both\n",
       "8     504    Suresh   50136        NaN  left_only\n",
       "9     104     Ajeet   50013        NaN  left_only\n",
       "10    583    Mahesh   50434        NaN  left_only\n",
       "11    495    Somesh   53901     1071.0       both"
      ]
     },
     "execution_count": 76,
     "metadata": {},
     "output_type": "execute_result"
    }
   ],
   "source": [
    "left"
   ]
  },
  {
   "cell_type": "code",
   "execution_count": 77,
   "id": "b0bfcb63",
   "metadata": {},
   "outputs": [
    {
     "data": {
      "text/plain": [
       "_merge\n",
       "left_only     6\n",
       "both          6\n",
       "right_only    0\n",
       "Name: count, dtype: int64"
      ]
     },
     "execution_count": 77,
     "metadata": {},
     "output_type": "execute_result"
    }
   ],
   "source": [
    "left._merge.value_counts()"
   ]
  },
  {
   "cell_type": "code",
   "execution_count": 79,
   "id": "c90837a5",
   "metadata": {},
   "outputs": [],
   "source": [
    "# Salary -> 12 and Incentive : 10\n",
    "right = pd.merge(left = salary[[\"EmpID\",\"Salary\"]], right = incentive,\n",
    "                how ='right',on = \"EmpID\", indicator=True)"
   ]
  },
  {
   "cell_type": "code",
   "execution_count": 80,
   "id": "2565dd6d",
   "metadata": {},
   "outputs": [
    {
     "data": {
      "text/plain": [
       "(10, 5)"
      ]
     },
     "execution_count": 80,
     "metadata": {},
     "output_type": "execute_result"
    }
   ],
   "source": [
    "right.shape"
   ]
  },
  {
   "cell_type": "code",
   "execution_count": 81,
   "id": "3c3ae206",
   "metadata": {},
   "outputs": [
    {
     "data": {
      "text/html": [
       "<div>\n",
       "<style scoped>\n",
       "    .dataframe tbody tr th:only-of-type {\n",
       "        vertical-align: middle;\n",
       "    }\n",
       "\n",
       "    .dataframe tbody tr th {\n",
       "        vertical-align: top;\n",
       "    }\n",
       "\n",
       "    .dataframe thead th {\n",
       "        text-align: right;\n",
       "    }\n",
       "</style>\n",
       "<table border=\"1\" class=\"dataframe\">\n",
       "  <thead>\n",
       "    <tr style=\"text-align: right;\">\n",
       "      <th></th>\n",
       "      <th>EmpID</th>\n",
       "      <th>Salary</th>\n",
       "      <th>EmpName</th>\n",
       "      <th>Incentive</th>\n",
       "      <th>_merge</th>\n",
       "    </tr>\n",
       "  </thead>\n",
       "  <tbody>\n",
       "    <tr>\n",
       "      <th>0</th>\n",
       "      <td>600</td>\n",
       "      <td>53218.0</td>\n",
       "      <td>Abhishek</td>\n",
       "      <td>1162</td>\n",
       "      <td>both</td>\n",
       "    </tr>\n",
       "    <tr>\n",
       "      <th>1</th>\n",
       "      <td>322</td>\n",
       "      <td>52981.0</td>\n",
       "      <td>Manya</td>\n",
       "      <td>1170</td>\n",
       "      <td>both</td>\n",
       "    </tr>\n",
       "    <tr>\n",
       "      <th>2</th>\n",
       "      <td>148</td>\n",
       "      <td>51566.0</td>\n",
       "      <td>Ashish</td>\n",
       "      <td>1146</td>\n",
       "      <td>both</td>\n",
       "    </tr>\n",
       "    <tr>\n",
       "      <th>3</th>\n",
       "      <td>999</td>\n",
       "      <td>NaN</td>\n",
       "      <td>Eric</td>\n",
       "      <td>1137</td>\n",
       "      <td>right_only</td>\n",
       "    </tr>\n",
       "    <tr>\n",
       "      <th>4</th>\n",
       "      <td>330</td>\n",
       "      <td>53744.0</td>\n",
       "      <td>Aman</td>\n",
       "      <td>1343</td>\n",
       "      <td>both</td>\n",
       "    </tr>\n",
       "    <tr>\n",
       "      <th>5</th>\n",
       "      <td>789</td>\n",
       "      <td>NaN</td>\n",
       "      <td>Paul</td>\n",
       "      <td>1086</td>\n",
       "      <td>right_only</td>\n",
       "    </tr>\n",
       "    <tr>\n",
       "      <th>6</th>\n",
       "      <td>245</td>\n",
       "      <td>NaN</td>\n",
       "      <td>Michelle</td>\n",
       "      <td>1021</td>\n",
       "      <td>right_only</td>\n",
       "    </tr>\n",
       "    <tr>\n",
       "      <th>7</th>\n",
       "      <td>474</td>\n",
       "      <td>50038.0</td>\n",
       "      <td>Ramesh</td>\n",
       "      <td>1459</td>\n",
       "      <td>both</td>\n",
       "    </tr>\n",
       "    <tr>\n",
       "      <th>8</th>\n",
       "      <td>495</td>\n",
       "      <td>53901.0</td>\n",
       "      <td>Somesh</td>\n",
       "      <td>1071</td>\n",
       "      <td>both</td>\n",
       "    </tr>\n",
       "    <tr>\n",
       "      <th>9</th>\n",
       "      <td>121</td>\n",
       "      <td>NaN</td>\n",
       "      <td>Lucas</td>\n",
       "      <td>1346</td>\n",
       "      <td>right_only</td>\n",
       "    </tr>\n",
       "  </tbody>\n",
       "</table>\n",
       "</div>"
      ],
      "text/plain": [
       "   EmpID   Salary   EmpName  Incentive      _merge\n",
       "0    600  53218.0  Abhishek       1162        both\n",
       "1    322  52981.0     Manya       1170        both\n",
       "2    148  51566.0    Ashish       1146        both\n",
       "3    999      NaN      Eric       1137  right_only\n",
       "4    330  53744.0      Aman       1343        both\n",
       "5    789      NaN      Paul       1086  right_only\n",
       "6    245      NaN  Michelle       1021  right_only\n",
       "7    474  50038.0    Ramesh       1459        both\n",
       "8    495  53901.0    Somesh       1071        both\n",
       "9    121      NaN     Lucas       1346  right_only"
      ]
     },
     "execution_count": 81,
     "metadata": {},
     "output_type": "execute_result"
    }
   ],
   "source": [
    "right"
   ]
  },
  {
   "cell_type": "code",
   "execution_count": 82,
   "id": "3216488b",
   "metadata": {},
   "outputs": [
    {
     "data": {
      "text/plain": [
       "_merge\n",
       "both          6\n",
       "right_only    4\n",
       "left_only     0\n",
       "Name: count, dtype: int64"
      ]
     },
     "execution_count": 82,
     "metadata": {},
     "output_type": "execute_result"
    }
   ],
   "source": [
    "right._merge.value_counts()"
   ]
  },
  {
   "cell_type": "code",
   "execution_count": 83,
   "id": "24f6aa84",
   "metadata": {},
   "outputs": [],
   "source": [
    "# Salary -> 12 and Incentive : 10\n",
    "full = pd.merge(left = salary[[\"EmpID\",\"Salary\"]], right = incentive,\n",
    "                how ='outer',on = \"EmpID\", indicator=True)"
   ]
  },
  {
   "cell_type": "code",
   "execution_count": 84,
   "id": "55e9d055",
   "metadata": {},
   "outputs": [
    {
     "data": {
      "text/plain": [
       "(16, 5)"
      ]
     },
     "execution_count": 84,
     "metadata": {},
     "output_type": "execute_result"
    }
   ],
   "source": [
    "full.shape"
   ]
  },
  {
   "cell_type": "code",
   "execution_count": 85,
   "id": "93bd2420",
   "metadata": {},
   "outputs": [
    {
     "data": {
      "text/plain": [
       "_merge\n",
       "left_only     6\n",
       "both          6\n",
       "right_only    4\n",
       "Name: count, dtype: int64"
      ]
     },
     "execution_count": 85,
     "metadata": {},
     "output_type": "execute_result"
    }
   ],
   "source": [
    "full._merge.value_counts()"
   ]
  },
  {
   "cell_type": "code",
   "execution_count": 86,
   "id": "c515825e",
   "metadata": {},
   "outputs": [],
   "source": [
    "# Salary -> 12 and Incentive : 10\n",
    "cross = pd.merge(left = salary[[\"EmpID\",\"Salary\"]], right = incentive,\n",
    "                how ='cross', indicator=True)"
   ]
  },
  {
   "cell_type": "code",
   "execution_count": 87,
   "id": "1b99bdd5",
   "metadata": {},
   "outputs": [
    {
     "data": {
      "text/plain": [
       "(120, 6)"
      ]
     },
     "execution_count": 87,
     "metadata": {},
     "output_type": "execute_result"
    }
   ],
   "source": [
    "cross.shape"
   ]
  },
  {
   "cell_type": "markdown",
   "id": "e9fc35bc",
   "metadata": {},
   "source": [
    "*********************** End Of Pandas ****************************"
   ]
  },
  {
   "cell_type": "markdown",
   "id": "8873a8c3",
   "metadata": {},
   "source": [
    "### Pandas Playlist:\n",
    "\n",
    "https://www.youtube.com/playlist?list=PLWuFHho1zKhUJpe9WfSyvrrQrzqDErbmv"
   ]
  },
  {
   "cell_type": "code",
   "execution_count": null,
   "id": "dca143d4",
   "metadata": {},
   "outputs": [],
   "source": []
  }
 ],
 "metadata": {
  "kernelspec": {
   "display_name": "Python 3 (ipykernel)",
   "language": "python",
   "name": "python3"
  },
  "language_info": {
   "codemirror_mode": {
    "name": "ipython",
    "version": 3
   },
   "file_extension": ".py",
   "mimetype": "text/x-python",
   "name": "python",
   "nbconvert_exporter": "python",
   "pygments_lexer": "ipython3",
   "version": "3.11.2"
  }
 },
 "nbformat": 4,
 "nbformat_minor": 5
}
